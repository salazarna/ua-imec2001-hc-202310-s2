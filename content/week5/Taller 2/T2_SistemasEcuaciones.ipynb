{
 "cells": [
  {
   "cell_type": "markdown",
   "id": "631f4357",
   "metadata": {},
   "source": [
    "**Estudiante 1:** \n",
    "<br>\n",
    "**Estudiante 2:** "
   ]
  },
  {
   "cell_type": "markdown",
   "id": "4a74a371",
   "metadata": {},
   "source": [
    "# IMEC2001 Herramientas Computacionales \n",
    "## Taller 2: Sistemas de Ecuaciones y Optimización (Parte 1)\n",
    "### Fecha Entrega sobre 5.00: <font color=\"#FF5733\"> 23:59h de Mayo 14, 2023</font>\n",
    "### Fecha Entrega sobre 4.00: <font color=\"#FF5733\"> 23:59h de Mayo 16, 2023</font>\n",
    "\n",
    "Universidad de los Andes — 14 Mayo, 2023.\n",
    "_____\n",
    "\n",
    "## Tener en Cuenta\n",
    "- Este taller tiene **dos** partes, la primera se realiza en este jupyter notebook y la segunda en excel con el enunciado que se encuentra en [github](https://github.com/salazarna/ua-imec2001-hc-202310-s1/tree/main/content/week5).\n",
    "- En la casilla anterior a esta coloque el nombre de los integrantes del grupo.\n",
    "- La entrega del taller es por Bloque Neon y se envía el archivo en formato de Jupyter Notebook (extensión `.ipynb`).\n",
    "- El nombre del archivo debe ser: `T3_Apellido Integrante 1_ Apellido Integrante 2` (si trabajó el parejas). `T3_Apellido` (si trabajó individual). Por ejemplo: `T3_SalazarPeña_VargasTorres` o `T3_VargasTorres`\n",
    "- Comente el código con el proceso que realizó para llegar a la solución.\n",
    "- A lo largo del taller se dejarán algunas casillas comentadas donde puede desarrollar el código, sin embargo, no es obligatorio que lo utilice en ese orden.\n",
    "- Solo lo envía un integrante del grupo.\n",
    "\n",
    "<div class='alert alert-block alert-danger'>   \n",
    "    \n",
    "<i class='fa fa-info-circle' aria-hidden='true'></i>\n",
    "Para poder realizar un segundo envío con correcciones, la nota del **primer envío** debe estar mínimo en **Suficiente**.\n",
    "</div>\n",
    "\n",
    "---\n",
    "\n",
    "## TABLA DE CONTENIDO\n",
    "\n",
    "### Sección 1: Sistemas de Ecuaciones Lineales [→](#section1)\n",
    "- 1.1. Librerías para Resolver Sistemas de Ecuaciones\n",
    "- 1.2. Importar Librerías\n",
    "- <font color=\"#276C9B\"> Ejercicio 1: Estática </font> [→](#exercise1)\n",
    "\n",
    "---"
   ]
  },
  {
   "attachments": {},
   "cell_type": "markdown",
   "id": "0b1a0b62",
   "metadata": {},
   "source": [
    "<a id=\"section1\"></a>\n",
    "# Semana 5: Sistemas de Ecuaciones Lineales\n",
    "\n",
    "Los sistemas de ecuaciones lineales son frecuentes en problemas de ingeniería, los ejemplos más comunes son en circuitos electronicos y estática. En ingeniería mecánica, se encuentran en diferentes problemas como resistencias térmicas y ecuaciones de equilibrio de cuerpos y partículas estáticas. Algunos de los términos y operaciones que se deben recordar de álgebra lineal son los siguientes:\n",
    "\n",
    "<b>Matriz Simétrica </b>\n",
    "$$[A] = [A]^T \\rightarrow a_{ij}=a_{ji}$$\n",
    "\n",
    "<b>Suma de Matrices </b>\n",
    "\n",
    "$[A] + [B] = [B] + [A] \\rightarrow $ Conmutativa\n",
    "\n",
    "$([A]+[B])+[C]=[A]+([B]+[C]) \\rightarrow $ Asociativa\n",
    "\n",
    "<b>Matríz Identidad [3x3]</b>\n",
    "\n",
    "$$[A]^{-1}[A] = [A][A]^{-1} = \\begin{bmatrix}\n",
    "\t1 & 0 & 0\\\\\n",
    "\t0 & 1 & 0\\\\\n",
    "\t0 & 0 & 1\\\\\n",
    "\\end{bmatrix} $$\n",
    "\n",
    "<b>Multiplicación </b>\n",
    "\n",
    "$([A][B])[C] = [A]([B][C]) \\rightarrow $ Asociativa\n",
    "\n",
    "$[A]([B]+[C]) = [A][B] + [A][C] \\rightarrow $ Distributiva\n",
    "\n",
    "$[A][B] \\neq [B][A] \\rightarrow $ No es Conmutativa\n",
    "\n",
    "Teniendo en cuenta lo anterior, se tiene que los sistemas de ecuaciones tienen la estructura $[A]{x} = {B}$ donde **$[A]$ es la matriz de los coeficientes o valores conocidos**, **$x$ las el vector columna de las incógnitas** y **B el vector columna de las constantes o de terminos independientes**.\n",
    "\n",
    "Su solución está dada por ${x} = [A]^{-1}{B}$, y se tiene que hay una única solución cuando el determinante es diferente de 0. Otros métodos para solucionar estos sistemas son: la eliminación por Gauss simple, sustitución, la regla del Crammer, entre otros.\n",
    "\n",
    "Teniendo en cuenta lo anterior, se tiene el siguiente ejercicio de estática con el siguiente sistemas de ecuaciones (Intente generarlo).\n",
    "\n",
    "<img src=\"../img/Ejercicio_1.png\" width='300' height='200'/>\n",
    "\n",
    "### Paso 1. Extracción de datos y generación del sistema de ecuaciones\n",
    "$ F_1 = 200 N $\n",
    "\n",
    "$ F_2 = 300 N $\n",
    "\n",
    "$$R_{A_{x}}=0$$\n",
    "$$R_{A_{y}}+R_{B_{y}}=F_1 + F_2$$\n",
    "$$R_{B_{y}}= F_1(0.5) + F_2(1.5)$$\n",
    "\n",
    "### Paso 2. Paso a representación matricial\n",
    "Para pasar las anteriores ecuaciones a una representación matricial:\n",
    "1. Identifique el número de variables que no están resueltas en el sistema que llamaremos $n$, en este caso se tiene $R_{A_{x}}, R_{A_{y}}, R_{B_{y}}$, es decir $n = 3$. Este será su vector de términos independientes que son los que se quieren resolver. \n",
    "2. Como ya se identificó el número de incognitas, realice una matriz nxn, lo anterior para identificar si la ecuación tiene o no el término, cada columna corresponde a una variable. Con lo anterior se puede llegar al siguiente sistema:\n",
    "\n",
    "\n",
    "$$ \\begin{bmatrix}\n",
    "\t1 & 0 & 0\\\\\n",
    "\t0 & 1 & 1\\\\\n",
    "\t0 & 0 & 1\\\\\n",
    "\\end{bmatrix} \n",
    "\\begin{Bmatrix} %Vector de términos independentes\n",
    "\tR_{A_{x}} \\\\\n",
    "\tR_{A_{y}} \\\\\n",
    "    R_{B_{y}} \\\\\n",
    "\\end{Bmatrix} = \n",
    "\\begin{Bmatrix} %Vector de términos independentes\n",
    "\t0 \\\\\n",
    "\tF_1 + F_2 \\\\\n",
    "\tF_1(0.5) + F_2(1.5)\n",
    "\\end{Bmatrix} $$\n",
    "\n",
    "Solucionando el sistema se tiene que:\n",
    "\n",
    "$$\\begin{equation} \\label{eq1}\n",
    "\\begin{split}\n",
    "R_{A_{x}} & = 0 \\\\\n",
    "R_{B_{y}} & = \\frac{F_1(0.5) + F_2(1.5)}{1} = 550 N \\\\\n",
    "R_{A_{y}} & = F_1 + F_2 - R_{B_{y}} = -50 N\n",
    "\\end{split}\n",
    "\\end{equation}$$\n",
    "\n",
    "## 1.1. Librerías para Resolver Sistemas de Ecuaciones\n",
    "\n",
    "1. [`numpy.linalg.solve`](https://numpy.org/doc/stable/reference/generated/numpy.linalg.solve.html#numpy.linalg.solve)\n",
    "2. [`numpy.linalg.det`](https://numpy.org/doc/stable/reference/generated/numpy.linalg.det.html#numpy.linalg.det)`\n",
    "3. [`scipy.optimize.fsolve`](https://docs.scipy.org/doc/scipy/reference/generated/scipy.optimize.fsolve.html)\n",
    "4. [`sympy.solve`](https://docs.sympy.org/latest/modules/solvers/solvers.html)\n",
    "\n",
    "## 1.2. Importar Librerías\n",
    "\n",
    "Para importar las librerías se utilizan las siguientes líneas de código:"
   ]
  },
  {
   "cell_type": "code",
   "execution_count": 1,
   "id": "627a9b75",
   "metadata": {},
   "outputs": [],
   "source": [
    "import numpy as np\n",
    "from numpy import linalg \n",
    "from scipy import optimize as opt\n",
    "import sympy\n",
    "from sympy import solve"
   ]
  },
  {
   "cell_type": "code",
   "execution_count": 2,
   "id": "fe039f70",
   "metadata": {},
   "outputs": [],
   "source": [
    "# Constantes del problema\n",
    "\n",
    "# Fuerzas\n",
    "F_1 = 200         # [N]\n",
    "F_2 = 300         # [N]\n",
    "\n",
    "# Distancias \n",
    "x = 0.5           # [m]\n",
    "\n",
    "# Matriz de coeficientes\n",
    "A = np.array([[1, 0, 0],\n",
    "              [0, 1, 1],\n",
    "              [0, 0, 1]])\n",
    "\n",
    "# Vector de términos independientes\n",
    "B = np.array([0, \n",
    "              F_1 + F_2, \n",
    "              F_1 * x + F_2 * 3*x])"
   ]
  },
  {
   "cell_type": "code",
   "execution_count": 3,
   "id": "a43238db",
   "metadata": {},
   "outputs": [
    {
     "name": "stdout",
     "output_type": "stream",
     "text": [
      "La solución de la componente x de A es: 0.0 N\n",
      "La solución de la componente y de A es: -50.0 N\n",
      "La solución de la componente y de B es: 550.0 N\n"
     ]
    }
   ],
   "source": [
    "# ---------------- linalg.inv ^ linalg.dot ---------------- #\n",
    "\n",
    "# 1. Inversa de la matriz\n",
    "invA = linalg.inv(A)\n",
    "\n",
    "# 2. x = [A]^{-1}[B] Solución del sistema\n",
    "sol = np.dot(invA, B)\n",
    "\n",
    "print(\"La solución de la componente x de A es: {} N\".format(sol[0]))\n",
    "print(\"La solución de la componente y de A es: {} N\".format(sol[1]))\n",
    "print(\"La solución de la componente y de B es: {} N\".format(sol[2]))"
   ]
  },
  {
   "cell_type": "code",
   "execution_count": 4,
   "id": "0d60cf08",
   "metadata": {},
   "outputs": [
    {
     "name": "stdout",
     "output_type": "stream",
     "text": [
      "La solución de la componente x de A es: 0.0 N\n",
      "La solución de la componente y de A es: -50.0 N\n",
      "La solución de la componente y de B es: 550.0 N\n"
     ]
    }
   ],
   "source": [
    "# ---------------- linalg.solve ---------------- #\n",
    "\n",
    "sol_2 = linalg.solve(A, B)\n",
    "\n",
    "print(\"La solución de la componente x de A es: {} N\".format(sol_2[0]))\n",
    "print(\"La solución de la componente y de A es: {} N\".format(sol_2[1]))\n",
    "print(\"La solución de la componente y de B es: {} N\".format(sol_2[2]))"
   ]
  },
  {
   "cell_type": "code",
   "execution_count": 5,
   "id": "87f3ac6d",
   "metadata": {},
   "outputs": [],
   "source": [
    "# ---------------- optimize ---------------- #\n",
    "\n",
    "# 1. Definir la función \n",
    "\n",
    "def f(z: list) -> np.ndarray:\n",
    "    \"\"\"\n",
    "    Función con las ecuaciones del sistema\n",
    "\n",
    "    Parameters\n",
    "    ----------\n",
    "    z : np.array\n",
    "        Vector con los valores cercanos a la raíz\n",
    "        \n",
    "    Returns\n",
    "    -------\n",
    "    valor : np.ndarray\n",
    "        Solución de las raices\n",
    "\n",
    "    \"\"\"\n",
    "    x1, x2, x3 = z\n",
    "    \n",
    "    return [x1,\n",
    "            x2 + x3 - F_1 - F_2,\n",
    "            x3 - F_1 * x - F_2 * 3*x]\n",
    "\n",
    "\n",
    "# 2. Valores cercanos a las raíz\n",
    "raices = [0, 40, 500]\n",
    "\n",
    "# 3. Solucionar sistema\n",
    "sol_1, sol_2, sol_3 = opt.fsolve(func = f, \n",
    "                                 x0 = raices)"
   ]
  },
  {
   "cell_type": "code",
   "execution_count": 6,
   "id": "cfeda870",
   "metadata": {},
   "outputs": [
    {
     "name": "stdout",
     "output_type": "stream",
     "text": [
      "La solución de la componente x de A es: 0.0 N\n",
      "La solución de la componente y de A es: -49.99999999999997 N\n",
      "La solución de la componente y de B es: 550.0 N\n"
     ]
    }
   ],
   "source": [
    "print(\"La solución de la componente x de A es: {} N\".format(sol_1))\n",
    "print(\"La solución de la componente y de A es: {} N\".format(sol_2))\n",
    "print(\"La solución de la componente y de B es: {} N\".format(sol_3))"
   ]
  },
  {
   "cell_type": "code",
   "execution_count": 7,
   "id": "e84e09ad",
   "metadata": {},
   "outputs": [
    {
     "name": "stdout",
     "output_type": "stream",
     "text": [
      "La solución de la componente x de A es: 0.0 N\n",
      "La solución de la componente y de A es: -50.0000000000000 N\n",
      "La solución de la componente y de B es: 550.000000000000 N\n"
     ]
    }
   ],
   "source": [
    "# ---------------- sympy.solve ---------------- #\n",
    "\n",
    "# Se definenen las variables, estas son las incognitas\n",
    "R_A_x = sympy.Symbol('R_A_x')\n",
    "R_A_y = sympy.Symbol('R_A_y')\n",
    "R_B_y = sympy.Symbol('R_B_y')\n",
    "\n",
    "# Definir ecuaciones\n",
    "eq1 = sympy.Eq(R_A_x, 0)\n",
    "eq2 = sympy.Eq(R_A_y + R_B_y, F_1 + F_2)\n",
    "eq3 = sympy.Eq(R_B_y, F_1 * x + F_2 * 3*x)\n",
    "\n",
    "# Solucionar sistema de ecuaciones\n",
    "sol = sympy.solve([eq1, eq2, eq3],\n",
    "                  [R_A_x, R_A_y, R_B_y])\n",
    "sol = list(sol.values())\n",
    "\n",
    "print(\"La solución de la componente x de A es: {} N\".format(sol[0]))\n",
    "print(\"La solución de la componente y de A es: {} N\".format(sol[1]))\n",
    "print(\"La solución de la componente y de B es: {} N\".format(sol[2]))"
   ]
  },
  {
   "attachments": {},
   "cell_type": "markdown",
   "id": "5b67242a",
   "metadata": {},
   "source": [
    "<a id=\"exercise1\"></a>\n",
    "# <font color=\"#276C9B\"> Ejercicio 1: Estática</font>\n",
    "****\n",
    "<div class=\"alert alert-block alert-warning\">\n",
    "    \n",
    "**1.** Con la figura mostrada, plantée el sistema de ecuaciones para determinar,la fuerza en los elementos GE, GC y BC de la armadura.\n",
    "<br>    \n",
    "**Nota:** Edite la plantilla que se encuentra a continuación.\n",
    "</div>\n",
    "\n",
    "<img src=\"../img/ejercicio_1.jpg\" width='300' height='200'/>\n"
   ]
  },
  {
   "cell_type": "markdown",
   "id": "9385723d",
   "metadata": {},
   "source": [
    "$$ \\begin{bmatrix}\n",
    "\t0 & 0 & 0 & 0 & 0 & 0\\\\\n",
    "\t0 & 0 & 0 & 0 & 0 & 0\\\\\n",
    "\t0 & 0 & 0 & 0 & 0 & 0\\\\\n",
    "    0 & 0 & 0 & 0 & 0 & 0\\\\\n",
    "    0 & 0 & 0 & 0 & 0 & 0\\\\\n",
    "    0 & 0 & 0 & 0 & 0 & 0\\\\\n",
    "\\end{bmatrix} \n",
    "\\begin{Bmatrix} %Vector de términos independentes\n",
    "\tA \\\\\n",
    "\tB \\\\\n",
    "    C \\\\\n",
    "    D \\\\\n",
    "    E \\\\\n",
    "    F \\\\\n",
    "\\end{Bmatrix} = \n",
    "\\begin{Bmatrix} %Vector de términos independentes\n",
    "\t0 \\\\\n",
    "\t0 \\\\\n",
    "\t0 \\\\\n",
    "    0 \\\\\n",
    "    0 \\\\\n",
    "    0 \\\\\n",
    "\\end{Bmatrix} $$\n"
   ]
  },
  {
   "cell_type": "markdown",
   "id": "803d90f6",
   "metadata": {},
   "source": [
    "<div class=\"alert alert-block alert-warning\">\n",
    "    \n",
    "**2.** Utilizando alguna de las librerías vistas resuelva el sistema de ecuaciones. \n",
    "</div>\n"
   ]
  },
  {
   "cell_type": "code",
   "execution_count": 8,
   "id": "bcf7369d",
   "metadata": {},
   "outputs": [],
   "source": [
    "# Constantes del problema\n",
    "\n",
    "# Ecuaciones"
   ]
  },
  {
   "cell_type": "code",
   "execution_count": 9,
   "id": "00c21318",
   "metadata": {},
   "outputs": [],
   "source": [
    "# Resolver el sistema\n"
   ]
  },
  {
   "cell_type": "code",
   "execution_count": null,
   "id": "35ecbd22",
   "metadata": {},
   "outputs": [],
   "source": []
  }
 ],
 "metadata": {
  "kernelspec": {
   "display_name": "Python 3 (ipykernel)",
   "language": "python",
   "name": "python3"
  },
  "language_info": {
   "codemirror_mode": {
    "name": "ipython",
    "version": 3
   },
   "file_extension": ".py",
   "mimetype": "text/x-python",
   "name": "python",
   "nbconvert_exporter": "python",
   "pygments_lexer": "ipython3",
   "version": "3.9.12"
  },
  "vscode": {
   "interpreter": {
    "hash": "9f12aee310b8281ef9ce2211b67f1da3216244ae69bebf1f667f53f24fdf1ef3"
   }
  }
 },
 "nbformat": 4,
 "nbformat_minor": 5
}
