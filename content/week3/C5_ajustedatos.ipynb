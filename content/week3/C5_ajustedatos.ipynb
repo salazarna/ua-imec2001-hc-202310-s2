{
 "cells": [
  {
   "attachments": {},
   "cell_type": "markdown",
   "metadata": {},
   "source": [
    "# IMEC2001 Herramientas Computacionales\n",
    "## Semana 3: Interpolación y Curva de Bomba\n",
    "### Clase 5: Ajuste de Datos\n",
    "\n",
    "Universidad de los Andes — Abril 19, 2023.\n",
    "\n",
    "---\n",
    "\n",
    "## TABLA DE CONTENIDO\n",
    "\n",
    "### Sección 1: Ajuste de Datos (Regresión OLS) [→](#section1)\n",
    "- 1.1. Cargar Librerías\n",
    "- 1.2. Mínimos Cuadrados Ordinarios (OLS)\n",
    "    - 1.2.1. Gráfica MBHP vs Masa\n",
    "    - 1.2.2. Ajuste Lineal con `numpy`\n",
    "    - 1.2.3. Ajuste Lineal con `scipy`\n",
    "    - 1.2.4. Ajuste Lineal con `sklearn`\n",
    "- 1.3. Caso Práctico\n",
    "- 1.4. Histogramas\n",
    "___"
   ]
  },
  {
   "cell_type": "markdown",
   "metadata": {},
   "source": [
    "<a id=\"section1\"></a>\n",
    "# Sección 1: Ajuste de Datos (Regresión OLS)"
   ]
  },
  {
   "cell_type": "markdown",
   "metadata": {},
   "source": [
    "## 1.1. Cargar Librerías\n",
    "\n",
    "Primero, asegurémonos de haber instalado las librerías:\n",
    "\n",
    "> ```python\n",
    "  !pip install numpy\n",
    "  !pip install sklearn\n",
    "  ```"
   ]
  },
  {
   "cell_type": "code",
   "execution_count": null,
   "metadata": {},
   "outputs": [],
   "source": [
    "# Datos y Gráficas\n",
    "%matplotlib inline\n",
    "import matplotlib.pyplot as plt\n",
    "import pandas as pd\n",
    "\n",
    "# OLS\n",
    "import numpy as np\n",
    "import scipy\n",
    "import sklearn"
   ]
  },
  {
   "cell_type": "markdown",
   "metadata": {},
   "source": [
    "## 1.2. Mínimos Cuadrados Ordinarios (OLS)\n",
    "\n",
    "Un ajuste (o <font color=\"#FF5733\">regresión</font>) es una función  $f(x)$ que se aproxima a unos datos sin que necesariamente pase sobre ellos (Vidal, 2017). Ahora bien, un ajuste lineal (o <font color=\"#FF5733\">regresión lineal</font>) busca la determinación de la ecuación de la **recta** que mejor ajusta a una distribución bidimensional (i.e., $x$ y $y$) de datos (Franco, 2016).\n",
    "\n",
    "$$\n",
    "Y = aX + b\n",
    "$$\n",
    "\n",
    "Siendo $Y$ la variable dependiente, $X$ la variable independiente, $a$ la pendiente y $b$ el intercepto con el eje vertical (i.e., eje $Y$).\n",
    "\n",
    "El método de **mínimos cuadrados ordinarios** (OLS, por sus siglas en inglés) es un ejercicio de optimización del error cuadrático $e^2$. Es decir, se minimiza la suma de cuadrados de las diferencias (llamados residuos) entre los puntos generados por la función y los correspondientes valores en los datos medidos (Wikipedia, 2021).\n",
    "\n",
    "$$\n",
    "\\sum_{i=1}^{n} e_i^2 = \\sum_{i=1}^{n} \\left( y_i - \\hat{y}_i \\right )^2\n",
    "$$\n",
    "\n",
    "<img src='./img/OLS.png' width='350'/>\n",
    "\n",
    "Figura tomada de [Cuemath - Least Squares](https://www.cuemath.com/data/least-squares/)."
   ]
  },
  {
   "cell_type": "code",
   "execution_count": null,
   "metadata": {},
   "outputs": [],
   "source": [
    "df = pd.read_excel(io='./data/engines.xlsx', \n",
    "                   sheet_name='Data')\n",
    "\n",
    "df.head()"
   ]
  },
  {
   "cell_type": "markdown",
   "metadata": {},
   "source": [
    "### 1.2.1. Gráfica MBHP vs Masa"
   ]
  },
  {
   "cell_type": "code",
   "execution_count": null,
   "metadata": {},
   "outputs": [],
   "source": [
    "hor = 8\n",
    "ver = 5\n",
    "plt.figure(figsize=(hor, ver))\n",
    "\n",
    "x = df['Mass (Kg)'].values\n",
    "y = df['Maximum Brake Horsepower (BHP)'].values\n",
    "\n",
    "plt.plot(x, y, linestyle='', marker='o', markerfacecolor='white', markeredgecolor='dodgerblue', ms=10)\n",
    "\n",
    "plt.rcParams['axes.axisbelow'] = True\n",
    "\n",
    "plt.title('Relación MBHP y Masa', fontsize=15)\n",
    "plt.ylabel('MBHP', fontsize=13)\n",
    "plt.xlabel('Masa (Kg)', fontsize=13)\n",
    "\n",
    "plt.tick_params(direction='out', length=5, width=0.75, grid_alpha=0.3)\n",
    "plt.xticks(rotation=0)\n",
    "plt.minorticks_on()\n",
    "plt.ylim(None, None)\n",
    "plt.xlim(None, None)\n",
    "plt.grid(True)\n",
    "plt.grid(visible=True, which='major', color='grey', linestyle='-')\n",
    "plt.grid(visible=True, which='minor', color='lightgrey', linestyle='-', alpha=0.2)\n",
    "#plt.legend(loc='best', fontsize=11)\n",
    "plt.tight_layout;"
   ]
  },
  {
   "cell_type": "markdown",
   "metadata": {},
   "source": [
    "Al observar la gráfica anterior, se evidencia poca linealidad entre los datos. Por ende, para conseguir una buena interpretación, se procede a obtener la respectiva relación logarítimica, es decir $log \\: \\text{MBHP}$ vs. $log \\: \\text{Masa}$.\n",
    "\n",
    "En este caso (ambos ejes con valores logarítmicos), tenemos que la pendiente $a$ y el intercepto $b$ es:\n",
    "\n",
    "$$\n",
    "Y = aX + log(b) \n",
    "$$"
   ]
  },
  {
   "cell_type": "code",
   "execution_count": null,
   "metadata": {},
   "outputs": [],
   "source": [
    "hor = 8\n",
    "ver = 5\n",
    "plt.figure(figsize=(hor, ver))\n",
    "\n",
    "x = np.log10(df['Mass (Kg)'].values)\n",
    "y = np.log10(df['Maximum Brake Horsepower (BHP)'].values)\n",
    "\n",
    "plt.plot(x, y, linestyle='', marker='o', markerfacecolor='white', markeredgecolor='dodgerblue', ms=10) #plt.plot\n",
    "\n",
    "plt.rcParams['axes.axisbelow'] = True\n",
    "\n",
    "plt.title('Relación log MBHP y log Masa', fontsize=15)\n",
    "plt.ylabel('MBHP', fontsize=13)\n",
    "plt.xlabel('Masa (Kg)', fontsize=13)\n",
    "\n",
    "plt.tick_params(direction='out', length=5, width=0.75, grid_alpha=0.3)\n",
    "plt.xticks(rotation=0)\n",
    "plt.minorticks_on()\n",
    "plt.ylim(None, None)\n",
    "plt.xlim(None, None)\n",
    "plt.grid(True)\n",
    "plt.grid(visible=True, which='major', color='grey', linestyle='-')\n",
    "plt.grid(visible=True, which='minor', color='lightgrey', linestyle='-', alpha=0.2)\n",
    "#plt.legend(loc='best', fontsize=11)\n",
    "plt.tight_layout;"
   ]
  },
  {
   "cell_type": "code",
   "execution_count": null,
   "metadata": {},
   "outputs": [],
   "source": [
    "hor = 8\n",
    "ver = 5\n",
    "plt.figure(figsize=(hor, ver))\n",
    "\n",
    "x = df['Mass (Kg)'].values\n",
    "y = df['Maximum Brake Horsepower (BHP)'].values\n",
    "\n",
    "plt.loglog(x, y, linestyle='', marker='o', markerfacecolor='white', markeredgecolor='dodgerblue', ms=10) # plt.loglog\n",
    "\n",
    "plt.rcParams['axes.axisbelow'] = True\n",
    "\n",
    "plt.title('Relación log MBHP y log Masa', fontsize=15)\n",
    "plt.ylabel('MBHP', fontsize=13)\n",
    "plt.xlabel('Masa (Kg)', fontsize=13)\n",
    "\n",
    "plt.tick_params(direction='out', length=5, width=0.75, grid_alpha=0.3)\n",
    "plt.xticks(rotation=0)\n",
    "plt.minorticks_on()\n",
    "plt.ylim(None, None)\n",
    "plt.xlim(None, None)\n",
    "plt.grid(True)\n",
    "plt.grid(visible=True, which='major', color='grey', linestyle='-')\n",
    "plt.grid(visible=True, which='minor', color='lightgrey', linestyle='-', alpha=0.2)\n",
    "#plt.legend(loc='best', fontsize=11)\n",
    "plt.tight_layout;"
   ]
  },
  {
   "cell_type": "markdown",
   "metadata": {},
   "source": [
    "¡Perfecto! Con esta transformación, ahora podemos ver que efectivamente hay una relación lineal entre las variables $\\texttt{Masa}$ y $\\texttt{MBHP}$."
   ]
  },
  {
   "cell_type": "markdown",
   "metadata": {},
   "source": [
    "### 1.2.2. Ajuste Lineal con `numpy`\n",
    "\n",
    "Una función que nos permite realizar un ajuste lineal con el método OLS es `numpy.polyfit`.\n",
    "\n",
    "La función `numpy.polyfit` permite ajustar un polinomio de grado `n` (en este caso, $n=1$) a un conjunto de puntos $(x, y)$. Esta tiene los siguientes parámetros de entrada principales:\n",
    "\n",
    "- `x` y `y`: Coordenadas del conjunto.\n",
    "- `deg`: Grado del polinomio de ajuste.\n",
    "\n",
    "<div class='alert alert-block alert-info'>   \n",
    "    \n",
    "<i class='fa fa-info-circle' aria-hidden='true'></i>\n",
    "Puede obtener más información en la documentación oficial de la librería `numpy.polyfit` dando clic [aquí](https://numpy.org/doc/stable/reference/generated/numpy.polyfit.html).\n",
    "</div>\n",
    "\n",
    "Ahora, la función `numpy.poly1d` es un buen complemento, pues se utiliza para encapsular operaciones típicas en polinomios 1D (e.g., evaluación en nuevas coordenadas o raíces).\n",
    "\n",
    "<div class='alert alert-block alert-info'>   \n",
    "    \n",
    "<i class='fa fa-info-circle' aria-hidden='true'></i>\n",
    "Puede obtener más información en la documentación oficial de la librería `numpy.poly1d` dando clic [aquí](https://numpy.org/doc/stable/reference/generated/numpy.poly1d.html).\n",
    "</div>\n",
    "\n",
    "Pero... ¿qué es un modelo lineal (o ecuación lineal)?\n",
    "\n",
    "<div class=\"alert alert-block alert-success\">\n",
    "Es una ecuación de primer grado (es decir, involucra una o más variables a la primera potencia) y no contiene productos entre las variables, es decir, la ecuación solo involucra sumas y restas de una variable a la primera potencia.\n",
    "</div>"
   ]
  },
  {
   "cell_type": "code",
   "execution_count": null,
   "metadata": {},
   "outputs": [],
   "source": [
    "# PASO 1. Asignar variables\n",
    "x_values = np.log10(df['Mass (Kg)'].values)\n",
    "y_values = np.log10(df['Maximum Brake Horsepower (BHP)'].values)\n",
    "\n",
    "# PASO 2. Ajuste polinomial (1D) de mínimos cuadrados\n",
    "coef = np.polyfit(x=x_values, y=y_values, deg=1) # Note el parámetro 'deg'\n",
    "coef"
   ]
  },
  {
   "cell_type": "code",
   "execution_count": null,
   "metadata": {},
   "outputs": [],
   "source": [
    "# PASO 3. Crear clase polinomio 1D\n",
    "poly1d_fn = np.poly1d(coef)\n",
    "print(poly1d_fn)"
   ]
  },
  {
   "cell_type": "code",
   "execution_count": null,
   "metadata": {},
   "outputs": [],
   "source": [
    "# PASO 4. Gráfica\n",
    "hor = 8\n",
    "ver = 5\n",
    "plt.figure(figsize=(hor, ver))\n",
    "\n",
    "## 4.1. Gráfica del OLS\n",
    "plt.plot(x_values,\n",
    "         poly1d_fn(x_values),\n",
    "         '--k',\n",
    "         color='crimson',\n",
    "         linewidth=1,\n",
    "         zorder=10,\n",
    "         label=(f'y = {np.round(coef[0], 2)} $\\cdot$ X + {np.round(coef[1], 2)}'))\n",
    "\n",
    "## 4.2. Gráfica de datos\n",
    "plt.plot(x_values, y_values, color='dodgerblue', ls='', marker='o', ms=10, fillstyle='none')\n",
    "\n",
    "## 5.3. Otros parámetros\n",
    "plt.rcParams['axes.axisbelow'] = True\n",
    "\n",
    "plt.title('Relación log MBHP y log Masa', fontsize=15)\n",
    "plt.ylabel('MBHP', fontsize=13)\n",
    "plt.xlabel('Masa (Kg)', fontsize=13)\n",
    "\n",
    "plt.tick_params(direction='out', length=5, width=0.75, grid_alpha=0.3)\n",
    "plt.xticks(rotation=0)\n",
    "plt.minorticks_on()\n",
    "plt.ylim(None, None)\n",
    "plt.xlim(None, None)\n",
    "plt.grid(True)\n",
    "plt.grid(visible=True, which='major', color='grey', linestyle='-')\n",
    "plt.grid(visible=True, which='minor', color='lightgrey', linestyle='-', alpha=0.2)\n",
    "plt.legend(loc='best', fontsize=11)\n",
    "plt.tight_layout;"
   ]
  },
  {
   "cell_type": "markdown",
   "metadata": {},
   "source": [
    "### 1.2.3. Ajuste Lineal con `scipy`\n",
    "\n",
    "Similar a `numpy.polyfit`, la función `scipy.stats.linregress` permite realizar la regresión por mínimos cuadrados (i.e., *OLS*) a un conjunto de mediciones. No obstante, **retorna más parámetros estadísticos de interés**.\n",
    "\n",
    "- `x` y `y`: Coordenadas del conjunto.\n",
    "\n",
    "<div class='alert alert-block alert-info'>   \n",
    "    \n",
    "<i class='fa fa-info-circle' aria-hidden='true'></i>\n",
    "Puede obtener más información en la documentación oficial de la librería `scipy.stats.linregress` dando clic [aquí](https://docs.scipy.org/doc/scipy/reference/generated/scipy.stats.linregress.html).\n",
    "</div>"
   ]
  },
  {
   "cell_type": "code",
   "execution_count": null,
   "metadata": {},
   "outputs": [],
   "source": [
    "# PASO 1. Asignar variables\n",
    "x_values = np.log10(df['Mass (Kg)'].values)\n",
    "y_values = np.log10(df['Maximum Brake Horsepower (BHP)'].values)\n",
    "\n",
    "# PASO 2. Obtener métricas estadísticas con `scipy`\n",
    "slope, intercept, r_value, p_value, std_err = scipy.stats.linregress(x_values, y_values)\n",
    "\n",
    "print(slope, intercept, r_value, p_value, std_err)"
   ]
  },
  {
   "cell_type": "markdown",
   "metadata": {},
   "source": [
    "¿Qué se puede entender del parámetro `r_value`?\n",
    "\n",
    "$R^2$ es el **coeficiente de correlación** e indica la relación entre los dos conjuntos de mediciones.\n",
    "\n",
    "<img src='./img/coeficiente_correlacion.png' width='350'/>\n",
    "\n",
    "Figura tomada de [Viva El Software Libre](https://vivaelsoftwarelibre.com/coeficiente-de-correlacion-en-r/)."
   ]
  },
  {
   "attachments": {},
   "cell_type": "markdown",
   "metadata": {},
   "source": [
    "### 1.2.4. Ajuste Lineal con `sklearn`\n",
    "\n",
    "Similar a `numpy.polyfit`, la función `sklearn.linear_model.LinearRegression` únicamente requiere las coordenadas del conjunto (`x` y `y`).\n",
    "\n",
    "<div class='alert alert-block alert-info'>   \n",
    "    \n",
    "<i class='fa fa-info-circle' aria-hidden='true'></i>\n",
    "Puede obtener más información en la documentación oficial de la librería `sklearn.linear_model.LinearRegression` dando clic [aquí](https://scikit-learn.org/stable/modules/generated/sklearn.linear_model.LinearRegression.html).\n",
    "</div>"
   ]
  },
  {
   "cell_type": "code",
   "execution_count": null,
   "metadata": {
    "scrolled": true
   },
   "outputs": [],
   "source": [
    "from sklearn.linear_model import LinearRegression\n",
    "\n",
    "# PASO 1. Asignar variables\n",
    "x_values = np.log10(df['Mass (Kg)'].values)\n",
    "y_values = np.log10(df['Maximum Brake Horsepower (BHP)'].values)\n",
    "\n",
    "x_values"
   ]
  },
  {
   "cell_type": "code",
   "execution_count": null,
   "metadata": {},
   "outputs": [],
   "source": [
    "# PASO 2. Reajuste a 2D\n",
    "x_values = np.array(x_values).reshape(-1,1)\n",
    "y_values = np.array(y_values).reshape(-1,1)\n",
    "\n",
    "x_values"
   ]
  },
  {
   "cell_type": "code",
   "execution_count": null,
   "metadata": {},
   "outputs": [],
   "source": [
    "# PASO 3. Obtener métricas estadísticas con `sklearn`\n",
    "linreg = LinearRegression().fit(x_values, y_values)\n",
    "\n",
    "print(f'Pendiente: {linreg.coef_}\\nIntercepto: {linreg.intercept_}')"
   ]
  },
  {
   "cell_type": "markdown",
   "metadata": {},
   "source": [
    "## 1.3. Actividad Clase 5: Caso Práctico\n",
    "\n",
    "<div class=\"alert alert-block alert-warning\">\n",
    "\n",
    "Queremos obtener el ajuste lineal al correlacionar las variables `Mass (Kg)` y `Displacement (cm3)`. Esta relación también es $log-log$.\n",
    "\n",
    "El paso a paso que debemos hacer es:\n",
    "1. Transformar los datos al valor logaritmo.\n",
    "2. Realizar el ajuste lineal de mínimos cuadrados (OLS).\n",
    "3. Extraer los valores de *pendiente* e *intercepto*.\n",
    "4. Estimar el valor de $R^2$.\n",
    "4. Crear la gráfica base.\n",
    "5. Agregar la línea de tendencia.\n",
    "\n",
    "</div>"
   ]
  },
  {
   "cell_type": "code",
   "execution_count": null,
   "metadata": {},
   "outputs": [],
   "source": [
    "# PASO 1. Asignar variables\n"
   ]
  },
  {
   "cell_type": "code",
   "execution_count": null,
   "metadata": {},
   "outputs": [],
   "source": [
    "# PASO 2 y 3. Obtener métricas estadísticas con `scipy`\n"
   ]
  },
  {
   "cell_type": "code",
   "execution_count": null,
   "metadata": {},
   "outputs": [],
   "source": [
    "# PASO 4. R2\n"
   ]
  },
  {
   "cell_type": "code",
   "execution_count": null,
   "metadata": {},
   "outputs": [],
   "source": [
    "# PASO 5 y 6. Gráficas\n"
   ]
  },
  {
   "cell_type": "markdown",
   "metadata": {},
   "source": [
    "## 1.4. Histogramas\n",
    "\n",
    "Los histogramas permiten visualizar la distribución de un conjunto de datos a partir de la frecuencia de los valores representados en un rango específico.\n",
    "\n",
    "Como lo vimos anteriormente, utilizamos la función `plt.bar`.\n",
    "\n",
    "<div class='alert alert-block alert-info'>   \n",
    "    \n",
    "<i class='fa fa-info-circle' aria-hidden='true'></i>\n",
    "Puede obtener más información en la documentación oficial de la librería `matplotlib.pyplot.hist` dando clic [aquí](https://matplotlib.org/stable/api/_as_gen/matplotlib.pyplot.hist.html).\n",
    "</div>"
   ]
  },
  {
   "cell_type": "code",
   "execution_count": null,
   "metadata": {},
   "outputs": [],
   "source": [
    "# Variables\n",
    "y = np.log10(df['Maximum Brake Horsepower (BHP)'].values)\n",
    "\n",
    "mu = np.round(np.mean(y), 1)\n",
    "sigma = np.round(np.std(y), 1)\n",
    "\n",
    "# Gráfica\n",
    "hor = 7\n",
    "ver = 5\n",
    "plt.figure(figsize=(hor, ver))\n",
    "\n",
    "plt.hist(y, bins=20, color='lightgrey', alpha=1) # Note el parámetro bins\n",
    "\n",
    "plt.axvline(x=mu, color='red', linestyle='--', linewidth=0.75, label=f'Promedio: {mu}') # Promedio\n",
    "plt.axvline(x=mu+sigma, color='dodgerblue', linestyle='--', linewidth=0.75, label=f'$\\mu + \\sigma$: {mu+sigma}') # +Desviación\n",
    "plt.axvline(x=mu-sigma, color='dodgerblue', linestyle='--', linewidth=0.75, label=f'$\\mu - \\sigma$: {mu-sigma}') # -Desviación\n",
    "\n",
    "plt.rcParams['axes.axisbelow'] = True\n",
    "\n",
    "plt.title('Histograma MBHP', fontsize=15);\n",
    "plt.ylabel('Frecuencia', fontsize=13);\n",
    "plt.xlabel('Magnitud (hp)', fontsize=13);\n",
    "\n",
    "plt.tick_params(direction='out', length=5, width=0.75, grid_alpha=0.3)\n",
    "plt.xticks(rotation=0)\n",
    "plt.ylim(None, None)\n",
    "plt.xlim(None, None)\n",
    "plt.grid(True)\n",
    "plt.legend(loc='best', bbox_to_anchor=(1,1), fontsize=11)\n",
    "plt.tight_layout;"
   ]
  },
  {
   "cell_type": "markdown",
   "metadata": {},
   "source": [
    "¿Qué interpretación le damos a este histograma?"
   ]
  }
 ],
 "metadata": {
  "kernelspec": {
   "display_name": "hc",
   "language": "python",
   "name": "python3"
  },
  "language_info": {
   "codemirror_mode": {
    "name": "ipython",
    "version": 3
   },
   "file_extension": ".py",
   "mimetype": "text/x-python",
   "name": "python",
   "nbconvert_exporter": "python",
   "pygments_lexer": "ipython3",
   "version": "3.11.0"
  },
  "toc": {
   "base_numbering": 1,
   "nav_menu": {},
   "number_sections": false,
   "sideBar": true,
   "skip_h1_title": true,
   "title_cell": "Table of Contents",
   "title_sidebar": "Contents",
   "toc_cell": false,
   "toc_position": {},
   "toc_section_display": true,
   "toc_window_display": false
  }
 },
 "nbformat": 4,
 "nbformat_minor": 2
}
