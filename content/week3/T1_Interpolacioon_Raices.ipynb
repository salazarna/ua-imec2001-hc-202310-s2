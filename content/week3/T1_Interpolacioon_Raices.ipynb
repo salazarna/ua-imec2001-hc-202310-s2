{
 "cells": [
  {
   "cell_type": "markdown",
   "id": "631f4357",
   "metadata": {},
   "source": [
    "**Estudiante 1:** \n",
    "<br>\n",
    "**Estudiante 2:** "
   ]
  },
  {
   "attachments": {},
   "cell_type": "markdown",
   "id": "4a74a371",
   "metadata": {},
   "source": [
    "# IMEC2001 Herramientas Computacionales \n",
    "## Taller 1: Interpolación – Raíces\n",
    "### Fecha Entrega Sobre 5.00: <font color=\"#FF5733\"> 23:59h de Abril 30, 2023</font>\n",
    "### Fecha Entrega Sobre 4.00: <font color=\"#FF5733\"> 23:59h de Mayo 2, 2023</font>\n",
    "\n",
    "Universidad de los Andes — Abril 19, 2023.\n",
    "___\n",
    "\n",
    "## Tener en Cuenta\n",
    "\n",
    "- En la casilla anterior a esta coloque el nombre de los integrantes del grupo.\n",
    "- La entrega del taller es por Bloque Neon y se envía el archivo en formato de Jupyter Notebook (extensión `.ipynb`).\n",
    "- El nombre del archivo debe ser: `T3_Apellido Integrante 1_ Apellido Integrante 2` (si trabajó el parejas). `T3_Apellido` (si trabajó individual). Por ejemplo: `T3_SalazarPeña_VargasTorres` o `T3_VargasTorres`\n",
    "- Comente el código con el proceso que realizó para llegar a la solución.\n",
    "- A lo largo del taller se dejarán algunas casillas comentadas donde puede desarrollar el código, sin embargo, no es obligatorio que lo utilice en ese orden.\n",
    "\n",
    "<div class='alert alert-block alert-danger'>   \n",
    "    \n",
    "<i class='fa fa-info-circle' aria-hidden='true'></i>\n",
    "Para poder realizar un segundo envío con correcciones, la nota del **primer envío** debe estar mínimo en **Aprendiz**.\n",
    "</div>\n",
    "\n",
    "---\n",
    "\n",
    "## TABLA DE CONTENIDO\n",
    "\n",
    "### Sección 1: Interpolación – Curva de una Bomba [→](#section1)\n",
    "- 1.1. Polinomio Interpolador de Lagrange y Fenómeno de Runge\n",
    "- 1.2. Interpolaciones con la Librería `scipy.interpolate`\n",
    "- 1.3. Importar Librerías\n",
    "- 1.4. Polinomio Interpolador de Lagrange\n",
    "- <font color=\"#276C9B\"> Ejercicio 1: Interpolación Curva Bombas </font> [→](#exercise1)\n",
    "\n",
    "### Sección 2: Raíces – Solución de Ecuaciones No Lineales [→](#section2)\n",
    "- 2.1. Método de Bisección\n",
    "- 2.2. Encontrar Raíces con la Librería `scipy.optimize.root_scalar`\n",
    "- 2.3. Importar Librerías\n",
    "- 2.4. Método de Newton\n",
    "- 2.5. Raíces de Dos Ecuaciones y Dos Variables\n",
    "- <font color=\"#276C9B\"> Ejercicio 2: Raíces </font> [→](#exercise2)\n",
    "\n",
    "---"
   ]
  },
  {
   "cell_type": "markdown",
   "id": "541e43ea",
   "metadata": {},
   "source": [
    "<a id=\"section1\"></a>\n",
    "# Sección 1: Interpolación – Curva de una Bomba\n",
    "\n",
    "En algunos problemas de ingeniería, se requiere **extraer diferentes datos que no están expresados con una función explícita**.\n",
    "\n",
    "En este caso, para resolver diversos problemas de flujo interno (por ejemplo, tuberías) se requiere hacer un ajuste de curva o bien una interpolación para conocer los puntos intermedios. En este módulo se explorarán las herramientas de interpolación de la librería ``SciPy``.\n",
    "\n",
    "<div class=\"alert alert-block alert-info\">\n",
    "    \n",
    "<i class=\"fa fa-info-circle\" aria-hidden=\"true\"></i>\n",
    "Puede obtener más información en la documentación oficial de la librería dando [clic aquí](https://docs.scipy.org/doc/scipy/reference/interpolate.html).\n",
    "</div>\n",
    "\n",
    "<br>\n",
    "\n",
    "El ejemplo de este taller se basa en las curvas de desempeño de las bombas, en donde la cabeza del sistema de bombeo depende del caudal al que esté operando la bomba en ciertas velocidades angulares específicas. A continuación se puede ver un ejemplo del libro de Mecánica de Fluidos de White (disponible en **Bloque Neón > Contenido > Semana 3 > Lecturas**):\n",
    "\n",
    "<img src=\"./img/bomba.png\" width=\"500\" height=\"600\">\n",
    "\n",
    "Las líneas color rosa hacen referencia a la relación de cabeza y caudal; las líneas negras a eficiencia de la bomba a determinadas condiciones; y la línea gruesa (NPSH) es la cabeza mínima del sistema para un funcionamiento adecuado sin **cavitación**.\n",
    "\n",
    "<div class=\"alert alert-block alert-info\">\n",
    "    \n",
    "<i class=\"fa fa-info-circle\" aria-hidden=\"true\"></i>\n",
    "Se sugiere ver el video explicativo de las curvas de las bombas dando [clic aquí](https://www.youtube.com/watch?v=wz20Ug5t5c0).\n",
    "</div>\n",
    "\n",
    "<br>\n",
    "\n",
    "---\n",
    "\n",
    "<div class=\"alert alert-block alert-success\">\n",
    "    \n",
    "El propósito de este taller es poder realizar una interpolación de las diferentes gráficas y visualizarlas utilizando las herramientas vistas en clase, para así poder tener una idea de cómo funcionan las diferentes técnicas de interpolación. En este caso utilizaremos el método de lagrange y los splines o trazadores.\n",
    "</div>\n",
    "\n",
    "<br>\n",
    "\n",
    "## 1.1. Polinomio Interpolador de Lagrange y Fenómeno de Runge\n",
    "\n",
    "Una de las técnicas más populares para pequeñas bases de datos es el polinomio interpolador de Lagrange, que toma $n$ puntos en ambos ejes y aproxima un polinomio de grado $n-1$ que hace un ajuste a la curva.\n",
    "\n",
    "Por ejemplo, si se toman 3 puntos, se aproxima a una parábola. Es importante tener en cuenta que si se toman muchos puntos, por ejemplo 5 o 6, el método puede presentar grandes errores, algo conocido como el fenómeno de Runge. A continuación se podrá entender cómo funciona este método y cómo evitar los diferentes errores. \n",
    "\n",
    "Una expresión matemática que nos ayuda a entender el comportamiento de un interpolador de Lagrange es la siguiente, dada una cantidad de puntos $k+1$ aproximada a una función $L(x)$:\n",
    "\n",
    "$$ L(x) = \\sum\\limits_{j = 0}^ k y_j \\times \\prod_{m \\neq j}^{k} \\frac{x-x_m}{x_j - x_m}$$\n",
    "\n",
    "El error de Runge que se tiene está descrito como \n",
    "$$R_n=f[x,x_n,x_{n-1},...,x_0]\\prod_{i=0}^n(x-x_i)$$"
   ]
  },
  {
   "cell_type": "code",
   "execution_count": 1,
   "id": "f58eb738",
   "metadata": {},
   "outputs": [],
   "source": [
    "# Importar las librerías\n",
    "import numpy as np\n",
    "import matplotlib.pyplot as plt"
   ]
  },
  {
   "cell_type": "code",
   "execution_count": 2,
   "id": "fb8fa868",
   "metadata": {},
   "outputs": [],
   "source": [
    "def formato_grafica(ax, fig, titulo= \"\", x_label= \"\", y_label= \"\", xl_i = None, xl_u = None, yl_i = None, yl_u = None):\n",
    "    ax.set_title(titulo)\n",
    "    ax.set_xlabel(x_label)\n",
    "    ax.set_ylabel(y_label)\n",
    "    \n",
    "    ax.tick_params(direction='out', length=5, width=0.75, grid_alpha=0.3)\n",
    "#     ax.set_xticklabels(ax.get_xticks(), rotation = 0)\n",
    "#     ax.set_yticklabels(ax.get_yticks(), rotation = 0)\n",
    "    ax.set_xlim(xl_i, xl_u)\n",
    "    ax.set_ylim(yl_i, yl_u)\n",
    "    ax.legend(loc='best', fontsize= 7)\n",
    "    ax.grid(True)\n",
    "    ax.grid(visible=True, which='major', color='grey', linestyle='-')\n",
    "    ax.minorticks_on()\n",
    "    ax.grid(visible=True, which='minor', color='lightgrey', linestyle='-', alpha=0.2)\n",
    "    fig.tight_layout()"
   ]
  },
  {
   "cell_type": "markdown",
   "id": "50e95df6",
   "metadata": {},
   "source": [
    "A continuación se muestra la implementación del método de Lagrange:\n",
    "\n",
    "$$\n",
    "L(x) = \\sum\\limits_{j = 0}^ k y_j \\times \\prod_{m \\neq j}^{k} \\frac{x-x_m}{x_j - x_m}\n",
    "$$"
   ]
  },
  {
   "cell_type": "code",
   "execution_count": 3,
   "id": "8a5d5807",
   "metadata": {},
   "outputs": [],
   "source": [
    "def productoria(X_arreglo: np.array, i: np.array, x_init: np.array)-> np.array:\n",
    "    \"\"\"\n",
    "    Función que calcula la productoria\n",
    "\n",
    "    Parameters\n",
    "    ----------\n",
    "    X_arreglo : np.array\n",
    "        Array con los valores originales \n",
    "    i : np.array\n",
    "        Identificador del i de la función productoria [#! Recuerde que i != j] \n",
    "    x_init : np.array\n",
    "        Array con los valores de los que se quiere encontrar la interpolación\n",
    "\n",
    "    Returns\n",
    "    -------\n",
    "    valor : np.array\n",
    "        Valores para cada punto. \n",
    "\n",
    "    \"\"\"\n",
    "    n = len(X_arreglo) # Todos los datos que conocemos\n",
    "    valor = 1 # Valor original para la multiplicación\n",
    "    for j in range(n):\n",
    "        if j != i: # Comprobación de que el i sea diferente al j en las posiciones\n",
    "            valor *= (x_init - X_arreglo[j])/(X_arreglo[i] - X_arreglo[j]) # Productoria\n",
    "    return valor\n",
    "\n",
    "def interp_lagrange(X: np.array, Y: np.array, x_inter: np.array) -> np.array:\n",
    "    \"\"\"\n",
    "    Función que implementa la interpolación de Lagrange\n",
    "\n",
    "    Parameters\n",
    "    ----------\n",
    "    X : np.array\n",
    "        Array de los valores originales en x\n",
    "    Y : np.array\n",
    "        Array de los valores originales en y\n",
    "    x_inter : np.array\n",
    "        Array con los valores de los que se quiere encontrar la interpolación\n",
    "\n",
    "    Returns\n",
    "    -------\n",
    "    valor : np.array\n",
    "        Array con los puntos interpolados \n",
    "\n",
    "    \"\"\"\n",
    "    valor = 0 # Valor inicial para empezar a sumar\n",
    "    for i in range(len(X)):\n",
    "        valor += productoria(X, i, x_inter) * Y[i]    \n",
    "    return valor"
   ]
  },
  {
   "cell_type": "code",
   "execution_count": 4,
   "id": "63794ea2",
   "metadata": {},
   "outputs": [
    {
     "data": {
      "image/png": "[encoded data removed]",
      "text/plain": [
       "<Figure size 576x360 with 1 Axes>"
      ]
     },
     "metadata": {
      "needs_background": "light"
     },
     "output_type": "display_data"
    }
   ],
   "source": [
    "# Ejemplo datos a interpolar utilizando las funciones anteriormente implementadas\n",
    "\n",
    "# Puntos originales\n",
    "x_int = np.linspace(-4, 4, 5) # 3 puntos, entonces se toma un polinomio de orden 2\n",
    "y_int = x_int**3\n",
    "\n",
    "# Datos a interpolar\n",
    "x_inter = np.linspace(-4, 4, 20)\n",
    "y_res = interp_lagrange(x_int,y_int, x_inter)\n",
    "\n",
    "# Gráfica \n",
    "hor = 8\n",
    "ver = 5\n",
    "fig, ax = plt.subplots(figsize=(hor, ver))\n",
    "\n",
    "ax.plot(x_int, y_int, label = \"Datos Originales\")\n",
    "ax.plot(x_inter, y_res, label = \"Datos Interpolados\")\n",
    "formato_grafica(ax, fig, x_label=\"X\", y_label=\"Y\")"
   ]
  },
  {
   "cell_type": "markdown",
   "id": "ba2e2873",
   "metadata": {},
   "source": [
    "El polinomio interpolador de Lagrange funciona perfectamente para una parábola.\n",
    "\n",
    "<br>\n",
    "\n",
    "Ahora se puede analizar qué pasa si se se tiene una función más compleja."
   ]
  },
  {
   "cell_type": "code",
   "execution_count": 5,
   "id": "9afeee69",
   "metadata": {},
   "outputs": [
    {
     "data": {
      "image/png": "[encoded data removed]",
      "text/plain": [
       "<Figure size 576x360 with 1 Axes>"
      ]
     },
     "metadata": {
      "needs_background": "light"
     },
     "output_type": "display_data"
    }
   ],
   "source": [
    "def f(x): return 1/(1+5*x**3)\n",
    "\n",
    "x_exp = np.linspace(-1,1,100)\n",
    "y_exp = f(x_exp)\n",
    "\n",
    "# Puntos a interpolar mal\n",
    "x_intmal = np.linspace(-1,1,10)\n",
    "y_intmal = f(x_intmal)\n",
    "y_resmal = interp_lagrange(x_intmal,y_intmal,x_exp)\n",
    "\n",
    "# Gráfica \n",
    "hor = 8\n",
    "ver = 5\n",
    "fig, ax = plt.subplots(figsize=(hor, ver))\n",
    "\n",
    "ax.plot(x_exp, y_exp, label = \"Datos Originales\")\n",
    "ax.plot(x_intmal, y_intmal, 'o', label = \"Puntos escogidos\")\n",
    "ax.plot(x_exp, y_resmal, 'r--', label = \"Datos interpolados\")\n",
    "formato_grafica(ax, fig, x_label=\"X\", y_label=\"Y\")"
   ]
  },
  {
   "cell_type": "markdown",
   "id": "9f4a5642",
   "metadata": {},
   "source": [
    "Lo anterior evidencia el error de Runge que se comentó anteriormente. No siempre es conveniente usar un interpolador de Lagrange para funciones complejas, más aun cuando se requiere utilizar otros métodos computacionales.\n",
    "\n",
    "## 1.2. Interpolaciones con la Librería `scipy.interpolate`\n",
    "\n",
    "Ya que se conoce la lógica detrás del método numérico para uno de los métodos más comunes de interpolación, se pasa a utilizar una de las librerías que se encuentra en Python, esto permite no solamente realizar las operaciones de manera rápida sino eficiente ya que no siempre se tiene el tiempo para implementar el método numérico. \n",
    "\n",
    "1. Interpolación polinómica [[``.interp1d``](https://docs.scipy.org/doc/scipy/reference/generated/scipy.interpolate.interp1d.html#scipy.interpolate.interp1d)] \n",
    "3. Interpolación Lagrange   [[``.lagrange``](https://docs.scipy.org/doc/scipy/reference/generated/scipy.interpolate.lagrange.html#scipy.interpolate.lagrange)]\n",
    "4. Interpolación Splines    [[``.splev``](https://docs.scipy.org/doc/scipy/reference/generated/scipy.interpolate.splev.html#scipy.interpolate.splev)] [[``.splev``]](https://docs.scipy.org/doc/scipy/reference/generated/scipy.interpolate.splrep.html#scipy.interpolate.splrep) \n",
    "\n",
    "## 1.3. Importar Librerías\n",
    "\n",
    "Para importar la librería se utiliza la siguiente línea de código:\n",
    "\n",
    "```python\n",
    "from scipy import interpolate as inter\n",
    "```\n",
    "\n",
    "<div class=\"alert alert-block alert-info\">\n",
    "    \n",
    "<i class=\"fa fa-info-circle\" aria-hidden=\"true\"></i>\n",
    "En este caso el alias es `inter`, pero lo puede cambiar por uno diferente sin que sea `int`, ya que este es un tipo de dato reservado de Python.\n",
    "</div>"
   ]
  },
  {
   "cell_type": "code",
   "execution_count": 6,
   "id": "abb537ed",
   "metadata": {},
   "outputs": [],
   "source": [
    "from scipy import interpolate as inter \n",
    "\n",
    "def graficas(x_exp: np.array, y_exp: np.array, x_intmal: np.array, y_intmal: np.array, x_res, y_res, ax) -> None:\n",
    "    \"\"\"\n",
    "    Realiza la gráfica con los datos experimentales (dados inicialmente), los interpolados\n",
    "\n",
    "    Parameters\n",
    "    ----------\n",
    "    x_exp : np.array\n",
    "        Datos en x del comportamiento de la función real.\n",
    "    y_exp : np.array\n",
    "        Datos en y del comportamiento de la función real.\n",
    "    x_intmal : np.array\n",
    "        Datos en x iniciales o conocidos.\n",
    "    y_intmal : np.array\n",
    "        Datos en y iniciales o conocidos.\n",
    "    x_res : np.array\n",
    "        Datos en x iniciales o conocidos.\n",
    "    y_res : np.array\n",
    "        Resultado de la interpolación\n",
    "    ax : axis\n",
    "        Eje en donde se colocan las gráficas.\n",
    "        \n",
    "    Returns\n",
    "    -------\n",
    "    Retorna la gráfica de la interpolación \n",
    "    \n",
    "    \"\"\"\n",
    "    \n",
    "    hor = 8\n",
    "    ver = 5\n",
    "\n",
    "    plt.figure(figsize=(hor, ver))\n",
    "\n",
    "    ax.plot(x_exp, y_exp, label = \"Datos Originales\")\n",
    "    ax.plot(x_intmal, y_intmal, 'o', label = \"Puntos escogidos\")\n",
    "    ax.plot(x_res, y_res, 'r--', label = \"Datos interpolados\")\n",
    "    ax.tick_params(direction='out', length=5, width=0.75, grid_alpha=0.3)\n",
    "    ax.grid(True)\n",
    "    ax.grid(visible=True, which='major', color='grey', linestyle='-')\n",
    "    ax.minorticks_on()\n",
    "    ax.grid(visible=True, which='minor', color='lightgrey', linestyle='-', alpha=0.2)\n",
    "    ax.legend(loc='best', fontsize=11)"
   ]
  },
  {
   "cell_type": "code",
   "execution_count": 7,
   "id": "9bc0f1b2",
   "metadata": {},
   "outputs": [
    {
     "data": {
      "image/png": "[encoded data removed]",
      "text/plain": [
       "<Figure size 432x288 with 1 Axes>"
      ]
     },
     "metadata": {
      "needs_background": "light"
     },
     "output_type": "display_data"
    },
    {
     "data": {
      "text/plain": [
       "<Figure size 576x360 with 0 Axes>"
      ]
     },
     "metadata": {},
     "output_type": "display_data"
    }
   ],
   "source": [
    "def f(x): return (4*x**3-100*x+6)\n",
    "\n",
    "# Función real\n",
    "x_real = np.linspace(0, 5, 100) \n",
    "y_real = f(x_real)\n",
    "\n",
    "# Datos para interpolar\n",
    "x_int = np.linspace(0, 5, 5)\n",
    "y_int = f(x_int)\n",
    "\n",
    "# Bono 1\n",
    "# ¿Los límites de una interpolación (en general) cuáles son?\n",
    "# El dato inicial y final, si se sale de estos se está realizando una extrapolación\n",
    "\"\"\"\n",
    "Pasos:\n",
    "1. Se asigna a una variable la función inter.interp1d con los datos \n",
    "   en x y en y que se quieren interpolar.\n",
    "2. Se llama la función con los x de los que se quiere saber su valor\n",
    "\"\"\"\n",
    "interp_lineal = inter.interp1d(x_int, y_int, kind='linear') \n",
    "y_fun_int = interp_lineal(x_int)\n",
    "\n",
    "fig, ax = plt.subplots()\n",
    "\n",
    "graficas(x_real, y_real, x_int, y_int, x_int, y_fun_int, ax)\n",
    "ax.set_title(r'Interpolación función $4x^4-100x+6$')\n",
    "plt.show()"
   ]
  },
  {
   "cell_type": "markdown",
   "id": "8ba5138a",
   "metadata": {},
   "source": [
    "Los datos interpolados no se ven tan bien como la curva original (curva color azul), esto se debe a que se está utilizando una interpolación lineal (los puntos se unen con lineas).  "
   ]
  },
  {
   "cell_type": "markdown",
   "id": "60998ca3",
   "metadata": {},
   "source": [
    "<div class=\"alert alert-block alert-warning\">\n",
    "\n",
    "**Bono 2**\n",
    "\n",
    "1. Identifique el mínimo número de puntos que hacen que la interpolación anterior (curva color roja) se vea como la curva original (curva color azul).\n",
    "</div>\n",
    "RTA: 12"
   ]
  },
  {
   "cell_type": "code",
   "execution_count": 8,
   "id": "254b0140",
   "metadata": {},
   "outputs": [
    {
     "data": {
      "text/plain": [
       "Text(0, 0.5, '$f(x)$')"
      ]
     },
     "execution_count": 8,
     "metadata": {},
     "output_type": "execute_result"
    },
    {
     "data": {
      "image/png": "[encoded data removed]",
      "text/plain": [
       "<Figure size 432x288 with 1 Axes>"
      ]
     },
     "metadata": {
      "needs_background": "light"
     },
     "output_type": "display_data"
    },
    {
     "data": {
      "text/plain": [
       "<Figure size 576x360 with 0 Axes>"
      ]
     },
     "metadata": {},
     "output_type": "display_data"
    }
   ],
   "source": [
    "# Función real\n",
    "x_real = np.linspace(0, 5, 100) \n",
    "y_real = f(x_real)\n",
    "\n",
    "# Datos para interpolar\n",
    "min_num = 12\n",
    "x_int = np.linspace(0, 5, min_num) # Se cambia el número de puntos que se consideran\n",
    "y_int = f(x_int)\n",
    "\n",
    "\"\"\"\n",
    "Pasos:\n",
    "1. Se asigna a una variable la función inter.interp1d con los datos \n",
    "   en x y en y que se quieren interpolar.\n",
    "2. Se llama la función con los x de los que se quiere saber su valor\n",
    "\"\"\"\n",
    "\n",
    "interp_lineal = inter.interp1d(x_int, y_int, kind='linear') \n",
    "y_fun_int = interp_lineal(x_int)\n",
    "\n",
    "fig, ax = plt.subplots()\n",
    "\n",
    "graficas(x_real, y_real, x_int, y_int, x_int, y_fun_int, ax)\n",
    "ax.set_title('Interpolación función $f(x) = 4x^4-100x+6$', fontsize=15)\n",
    "ax.set_xlabel('x', fontsize=7)\n",
    "ax.set_ylabel('$f(x)$', fontsize=7)"
   ]
  },
  {
   "cell_type": "markdown",
   "id": "ea3ba86a",
   "metadata": {},
   "source": [
    "Con las dos gráficas anteriores se evidencia que se tiene un mejor ajuste cuando se cuenta con más puntos. Una de las referencias donde pueden encontrar más información sobre la interpolación con polinomios es el libro <font color=\"blue\">Métodos Numéticos para ingenieros de Steven C. Chapla y Raymon P. Canale</font>."
   ]
  },
  {
   "cell_type": "markdown",
   "id": "5ddcd397",
   "metadata": {},
   "source": [
    "## 1.4. Polinomio Interpolador de Lagrange\n",
    "\n",
    "Ya implementado el método numérico, se mira en la librería `SciPy` si existe una función que nos permita realizar el procedimiento, para esto utilizaremos el método [`scipy.interpolate.lagrange`](https://docs.scipy.org/doc/scipy/reference/generated/scipy.interpolate.lagrange.html#scipy.interpolate.lagrange).\n",
    "\n",
    "<br>\n",
    "\n",
    "Este método realiza el mismo procedimiento, como parámetros se tiene las coordenadas de $x$ y de $y$, este retorna explicitamente el polinomio de Lagrange, por lo cual se utilizará de la librería numpy [`numpy.polynomial.polynomial`](https://numpy.org/doc/stable/reference/routines.polynomials.html) la cual toma los coeficientes del resultado de la función anterior y después para cada uno de los puntos opera, encontrando su respectivo valor de $y$.\n",
    "\n",
    "<br>\n",
    "\n",
    "A continuación se muestra un ejemplo de cómo se puede implementar:"
   ]
  },
  {
   "cell_type": "code",
   "execution_count": 9,
   "id": "6f9fad37",
   "metadata": {},
   "outputs": [
    {
     "data": {
      "text/plain": [
       "Text(0.5, 1.0, 'Interpolación función $4x^4-100x+6$')"
      ]
     },
     "execution_count": 9,
     "metadata": {},
     "output_type": "execute_result"
    },
    {
     "data": {
      "image/png": "[encoded data removed]",
      "text/plain": [
       "<Figure size 432x288 with 1 Axes>"
      ]
     },
     "metadata": {
      "needs_background": "light"
     },
     "output_type": "display_data"
    },
    {
     "data": {
      "text/plain": [
       "<Figure size 576x360 with 0 Axes>"
      ]
     },
     "metadata": {},
     "output_type": "display_data"
    }
   ],
   "source": [
    "from numpy.polynomial.polynomial import Polynomial\n",
    "\n",
    "def f(x):\n",
    "    return 4*x**3 -100*x + 6\n",
    "\n",
    "x_int = np.linspace(0, 5, 10) \n",
    "y_int = f(x_int)\n",
    "lag_poly = inter.lagrange(x_int, y_int)\n",
    "\n",
    "polim = Polynomial(lag_poly.coef[::-1])\n",
    "\n",
    "x_nuevo = np.linspace(0, 5, 100)\n",
    "y_nuevo = polim(x_nuevo)\n",
    "\n",
    "fig, ax = plt.subplots()\n",
    "\n",
    "graficas(x_real, y_real, x_int, y_int, x_nuevo, y_nuevo, ax)\n",
    "\n",
    "ax.set_title(r'Interpolación función $4x^4-100x+6$')"
   ]
  },
  {
   "cell_type": "markdown",
   "id": "916ebc67",
   "metadata": {},
   "source": [
    "<a id=\"exercise1\"></a>\n",
    "# <font color=\"#276C9B\"> Ejercicio 1: Interpolación Curva Bombas </font>\n",
    "\n",
    "## <font color=\"#276C9B\"> Punto 1 </font>\n",
    "\n",
    "<img src=\"./img/bomba.png\" width=\"500\" height=\"600\">\n",
    "\n",
    "A partir de las curvas características de una bomba (curvas color rosado que relacionan cabeza y caudal), realice los siguientes pasos:\n",
    "\n",
    "<div class=\"alert alert-block alert-warning\">\n",
    "    \n",
    "**1.** Cree dos funciones en donde en cada una utilice una de las librerías vistas en clase o las que se encuentran en el enunciado del taller (`interp1d`, `splev`, `Polynomial`, etc). Cada función debe ser un interpolador diferente.\n",
    "</div>\n",
    "\n",
    "A continuación se encuentra un ejemplo del formato que se debe utilizar junto con dos ejemplos de las posibles librerías que se pueden utilizar:\n",
    "\n",
    "``` Python\n",
    "def fun_1(param_1: tipo, param_2: tipo, ....)-> tipo que se retorna:\n",
    "    \"\"\"\n",
    "    Descripción de la función\n",
    "\n",
    "    Parameters\n",
    "    ----------\n",
    "    param_1 : tipo\n",
    "        Descripción del parámetro\n",
    "    param_2 : tipo\n",
    "        Descripción del parámetro\n",
    "\n",
    "    Returns\n",
    "    -------\n",
    "    variable : tipo\n",
    "        Descripción de la variable \n",
    "    \"\"\"\n",
    "    Variables y operaciones con el método polynomial\n",
    "```\n",
    "\n",
    "``` Python\n",
    "def fun_2(param_1: tipo, param_2: tipo, ....)-> tipo que se retorna:\n",
    "    \"\"\"\n",
    "    Descripción de la función \n",
    "\n",
    "    Parameters\n",
    "    ----------\n",
    "    param_1 : tipo\n",
    "        Descripción del parámetro\n",
    "    param_2 : tipo\n",
    "        Descripción del parámetro\n",
    "\n",
    "    Returns\n",
    "    -------\n",
    "    variable : tipo\n",
    "        Descripción de la variable \n",
    "    \"\"\"\n",
    "    Variables y operaciones con el método interp1d\n",
    "```"
   ]
  },
  {
   "cell_type": "code",
   "execution_count": 10,
   "id": "76a0073e",
   "metadata": {},
   "outputs": [],
   "source": [
    "# Importar librerías "
   ]
  },
  {
   "cell_type": "code",
   "execution_count": 11,
   "id": "ad9bb9cf",
   "metadata": {},
   "outputs": [],
   "source": [
    "# ================= Creación funciones ================= #\n"
   ]
  },
  {
   "cell_type": "markdown",
   "id": "34b6ea14",
   "metadata": {},
   "source": [
    "## <font color=\"#276C9B\"> Punto 2 </font>\n",
    "<div class=\"alert alert-block alert-warning\">\n",
    "    \n",
    "**2.** Escoja dos curvas características de la bomba (una debe ser la de $\\emptyset$ 41) y tome para cada una 4 puntos como mínimo.\n",
    "</div>\n",
    "\n",
    "## <font color=\"#276C9B\"> Punto 3 </font>\n",
    "<div class=\"alert alert-block alert-warning\">\n",
    "    \n",
    "\n",
    "**3.** Con las funciones realizadas anteriormente interpole los datos, por cada curva utilice una función diferente.\n",
    "</div>\n",
    "\n",
    "Por ejemplo: `fun_1` $\\rightarrow$ datos de $\\emptyset$ 35, y `fun_2` $\\rightarrow$ datos de $\\emptyset$ 38."
   ]
  },
  {
   "cell_type": "code",
   "execution_count": 12,
   "id": "48764cc8",
   "metadata": {},
   "outputs": [],
   "source": [
    "# Puntos Curvas\n"
   ]
  },
  {
   "cell_type": "markdown",
   "id": "1a24663c",
   "metadata": {},
   "source": [
    "## <font color=\"#276C9B\"> Punto 4 </font>\n",
    "\n",
    "<div class=\"alert alert-block alert-warning\">\n",
    "    \n",
    "**4.** Presente un `pandas.DataFrame` con los datos interpolados para cada curva.\n",
    "</div>"
   ]
  },
  {
   "cell_type": "code",
   "execution_count": 13,
   "id": "3a9d8924",
   "metadata": {},
   "outputs": [],
   "source": [
    "# Datos interpolados\n"
   ]
  },
  {
   "cell_type": "markdown",
   "id": "d6314585",
   "metadata": {},
   "source": [
    "## <font color=\"#276C9B\"> Punto 5 </font>\n",
    "\n",
    "<div class=\"alert alert-block alert-warning\">\n",
    "    \n",
    "**5.** Realice los pasos anteriores para **una** de las curvas de BHP (puede tomar las siguientes: 1000 o 1250 bhp). Solo utilice una de las funciones realizadas.\n",
    "</div>"
   ]
  },
  {
   "cell_type": "code",
   "execution_count": 17,
   "id": "b34da65b",
   "metadata": {},
   "outputs": [],
   "source": [
    "# Puntos Curva"
   ]
  },
  {
   "cell_type": "markdown",
   "id": "d95a4fdf",
   "metadata": {},
   "source": [
    "## <font color=\"#276C9B\"> Punto 6 </font>\n",
    "\n",
    "<div class=\"alert alert-block alert-warning\">\n",
    "    \n",
    "**6.** Realice una gráfica con la interpolación de ambas curvas. En la misma figura deben graficarse los puntos que escogió.\n",
    "</div>"
   ]
  },
  {
   "cell_type": "code",
   "execution_count": 1,
   "id": "5dbf1633",
   "metadata": {},
   "outputs": [],
   "source": [
    "# --------------- Gráficas --------------- #"
   ]
  },
  {
   "cell_type": "markdown",
   "id": "00e6087d",
   "metadata": {},
   "source": [
    "---\n",
    "<a id=\"section2\"></a>\n",
    "# Sección 2: Raíces – Solución de Ecuaciones No Lineales\n",
    "\n",
    "En problemas de ingeniería, es importante conocer las diferentes herramientas que permiten solucionar ecuaciones que en el papel pueden ser complejas o incluso imposibles de solucionar. \n",
    "\n",
    "En algunos casos las ecuaciones que se manejan no son lineales (es decir, tienen exponentes, raices, funciones trigonométricas). Un ejemplo de lo anterior es un polinomio.\n",
    "\n",
    "$$\n",
    "f(x) = ax^2 + bx + c\n",
    "$$\n",
    "\n",
    "\n",
    "Para solucionarla por lo general se utiliza la ecuación cuadrática.\n",
    "\n",
    "$$\n",
    "x = \\frac{-b+-\\sqrt{b^2-4ac}}{2a}\n",
    "$$\n",
    "\n",
    "En esta se buscan las <b>raíces</b> de la ecuación, es decir, **qué valores de $x$ hacen que la ecuación sea igual a 0**. Para el caso anterior, es posible calcular su valor con un lápiz y un papel, pero para ecuaciones como $ \\sin^2{(x - 3)} = \\cos{(2x)}$ la solución se vuelve poco trivial. \n",
    "\n",
    "Algunos de los métodos que se utilizan para solucionar este problema son:\n",
    "1. **Método gráfico.**\n",
    "2. **Métodos Cerrados:** Se seleccionan límites en donde se sabe que se encuentra la raíz, siempre obtiene la raíz. \n",
    "    - Bisección\n",
    "    - Falsa posición\n",
    "\n",
    "\n",
    "3. **Métodos Abiertos:** Pueden requerir más valores para la búsqueda, y el intervalo elegido no necesariamente contiene la raíz, por lo cual no siempre convergen.  \n",
    "    - Iteración simple\n",
    "    - Newton-Raphson\n",
    "    - Secante\n",
    "\n",
    "## 2.1. Método de Bisección\n",
    "\n",
    "Este método necesita dos parámetros $x_l$ y $x_u$ siendo estos los límites inferior y superior respectivamente. Como se mencionó anteriormente se necesita saber el intervalo en donde se encuentra la solución. El algoritmo de solución es el siguiente: \n",
    "\n",
    "1. Se seleccionan los límites [$x_l$ y $x_u$]\n",
    "2. Se calcula un valor promedio entre los dos intervalos \n",
    "\n",
    "$$\n",
    "x_r = \\frac{x_u + x_l}{2}\n",
    "$$\n",
    "\n",
    "\n",
    "3. Se determina un nuevo intervalo de busqueda. Este paso depende de $x_r$, $x_u$ y $x_l$, ya que se mira el <b>signo</b> de cada una de estas variables. Como se muestra en la siguiente figura, lo que se quiere es acercarse al eje x para así encontrar la raíz.\n",
    "<figure>\n",
    "<img src='./img/ejemplificacion_biseccion.jpg' width=\"400\" height=\"500\">\n",
    "<figcaption><center> <k>Ramírez R, F. (2022). 4. Raíces de ecuaciones. Modelación y Análisis Numérico ICYA 2001</k></center></figcaption>\n",
    "</figure>\n",
    "\n",
    "El error que se calcula entre las iteraciones está dado por:\n",
    "\n",
    "$$\\varepsilon_a = \\frac{x_{i+1}-x_i}{x_{i+1}}$$\n",
    "\n",
    "Dependiendo del resultado de la multiplicación entre $f(x_u)$ y $f(x_r)$ y $f(x_l)$ y $f(x_r)$ se seleccionan nuevos límites y se vuelve a repetir el proceso, esto con el fin de acercarse al punto de la raíz.\n",
    "\n",
    "<div class=\"alert alert-block alert-warning\">\n",
    "\n",
    "**Bono 3**\n",
    "    \n",
    "Responda las siguientes preguntas:\n",
    "\n",
    "**1.** ¿Qué pasa si se multiplica $f(x_u)$ y $f(x_r)$ para la imágen de la izquierda?\n",
    "\n",
    "**2.** ¿Qué pasa si se multiplica $f(x_l)$ y $f(x_r)$ para la imágen de la derecha?\n",
    "</div>\n",
    "\n",
    "Respuestas:\n",
    "1. Su producto es negativo por lo cual se identifica que cambia el intervalo de búsqueda\n",
    "2. Su producto es negativo por lo cual se identifica que cambia el intervalo de búsqueda"
   ]
  },
  {
   "cell_type": "code",
   "execution_count": 22,
   "id": "742ce782",
   "metadata": {},
   "outputs": [
    {
     "data": {
      "text/plain": [
       "'La solución es: 0.5668366476893425'"
      ]
     },
     "execution_count": 22,
     "metadata": {},
     "output_type": "execute_result"
    }
   ],
   "source": [
    "# Implementación método de bisección \n",
    "\n",
    "import math\n",
    "\n",
    "x_l = 0               # Límite inferior\n",
    "x_u = 1               # Límite superior \n",
    "n = 100               # Número de iteraciones\n",
    "tol = 10**-8          # Tolerancia \n",
    "\n",
    "def f(x: float) -> float:\n",
    "    \"\"\"\n",
    "    Evaluación de x en la función\n",
    "\n",
    "    Parameters\n",
    "    ----------\n",
    "    x : float\n",
    "        Valor que se evalúa.\n",
    "\n",
    "    Returns\n",
    "    -------\n",
    "    float\n",
    "        Resultado de la operación\n",
    "\n",
    "    \"\"\"\n",
    "    return math.sin(x-3)**2 - math.cos(2*x)\n",
    "\n",
    "# Bono 4: ¿Qué hace el término de tolerancia y cómo se relaciona con el error?  \n",
    "# RTA: Es el valor mínimo que uno está dispuesto a aceptar\n",
    "\n",
    "def biseccion(x_l: float, x_u: float, n: float= 100, tol : float= 10**-8) -> float:\n",
    "    \"\"\"\n",
    "    Función que implementa el método de bisección \n",
    "    \n",
    "    Parameters\n",
    "    ----------\n",
    "    x_l : float\n",
    "        Límite inferior.\n",
    "    x_u : float\n",
    "         Límite superior.\n",
    "    n : float, optional\n",
    "        Número de iteraciones. The default is 100.\n",
    "    tol : float, optional\n",
    "        Tolerancia. The default is 10**-8.\n",
    "\n",
    "    Returns\n",
    "    -------\n",
    "    float\n",
    "        Aproximación a la raíz de la ecuación.\n",
    "\n",
    "    \"\"\"\n",
    "    if f(x_l)*f(x_u)<0:\n",
    "        for i in range(n):\n",
    "            x_r = (x_l + x_u)/2\n",
    "            if f(x_l) * f(x_r) < 0:\n",
    "                x_u = x_r\n",
    "            else: \n",
    "                x_l = x_r\n",
    "            xrp1 = (x_l + x_u) / 2\n",
    "            error = abs((xrp1-x_r)/xrp1)\n",
    "            if error<tol:\n",
    "                break\n",
    "        return x_r\n",
    "    \n",
    "\"La solución es: \" + format(biseccion(x_l, x_u, n, tol))"
   ]
  },
  {
   "cell_type": "markdown",
   "id": "5592b1ba",
   "metadata": {},
   "source": [
    "Con la solución generada, ahora se mira el método gráfico, la herramienta utilizada para generar la gráfica fue [desmos](https://www.desmos.com/calculator?lang=es).\n",
    "\n",
    "<img src='./img/Raiz_Desmos.jpg' width=\"400\" height=\"500\">"
   ]
  },
  {
   "cell_type": "markdown",
   "id": "8f9b6f33",
   "metadata": {},
   "source": [
    "## 2.2. Encontrar Raíces con la Librería `scipy.optimize.root_scalar`\n",
    "\n",
    "Ya conociendo la lógica de los métodos que encuentran las raíces dada una función, se pasa a utilizar las librerías que ofrece Python realizando así las operaciones de forma más rápida y en este variar entre métodos cambiando solo un parámetro denntro de las funcion. Para los efectos de este taller se utilizarán los siguientes [`métodos`](https://docs.scipy.org/doc/scipy/reference/generated/scipy.optimize.root_scalar.html#scipy.optimize.root_scalar):\n",
    "\n",
    "- **Método de bisección (`bisect`)**. Los parámetros son: función, límites, método.\n",
    "- **Método de Newton (`newton`)**. Losparámetros son: función, valor inicial, derivada de la función, método.\n",
    "- **Método de Secante (`secant`)**.\n",
    "\n",
    "<div class=\"alert alert-block alert-info\">\n",
    "    \n",
    "<i class=\"fa fa-info-circle\" aria-hidden=\"true\"></i>\n",
    "Puede obtener más información en la documentación oficial de la librería dando [clic aquí](https://docs.scipy.org/doc/scipy/reference/interpolate.html).\n",
    "</div>\n",
    "\n",
    "\n",
    "## 2.3. Importar Librerías\n",
    "\n",
    "Para importar la librería se utiliza la siguiente línea de código:\n",
    "\n",
    "```python\n",
    "from scipy import optimize as opt\n",
    "```\n",
    "\n",
    "<div class=\"alert alert-block alert-info\">\n",
    "    \n",
    "<i class=\"fa fa-info-circle\" aria-hidden=\"true\"></i>\n",
    "En este caso el alias es `opt`, pero lo puede cambiar por uno diferente sin que sea `int`, ya que este es un tipo de dato reservado de Python.\n",
    "</div>"
   ]
  },
  {
   "cell_type": "code",
   "execution_count": 23,
   "id": "d036f380",
   "metadata": {},
   "outputs": [
    {
     "data": {
      "text/plain": [
       "      converged: True\n",
       "           flag: 'converged'\n",
       " function_calls: 41\n",
       "     iterations: 39\n",
       "           root: 0.5668366475638322"
      ]
     },
     "execution_count": 23,
     "metadata": {},
     "output_type": "execute_result"
    }
   ],
   "source": [
    "from scipy import optimize as opt\n",
    "from sympy import *\n",
    "\n",
    "# ======================= Método bisección ======================= #\n",
    "\n",
    "# Función f que se definió anteriormente\n",
    "sol = opt.root_scalar(f, bracket=[0, 1], method = 'bisect')\n",
    "sol"
   ]
  },
  {
   "cell_type": "code",
   "execution_count": 24,
   "id": "43584b55",
   "metadata": {},
   "outputs": [
    {
     "name": "stdout",
     "output_type": "stream",
     "text": [
      "¿La solución convergió? True\n",
      "Número de iteraciones: 39\n",
      "Resultado raíz: 0.5668366475638322\n"
     ]
    }
   ],
   "source": [
    "# Para obtener datos espeficicos se utiliza lo siguiente\n",
    "\n",
    "print(\"¿La solución convergió? {}\".format(sol.converged))\n",
    "print(\"Número de iteraciones: {}\".format(sol.iterations))\n",
    "print(\"Resultado raíz: {}\".format(sol.root))"
   ]
  },
  {
   "cell_type": "markdown",
   "id": "28f5adb8",
   "metadata": {},
   "source": [
    "## 2.4. Método de Newton\n",
    "\n",
    "Este método toma la derivada de la función que se quiere evaluar y con esta se calcula el siguiente punto. \n",
    "\n",
    "$$\n",
    "x_{i+1}=x_i-\\frac{f(x_i)}{f'(x_i)}\n",
    "$$\n",
    "\n",
    "Sin embargo, en casos como los siguientes el método no puede converger o llegar a una solución:\n",
    "- Punto de inflexión cerca de la raíz.\n",
    "- Cuando hay saltos hacia otra raíz.\n",
    "- Cuándo la derivada es igual a 0.\n",
    "- Cuando hay oscilaciones al rededor de un óptimo.\n",
    "\n",
    "Para utilizarlo, se debe poder conocer su derivada y se recomienda graficarlo antes ya que no garantiza que se encuentre una raíz. Para su implementación se utilizará en el parámetro `method = 'newton'`."
   ]
  },
  {
   "cell_type": "code",
   "execution_count": 25,
   "id": "313ec14c",
   "metadata": {},
   "outputs": [
    {
     "data": {
      "text/latex": [
       "$\\displaystyle 6 x - 1$"
      ],
      "text/plain": [
       "6*x - 1"
      ]
     },
     "execution_count": 25,
     "metadata": {},
     "output_type": "execute_result"
    }
   ],
   "source": [
    "from sympy import *\n",
    "import matplotlib.pyplot as plt\n",
    "import numpy as np\n",
    "\n",
    "# ======================= Método Newton ======================= #\n",
    "\n",
    "# Se expresa como variables simbólicas (muy utilizado en Matlab)\n",
    "x = Symbol('x') # Symbol de la librería sympy\n",
    "f_n = 3*x**2 - x\n",
    "diff_f = f_n.diff(x)\n",
    "diff_f"
   ]
  },
  {
   "cell_type": "code",
   "execution_count": 26,
   "id": "030271da",
   "metadata": {},
   "outputs": [
    {
     "data": {
      "text/plain": [
       "<function _lambdifygenerated(x)>"
      ]
     },
     "execution_count": 26,
     "metadata": {},
     "output_type": "execute_result"
    }
   ],
   "source": [
    "# Se pasa a un formato en donde se pueda operar x\n",
    "f_n = lambdify(x, f_n)\n",
    "diff_f = lambdify(x, diff_f)\n",
    "diff_f"
   ]
  },
  {
   "cell_type": "code",
   "execution_count": 27,
   "id": "37d29af3",
   "metadata": {},
   "outputs": [
    {
     "data": {
      "image/png": "[encoded data removed]",
      "text/plain": [
       "<Figure size 432x360 with 1 Axes>"
      ]
     },
     "metadata": {
      "needs_background": "light"
     },
     "output_type": "display_data"
    }
   ],
   "source": [
    "# Gráfica\n",
    "hor = 6\n",
    "ver = 5\n",
    "\n",
    "fig, ax = plt.subplots(figsize=(hor, ver))\n",
    "\n",
    "x = np.linspace(-0.3, 0.6, 100)\n",
    "y = f_n(x)\n",
    "\n",
    "ax.plot(x, y, label='$f(x)$')\n",
    "\n",
    "formato_grafica(ax, fig, r'$3x^2-x$', '$x$', '$f(x)$')"
   ]
  },
  {
   "cell_type": "markdown",
   "id": "4fdba6d3",
   "metadata": {},
   "source": [
    "La función $3x^2-x$ tienen dos raices (hay dos valores de $x$ en donde $f(x) = 0$.\n",
    "\n",
    "El método de Newton necesita un valor inicial por parámetro tanto en su implementación desde 0 como con la librería, note que en el siguiente código este puede dar una raíz o la otra dependiendo del $x_0$ que se utilice."
   ]
  },
  {
   "cell_type": "code",
   "execution_count": 28,
   "id": "8065ab3d",
   "metadata": {},
   "outputs": [
    {
     "data": {
      "text/plain": [
       "      converged: True\n",
       "           flag: 'converged'\n",
       " function_calls: 22\n",
       "     iterations: 11\n",
       "           root: 0.5668366464036539"
      ]
     },
     "execution_count": 28,
     "metadata": {},
     "output_type": "execute_result"
    }
   ],
   "source": [
    "sol_2 = opt.root_scalar(f, x0 = 0.4, fprime = diff_f,  method='newton')\n",
    "sol_2"
   ]
  },
  {
   "cell_type": "code",
   "execution_count": 29,
   "id": "3963990f",
   "metadata": {},
   "outputs": [
    {
     "data": {
      "text/plain": [
       "      converged: True\n",
       "           flag: 'converged'\n",
       " function_calls: 62\n",
       "     iterations: 31\n",
       "           root: -0.6609495080166972"
      ]
     },
     "execution_count": 29,
     "metadata": {},
     "output_type": "execute_result"
    }
   ],
   "source": [
    "sol_2 = opt.root_scalar(f, x0 = 0.1, fprime = diff_f,  method='newton')\n",
    "sol_2"
   ]
  },
  {
   "cell_type": "code",
   "execution_count": 30,
   "id": "7903a969",
   "metadata": {},
   "outputs": [
    {
     "name": "stdout",
     "output_type": "stream",
     "text": [
      "¿La solución convergió? True\n",
      "Número de iteraciones: 4\n",
      "Resultado raíz: 0.5668366475637197\n"
     ]
    }
   ],
   "source": [
    "# Utilizando el f del ejemplo de bisección \n",
    "\n",
    "x = Symbol('x')\n",
    "f = sin(x-3)**2 - cos(2*x)\n",
    "diff_f = f.diff(x)\n",
    "\n",
    "# Se pasa a un formato en donde se pueda operar x\n",
    "f = lambdify(x, f)\n",
    "diff_f = lambdify(x, diff_f)\n",
    "\n",
    "sol_2 = opt.root_scalar(f, x0 = 0.6, fprime = diff_f,  method='newton')\n",
    "\n",
    "# Resultados\n",
    "print(\"¿La solución convergió? {}\".format(sol_2.converged))\n",
    "print(\"Número de iteraciones: {}\".format(sol_2.iterations))\n",
    "print(\"Resultado raíz: {}\".format(sol_2.root))"
   ]
  },
  {
   "cell_type": "markdown",
   "id": "0de55cb6",
   "metadata": {},
   "source": [
    "Note que el método de Newton tiene un menor número de iteraciones, esto se debe a que la ecuación que se utiliza parte de las series de Taylor. Puede leer más de esto en el libro <font color=\"blue\">Métodos Numéticos para ingenieros de Steven C. Chapla y Raymon P. Canale</font>.\n",
    "\n",
    "----\n",
    "\n",
    "## 2.5. Raíces de Dos Ecuaciones y Dos Variables\n",
    "\n",
    "Se quiere resolver el siguiente sistema de ecuaciones que tiene dos variables, tome $x = x_0$ y $y = x_1$, esto por la notación de la función de la librería. \n",
    "\n",
    "$$ (x_0 + 3) (x_1^3 - 7) = -18 $$\n",
    "\n",
    "$$ \\sin{(x_1 e^{x_0} - 1)} = 0 $$\n",
    "\n",
    "La lógica detrás de lo anterior consiste en encontrar el punto de intersección entre las dos ecuaciones, para esto se igualan las ecuaciones a 0, después de lo anterior se introducen en la función ``fsolve``.\n",
    "\n",
    "**Pasos:**\n",
    "1. Importar la librería: ``from scipy.optimize import fsolve``.\n",
    "2. Definir la función que se va a evaluar. <font color=\"red\">¡OJO! se utiliza la notación de arriba `x = x[0]` y `y = x[1]` </font>. \n",
    "3. Llamar el método `fsolve`, entra por parámetro la función definida anteriormente y los valores iniciales $x$, y en el caso 2D como primeras aproximaciones."
   ]
  },
  {
   "cell_type": "code",
   "execution_count": 31,
   "id": "5d052dbb",
   "metadata": {},
   "outputs": [
    {
     "name": "stdout",
     "output_type": "stream",
     "text": [
      "Solución en x: 1.1335348765179664e-13\n",
      "Solución en y: 0.9999999999991627\n"
     ]
    },
    {
     "name": "stderr",
     "output_type": "stream",
     "text": [
      "C:\\Users\\malej\\AppData\\Local\\Temp\\ipykernel_25552\\3727360652.py:15: RuntimeWarning: invalid value encountered in power\n",
      "  y_1 = (-18/(x + 3) + 7)**(1 / 3)\n"
     ]
    },
    {
     "data": {
      "image/png": "[encoded data removed]",
      "text/plain": [
       "<Figure size 648x432 with 1 Axes>"
      ]
     },
     "metadata": {
      "needs_background": "light"
     },
     "output_type": "display_data"
    }
   ],
   "source": [
    "from scipy.optimize import fsolve\n",
    "\n",
    "def f(x):\n",
    "    return [(x[0] + 3) * (x[1]**3 - 7) + 18,\n",
    "            math.sin(x[1] * math.exp(x[0])-1)]\n",
    "\n",
    "root = fsolve(func=f,\n",
    "              x0= [-0.5, 0.5])\n",
    "\n",
    "# Resultados\n",
    "print(\"Solución en x: {}\".format(root[0]))\n",
    "print(\"Solución en y: {}\".format(root[1]))\n",
    "\n",
    "x = np.linspace(-0.5, 1, 100)\n",
    "y_1 = (-18/(x + 3) + 7)**(1 / 3)\n",
    "y_2 = 1 / np.exp(x)\n",
    "\n",
    "# Gráfica\n",
    "hor = 9\n",
    "ver = 6\n",
    "fig, ax = plt.subplots(figsize=(hor, ver))\n",
    "\n",
    "plt.plot(x, y_1, label = r'$(x_0 + 3)\\times (x_1^3 - 7) = -18$')\n",
    "plt.plot(x, y_2, label = r'$sin{(x_1 e^{x_0} - 1)}$')\n",
    "\n",
    "formato_grafica(ax, fig, \"\", '$x$', '$f(x)$')\n",
    "\n",
    "\n",
    "# Aparece un error es normal por los valores que está calculando. "
   ]
  },
  {
   "cell_type": "markdown",
   "id": "09987203",
   "metadata": {},
   "source": [
    "<div class=\"alert alert-block alert-warning\">\n",
    "\n",
    "**Bono 5**\n",
    "    \n",
    "**1.** ¿Cuál es la raíz cuando se tienen dos ecuaciones o dos gráficas? \n",
    "\n",
    "**2.** ¿Cuál cuando se tiene solo una ecuación?\n",
    "</div>\n",
    "\n",
    "1. El intercepto\n",
    "2. El cruce de la gráfica con el eje x en 0"
   ]
  },
  {
   "cell_type": "markdown",
   "id": "27ec717e",
   "metadata": {},
   "source": [
    "<a id=\"exercise2\"></a>\n",
    "# <font color=\"#276C9B\"> Ejercicio 2: Raíces </font>\n",
    "\n",
    "En la interpolación del [**Ejercicio 1**](#exercise1) se puede ver que se tiene un problema de raíces entre la curva característica (relación de cabeza y caudal), y la curva de potencia (bhp).\n",
    "\n",
    "<div class=\"alert alert-block alert-warning\">\n",
    "    \n",
    "A partir de los datos de la curva de $\\emptyset$ 41 que obtuvo anteriormente,  encuentre las raíces existentes del siguiente conjunto de ecuaciones:\n",
    "\n",
    "1. Ecuación que describe la curva característica de $\\emptyset$ 41:\n",
    "\n",
    "$$y = 325.2872 - 0.19295x - 0.02337x^2 -0.00408x^3$$\n",
    "\n",
    "<br>\n",
    "\n",
    "2. Ecuación que describe la curva correspondiente a **bhp = 1000**:\n",
    "\n",
    "$$y = 423.719798- 12.13779x$$\n",
    "\n",
    "<br>\n",
    "\n",
    "3. Ecuación que describe la curva correspondiente a **bhp = 1250**:\n",
    "\n",
    "$$y = 461.564997 - 11.65112x$$\n",
    " \n",
    "    \n",
    "**Nota**: No debe graficar, solo encontrar los valores de la raíz\n",
    "</div>"
   ]
  },
  {
   "cell_type": "code",
   "execution_count": null,
   "id": "93414389",
   "metadata": {},
   "outputs": [],
   "source": []
  },
  {
   "cell_type": "code",
   "execution_count": null,
   "id": "f6b6717d",
   "metadata": {},
   "outputs": [],
   "source": []
  }
 ],
 "metadata": {
  "kernelspec": {
   "display_name": "Python 3 (ipykernel)",
   "language": "python",
   "name": "python3"
  },
  "language_info": {
   "codemirror_mode": {
    "name": "ipython",
    "version": 3
   },
   "file_extension": ".py",
   "mimetype": "text/x-python",
   "name": "python",
   "nbconvert_exporter": "python",
   "pygments_lexer": "ipython3",
   "version": "3.9.12"
  }
 },
 "nbformat": 4,
 "nbformat_minor": 5
}
