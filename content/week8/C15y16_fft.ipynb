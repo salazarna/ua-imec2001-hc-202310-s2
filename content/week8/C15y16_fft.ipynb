{
 "cells": [
  {
   "cell_type": "markdown",
   "metadata": {},
   "source": [
    "# IMEC2001 Herramientas Computacionales \n",
    "## Semana 8: Transformada Rápida de Fourier (FFT)\n",
    "### Clase 15: FFT\n",
    "\n",
    "Universidad de los Andes — Mayo 24 y 26, 2023.\n",
    "\n",
    "---\n",
    "\n",
    "## TABLA DE CONTENIDO\n",
    "\n",
    "### Sección 1: FFT [→](#section1)\n",
    "- 1.1. Introducción\n",
    "- 1.2. Cargar Librerías\n",
    "- 1.3. Ejemplo 1: Datos Medidos\n",
    "    - 1.3.1. Señal 1\n",
    "    - 1.3.2. Señal 4\n",
    "    - 1.3.3. Señal 5\n",
    "- 1.4. Ejemplo 2: Audio\n",
    "\n",
    "### Sección 2: Sistemas Dinámicos [→](#section2)\n",
    "- 2.1. Introducción\n",
    "- 2.2. Ejemplo 1: Péndulo Simple\n",
    "- 2.3. Ejemplo 2: Péndulo Simple + Fricción + Fuerza Externa\n",
    "___"
   ]
  },
  {
   "cell_type": "markdown",
   "metadata": {},
   "source": [
    "<a id=\"section1\"></a>\n",
    "# Sección 1: FFT"
   ]
  },
  {
   "cell_type": "markdown",
   "metadata": {},
   "source": [
    "## 1.1. Introducción\n",
    "\n",
    "La onda de una señal en el tiempo se puede describir a partir de los siguientes parámetros:\n",
    "- Amplitud $A_m$.\n",
    "- Frecuencia angular $\\omega$.\n",
    "- Ángulo de fase $\\phi$.\n",
    "\n",
    "Así, la ecuación que la describe es:\n",
    "\n",
    "$$\n",
    "s(t) = A_m \\cdot \\sin (\\omega t + \\phi)\n",
    "$$\n",
    "\n",
    "Al ver gráficamente el comportamiento de la señal, es más sencillo entender su **periodo** $T$ que la frecuencia angular $\\omega$. Luego, tenemos la siguiente relación:\n",
    "\n",
    "$$\n",
    "\\omega = \\frac{2 \\pi}{T}\n",
    "$$\n",
    "\n",
    "<img src='./img/señal.png' width='500' height='500'/>\n",
    "\n",
    "Pero, qué sucede si tenemos varias ondas juntas en la misma señal en el tiempo, ¿cómo las podemos describir?\n",
    "\n",
    "<img src='./img/señal_tiempo.png' width='500' height='500'/>\n",
    "\n",
    "Aquí entra en escena la **Transformada Discreta de Fourier** (DFT, por sus siglas en inglés). Este es un algoritmo que transforma una función matemática en otra, obteniendo una representación en el dominio de la frecuencia, siendo la función original una función en el dominio del tiempo.\n",
    "\n",
    "La representación en el dominio de la frecuencia es la descripción descompuesta de la onda de la señal original, es decir, descompone una señal en sus componentes espectrales individuales y así proporciona información sobre su composición. \n",
    "\n",
    "La representación matemática de la señal original es:\n",
    "\n",
    "$$\n",
    "f(t) = A_0 + A_1 \\sin(\\omega t + \\phi_1) + A_2 \\sin(2 \\omega t + \\phi_2) + ... + A_n \\sin(n \\omega t + \\phi_n)\n",
    "$$\n",
    "\n",
    "Para llegar a esta solución, debemos conocer:\n",
    "- El periodo $T$ de la señal.\n",
    "- La cantidad de datos $N$ requeridos para comlpetar cada periodo.\n",
    "- La frecuencia de muestreo (también llamado el *paso de frecuencias* o *resolución de frecuencias*), determinado como $\\Delta f = 1/T$.\n",
    "- La frecuencia circular $\\omega = 2 \\pi / T$.\n",
    "\n",
    "La **Transformada Rápida de Fourier** (FFT, por sus siglas en inglés) es un algoritmo que reduce considerablemente el tiempo de cálculo de la DFT.\n",
    "\n",
    "Aprovecharemos la librería `scipy.fft` para comprender de forma práctica y eficiente qué es la FFT y cómo la podemos aplicar al trabajar con señales en el tiempo.\n",
    "\n",
    "<div class='alert alert-block alert-info'> \n",
    "\n",
    "<i class='fa fa-info-circle' aria-hidden='true'></i>\n",
    "Puede obtener más información en la documentación oficial de la librería `scipy.io.wavfile` dando clic [aquí](https://docs.scipy.org/doc/scipy/tutorial/fft.html).\n",
    "</div>\n",
    "\n",
    "¡Empecemos!"
   ]
  },
  {
   "cell_type": "markdown",
   "metadata": {},
   "source": [
    "## 1.2. Cargar Librerías"
   ]
  },
  {
   "cell_type": "code",
   "execution_count": null,
   "metadata": {},
   "outputs": [],
   "source": [
    "# Datos y Gráficas\n",
    "%matplotlib inline\n",
    "import matplotlib.pyplot as plt\n",
    "import pandas as pd\n",
    "import numpy as np\n",
    "from scipy import integrate\n",
    "\n",
    "# FFT\n",
    "from scipy import fft\n",
    "from scipy.fftpack import fftfreq"
   ]
  },
  {
   "cell_type": "markdown",
   "metadata": {},
   "source": [
    "## 1.3. Ejemplo 1: Datos Medidos\n",
    "\n",
    "Tenemos cinco señales diferentes en el tiempo y queremos caracterizar cada una de ellas de forma independiente utilizando la FFT mediante la librería `scipy.fft`."
   ]
  },
  {
   "cell_type": "code",
   "execution_count": null,
   "metadata": {},
   "outputs": [],
   "source": [
    "df = pd.read_excel(io='./data/señales.xlsx', \n",
    "                   sheet_name='Hoja1') # ./ es pwd()\n",
    "\n",
    "df.head()"
   ]
  },
  {
   "cell_type": "markdown",
   "metadata": {},
   "source": [
    "### 1.3.1. Señal 1"
   ]
  },
  {
   "cell_type": "code",
   "execution_count": null,
   "metadata": {},
   "outputs": [],
   "source": [
    "def formato_grafica(titulo, ejex, ejey, leyenda=False, xlim=[None, None], ylim=[None, None]):\n",
    "    plt.rcParams['axes.axisbelow'] = True\n",
    "\n",
    "    plt.title(titulo, fontsize=15)\n",
    "    plt.ylabel(ejey, fontsize=13)\n",
    "    plt.xlabel(ejex, fontsize=13)\n",
    "\n",
    "    plt.tick_params(direction='out', length=5, width=0.75, grid_alpha=0.3)\n",
    "    plt.xticks(rotation=0)\n",
    "    plt.minorticks_on()\n",
    "    plt.ylim(ylim[0], ylim[1])\n",
    "    plt.xlim(xlim[0], xlim[1])\n",
    "    plt.grid(True)\n",
    "    plt.grid(visible=True, which='major', color='grey', linestyle='-')\n",
    "    plt.grid(visible=True, which='minor', color='lightgrey', linestyle='-', alpha=0.2)\n",
    "    \n",
    "    if leyenda == True:\n",
    "        plt.legend(loc='best')\n",
    "    \n",
    "    plt.tight_layout;"
   ]
  },
  {
   "cell_type": "code",
   "execution_count": null,
   "metadata": {},
   "outputs": [],
   "source": [
    "hor = 8\n",
    "ver = 2.5\n",
    "fig = plt.figure(figsize=(hor, ver), dpi=80)\n",
    "\n",
    "plt.plot(df['tiempo_ms'], df['f1'], linestyle='--', marker='o', markerfacecolor='white', markeredgecolor='dodgerblue', ms=10)\n",
    "\n",
    "formato_grafica(titulo='Respuesta Función 1', \n",
    "                ejex='Tiempo (ms)', \n",
    "                ejey='Voltaje (V)',\n",
    "                leyenda=False)"
   ]
  },
  {
   "cell_type": "markdown",
   "metadata": {},
   "source": [
    "Recordemos que para poder implementar la FFT, debemos conocer:\n",
    "- El periodo $T$ de la señal.\n",
    "- La cantidad de datos $N$ requeridos para comlpetar cada periodo.\n",
    "- La frecuencia de muestreo (también llamado el *paso de frecuencias* o *resolución de frecuencias*), determinado como $\\Delta f = 1/T$.\n",
    "- La frecuencia circular $\\omega = 2 \\pi / T$."
   ]
  },
  {
   "cell_type": "code",
   "execution_count": null,
   "metadata": {},
   "outputs": [],
   "source": [
    "# Periodo\n",
    "T = 18 # ms\n",
    "\n",
    "# Cantidad de datos\n",
    "N = len(df['f1'])\n",
    "\n",
    "# Frecuencia de muestreo\n",
    "def frec_muestreo(T):\n",
    "    return 1/T\n",
    "\n",
    "delta_f = frec_muestreo(T) # Hz\n",
    "\n",
    "# Frecuencia Circular\n",
    "def freq_circular(T):\n",
    "    return 2*np.pi / (T/1000)\n",
    "\n",
    "omega = freq_circular(T) # rad/s\n",
    "omega"
   ]
  },
  {
   "cell_type": "markdown",
   "metadata": {},
   "source": [
    "Para emplear la librería `scipy.fft` se requiere conocer (i.) la señal y (ii.) la frecuencia de muestreo. La sintaxis es:"
   ]
  },
  {
   "cell_type": "code",
   "execution_count": null,
   "metadata": {},
   "outputs": [],
   "source": [
    "import scipy"
   ]
  },
  {
   "cell_type": "code",
   "execution_count": null,
   "metadata": {},
   "outputs": [],
   "source": [
    "# PASO 1. Estimar la FFT\n",
    "señal_fft = fft.fft(df['f1'].values)\n",
    "señal_fft"
   ]
  },
  {
   "cell_type": "code",
   "execution_count": null,
   "metadata": {},
   "outputs": [],
   "source": [
    "# PASO 2. Estimar las frecuencias\n",
    "frecs = fftfreq(N, delta_f)\n",
    "frecs"
   ]
  },
  {
   "cell_type": "code",
   "execution_count": null,
   "metadata": {},
   "outputs": [],
   "source": [
    "# PASO 3. Calcular la amplitud\n",
    "An = (2/N) * abs(señal_fft)\n",
    "An"
   ]
  },
  {
   "cell_type": "code",
   "execution_count": null,
   "metadata": {},
   "outputs": [],
   "source": [
    "hor = 8\n",
    "ver = 2.5\n",
    "fig = plt.figure(figsize=(hor, ver), dpi=80)\n",
    "\n",
    "plt.plot(df['tiempo_ms'], df['f1'], linestyle='--', marker='o', markerfacecolor='white', markeredgecolor='dodgerblue', ms=10)\n",
    "\n",
    "formato_grafica(titulo='Respuesta Función 1', \n",
    "                ejex='Tiempo (ms)', \n",
    "                ejey='Voltaje (V)',\n",
    "                leyenda=False)\n",
    "\n",
    "hor = 8\n",
    "ver = 2.5\n",
    "fig = plt.figure(figsize=(hor, ver), dpi=80)\n",
    "\n",
    "plt.plot(frecs, An, linestyle='-', color='peru', linewidth=1, marker='o', markerfacecolor='white', markeredgecolor='orange', ms=10)\n",
    "\n",
    "formato_grafica(titulo='Respuesta Función 1', \n",
    "                ejex='Tiempo (ms)', \n",
    "                ejey='Voltaje (V)',\n",
    "                xlim=(0, None),\n",
    "                leyenda=False)"
   ]
  },
  {
   "cell_type": "code",
   "execution_count": null,
   "metadata": {
    "scrolled": true
   },
   "outputs": [],
   "source": [
    "# Amplitudes\n",
    "n_picos = 2\n",
    "\n",
    "max_An = np.unique(An[np.argpartition(An, -n_picos*2)[-n_picos*2:]])\n",
    "max_An"
   ]
  },
  {
   "cell_type": "code",
   "execution_count": null,
   "metadata": {
    "scrolled": true
   },
   "outputs": [],
   "source": [
    "# Ángulos de Fase\n",
    "phi = np.angle(señal_fft)\n",
    "\n",
    "# Ángulos de amplitudes\n",
    "n_picos = 2\n",
    "\n",
    "max_phi = np.unique(phi[np.argpartition(phi, -n_picos)[-n_picos:]])\n",
    "max_phi"
   ]
  },
  {
   "cell_type": "markdown",
   "metadata": {},
   "source": [
    "Conocidos estos valores, podemos obtener la representación matemática de la DFT; esta es:\n",
    "\n",
    "$$\n",
    "\\boxed{ f(t) = 3.66 \\sin(2 \\omega t) + 1.83 \\sin(4 \\omega t) }\n",
    "$$"
   ]
  },
  {
   "cell_type": "markdown",
   "metadata": {},
   "source": [
    "### 1.3.2. Señal 4"
   ]
  },
  {
   "cell_type": "code",
   "execution_count": null,
   "metadata": {},
   "outputs": [],
   "source": [
    "hor = 8\n",
    "ver = 2.5\n",
    "fig = plt.figure(figsize=(hor, ver), dpi=80)\n",
    "\n",
    "plt.plot(df['tiempo_ms'], df['f4'], linestyle='--', marker='o', markerfacecolor='white', markeredgecolor='dodgerblue', ms=10)\n",
    "\n",
    "formato_grafica(titulo='Respuesta Función 4', \n",
    "                ejex='Tiempo (ms)', \n",
    "                ejey='Voltaje (V)',\n",
    "                leyenda=False)"
   ]
  },
  {
   "cell_type": "code",
   "execution_count": null,
   "metadata": {},
   "outputs": [],
   "source": [
    "# Periodo\n",
    "T = 36 # ms\n",
    "\n",
    "# Cantidad de datos\n",
    "N = len(df['f4'])\n",
    "\n",
    "# Frecuencia de muestreo\n",
    "delta_f = frec_muestreo(T) # Hz\n",
    "\n",
    "# Frecuencia Circular\n",
    "omega = freq_circular(T) # rad/s\n",
    "omega"
   ]
  },
  {
   "cell_type": "code",
   "execution_count": null,
   "metadata": {},
   "outputs": [],
   "source": [
    "# PASO 1. Estimar la FFT\n",
    "señal_fft = fft.fft(df['f4'].values)\n",
    "señal_fft"
   ]
  },
  {
   "cell_type": "code",
   "execution_count": null,
   "metadata": {},
   "outputs": [],
   "source": [
    "# PASO 2. Estimar las frecuencias\n",
    "frecs = fftfreq(N, delta_f)\n",
    "frecs"
   ]
  },
  {
   "cell_type": "code",
   "execution_count": null,
   "metadata": {},
   "outputs": [],
   "source": [
    "# PASO 3. Calcular la amplitud\n",
    "An = (2/N) * abs(señal_fft)\n",
    "An"
   ]
  },
  {
   "cell_type": "code",
   "execution_count": null,
   "metadata": {},
   "outputs": [],
   "source": [
    "hor = 8\n",
    "ver = 2.5\n",
    "fig = plt.figure(figsize=(hor, ver), dpi=80)\n",
    "\n",
    "plt.plot(df['tiempo_ms'], df['f4'], linestyle='--', marker='o', markerfacecolor='white', markeredgecolor='dodgerblue', ms=10)\n",
    "\n",
    "formato_grafica(titulo='Respuesta Función 4', \n",
    "                ejex='Tiempo (ms)', \n",
    "                ejey='Voltaje (V)',\n",
    "                leyenda=False)\n",
    "\n",
    "hor = 8\n",
    "ver = 2.5\n",
    "fig = plt.figure(figsize=(hor, ver), dpi=80)\n",
    "\n",
    "plt.plot(frecs, An, linestyle='-', color='peru', linewidth=1, marker='o', markerfacecolor='white', markeredgecolor='orange', ms=10)\n",
    "\n",
    "formato_grafica(titulo='Respuesta Función 4', \n",
    "                ejex='Tiempo (ms)', \n",
    "                ejey='Voltaje (V)',\n",
    "                xlim=(0, None),\n",
    "                leyenda=False)"
   ]
  },
  {
   "cell_type": "code",
   "execution_count": null,
   "metadata": {},
   "outputs": [],
   "source": [
    "# Amplitudes\n",
    "n_picos = 3\n",
    "\n",
    "max_An = np.unique(An[np.argpartition(An, -n_picos*2)[-n_picos*2:]])\n",
    "max_An"
   ]
  },
  {
   "cell_type": "code",
   "execution_count": null,
   "metadata": {},
   "outputs": [],
   "source": [
    "# Ángulos de Fase\n",
    "phi = np.angle(señal_fft)\n",
    "\n",
    "# Ángulos de amplitudes\n",
    "n_picos = 3\n",
    "\n",
    "max_phi = np.unique(phi[np.argpartition(phi, -n_picos)[-n_picos:]])\n",
    "max_phi"
   ]
  },
  {
   "cell_type": "markdown",
   "metadata": {},
   "source": [
    "Conocidos estos valores, podemos obtener la representación matemática de la DFT; esta es:\n",
    "\n",
    "$$\n",
    "\\boxed{ f(t) = 9.88 \\sin(\\omega t + 3.12) + 3.98 \\sin(5 \\omega t + 2.36) + 2.08 \\sin(6 \\omega t + 1.93) }\n",
    "$$"
   ]
  },
  {
   "cell_type": "markdown",
   "metadata": {},
   "source": [
    "### 1.3.3. Señal 5"
   ]
  },
  {
   "cell_type": "code",
   "execution_count": null,
   "metadata": {},
   "outputs": [],
   "source": [
    "hor = 8\n",
    "ver = 2.5\n",
    "fig = plt.figure(figsize=(hor, ver), dpi=80)\n",
    "\n",
    "plt.plot(df['tiempo_ms'], df['f5'], linestyle='--', marker='o', markerfacecolor='white', markeredgecolor='dodgerblue', ms=10)\n",
    "\n",
    "formato_grafica(titulo='Respuesta Función 5', \n",
    "                ejex='Tiempo (ms)', \n",
    "                ejey='Voltaje (V)',\n",
    "                leyenda=False)"
   ]
  },
  {
   "cell_type": "code",
   "execution_count": null,
   "metadata": {},
   "outputs": [],
   "source": [
    "# Periodo\n",
    "T = 36 # ms\n",
    "\n",
    "# Cantidad de datos\n",
    "N = len(df['f5'])\n",
    "\n",
    "# Frecuencia de muestreo\n",
    "delta_f = frec_muestreo(T) # Hz\n",
    "\n",
    "# Frecuencia Circular\n",
    "omega = freq_circular(T) # rad/s\n",
    "omega"
   ]
  },
  {
   "cell_type": "code",
   "execution_count": null,
   "metadata": {},
   "outputs": [],
   "source": [
    "# PASO 1. Estimar la FFT\n",
    "señal_fft = fft.fft(df['f5'].values)\n",
    "señal_fft"
   ]
  },
  {
   "cell_type": "code",
   "execution_count": null,
   "metadata": {},
   "outputs": [],
   "source": [
    "# PASO 2. Estimar las frecuencias\n",
    "frecs = fftfreq(N, delta_f)\n",
    "frecs"
   ]
  },
  {
   "cell_type": "code",
   "execution_count": null,
   "metadata": {},
   "outputs": [],
   "source": [
    "# PASO 3. Calcular la amplitud\n",
    "An = (2/N) * abs(señal_fft)\n",
    "An"
   ]
  },
  {
   "cell_type": "code",
   "execution_count": null,
   "metadata": {},
   "outputs": [],
   "source": [
    "hor = 8\n",
    "ver = 2.5\n",
    "fig = plt.figure(figsize=(hor, ver), dpi=80)\n",
    "\n",
    "plt.plot(df['tiempo_ms'], df['f5'], linestyle='--', marker='o', markerfacecolor='white', markeredgecolor='dodgerblue', ms=10)\n",
    "\n",
    "formato_grafica(titulo='Respuesta Función 5', \n",
    "                ejex='Tiempo (ms)', \n",
    "                ejey='Voltaje (V)',\n",
    "                leyenda=False)\n",
    "\n",
    "hor = 8\n",
    "ver = 2.5\n",
    "fig = plt.figure(figsize=(hor, ver), dpi=80)\n",
    "\n",
    "plt.plot(frecs, An, linestyle='-', color='peru', linewidth=1, marker='o', markerfacecolor='white', markeredgecolor='orange', ms=10)\n",
    "\n",
    "formato_grafica(titulo='Respuesta Función 5', \n",
    "                ejex='Tiempo (ms)', \n",
    "                ejey='Voltaje (V)',\n",
    "                xlim=(0, None),\n",
    "                leyenda=False)"
   ]
  },
  {
   "cell_type": "code",
   "execution_count": null,
   "metadata": {},
   "outputs": [],
   "source": [
    "# Amplitudes\n",
    "n_picos = 2\n",
    "\n",
    "max_An = np.unique(An[np.argpartition(An, -n_picos*2)[-n_picos*2:]])\n",
    "max_An"
   ]
  },
  {
   "cell_type": "code",
   "execution_count": null,
   "metadata": {},
   "outputs": [],
   "source": [
    "# Ángulos de Fase\n",
    "phi = np.angle(señal_fft)\n",
    "\n",
    "# Ángulos de amplitudes\n",
    "n_picos = 2\n",
    "\n",
    "max_phi = np.unique(phi[np.argpartition(phi, -n_picos)[-n_picos:]])\n",
    "max_phi"
   ]
  },
  {
   "cell_type": "markdown",
   "metadata": {},
   "source": [
    "Conocidos estos valores, podemos obtener la representación matemática de la DFT; esta es:\n",
    "\n",
    "$$\n",
    "\\boxed{ f(t) = 7.52 \\sin(2 \\omega t + 3.14) + 5.06 \\sin(3 \\omega t + 3.12) }\n",
    "$$"
   ]
  },
  {
   "cell_type": "markdown",
   "metadata": {},
   "source": [
    "## 1.4. Ejemplo 2: Audio\n",
    "\n",
    "Tenemos cuatro señales de audio independientes y una quinta que las combina todas. Vamos a ver cómo utilizando la librería `scipy.fft` podemos obtener la caracterización de cada una de las señales que componen el audio completo.\n",
    "\n",
    "Dado que los audio son en formato WAV, debemos utilizar la misma librería `scipy.io.wavfile` para reconocerlos en Python.\n",
    "\n",
    "<div class=\"alert alert-block alert-success\">\n",
    "    \n",
    "**Nota:** Ejercicio tomado de MIT 18.S191 (2020), Introduction to Computational Thinking: Lecture 26 -- Discrete Fourier Transform. [online]. Disponible [aquí](https://www.youtube.com/watch?v=g8RkArhtCc4) y [aquí](https://github.com/mitmath/18S191/blob/Fall20/lecture_notebooks/week13/dft.jl).\n",
    "</div>\n",
    "\n",
    "<div class='alert alert-block alert-info'> \n",
    "\n",
    "<i class='fa fa-info-circle' aria-hidden='true'></i>\n",
    "Puede obtener más información en la documentación oficial de la librería `scipy.io.wavfile` dando clic [aquí](https://docs.scipy.org/doc/scipy/reference/generated/scipy.io.wavfile.read.html).\n",
    "</div>"
   ]
  },
  {
   "cell_type": "code",
   "execution_count": null,
   "metadata": {},
   "outputs": [],
   "source": [
    "from scipy.io import wavfile\n",
    "\n",
    "_, data1 = wavfile.read('./data/Sound1.wav')\n",
    "_, data2 = wavfile.read('./data/Sound2.wav')\n",
    "_, data3 = wavfile.read('./data/Sound3.wav')\n",
    "_, data4 = wavfile.read('./data/Sound4.wav')\n",
    "_, data1234 = wavfile.read('./data/Sound1234.wav')"
   ]
  },
  {
   "cell_type": "code",
   "execution_count": null,
   "metadata": {},
   "outputs": [],
   "source": [
    "hor = 8\n",
    "ver = 5\n",
    "fig = plt.figure(figsize=(hor, ver), dpi=80)\n",
    "\n",
    "plt.plot(data1[:,0], linestyle='-', linewidth=0.5, color='dodgerblue', label='Izquierdo')\n",
    "plt.plot(data1[:,1], linestyle='-', linewidth=0.5, color='orange', label='Derecho')\n",
    "\n",
    "formato_grafica(titulo='', \n",
    "                ejex='', \n",
    "                ejey='',\n",
    "                leyenda=True)"
   ]
  },
  {
   "cell_type": "code",
   "execution_count": null,
   "metadata": {},
   "outputs": [],
   "source": [
    "# Visualización de la señal combinada\n",
    "hor = 8\n",
    "ver = 5\n",
    "fig = plt.figure(figsize=(hor, ver), dpi=80)\n",
    "\n",
    "plt.plot(data1234[:,0][20000:22000], linestyle='-', linewidth=1, color='orchid', label='Sonido Combinado')\n",
    "\n",
    "formato_grafica(titulo='', \n",
    "                ejex='', \n",
    "                ejey='',\n",
    "                leyenda=True)"
   ]
  },
  {
   "cell_type": "code",
   "execution_count": null,
   "metadata": {},
   "outputs": [],
   "source": [
    "# Visualización de las señales\n",
    "hor = 8\n",
    "ver = 5\n",
    "fig = plt.figure(figsize=(hor, ver), dpi=80)\n",
    "\n",
    "plt.plot(data1[:,0][20000:22000], linestyle='-', linewidth=1, color='dodgerblue', label='Sonido 1')\n",
    "plt.plot(data2[:,0][20000:22000], linestyle='-', linewidth=1, color='orange', label='Sonido 2')\n",
    "plt.plot(data3[:,0][20000:22000], linestyle='-', linewidth=1, color='mediumseagreen', label='Sonido 3')\n",
    "plt.plot(data4[:,0][20000:22000], linestyle='-', linewidth=1, color='tomato', label='Sonido 4')\n",
    "\n",
    "formato_grafica(titulo='', \n",
    "                ejex='', \n",
    "                ejey='',\n",
    "                leyenda=True)"
   ]
  },
  {
   "cell_type": "code",
   "execution_count": null,
   "metadata": {},
   "outputs": [],
   "source": [
    "# PASO 1. Estimar la FFT\n",
    "señal_fft1 = fft.fft(data1[:,0])\n",
    "señal_fft2 = fft.fft(data2[:,0])\n",
    "señal_fft3 = fft.fft(data3[:,0])\n",
    "señal_fft4 = fft.fft(data4[:,0])"
   ]
  },
  {
   "cell_type": "code",
   "execution_count": null,
   "metadata": {},
   "outputs": [],
   "source": [
    "# FFT señal combinada\n",
    "señal_fft1234 = fft.fft(data1234[:,0])\n",
    "\n",
    "# Gráfica\n",
    "hor = 8\n",
    "ver = 5\n",
    "fig = plt.figure(figsize=(hor, ver), dpi=80)\n",
    "\n",
    "plt.plot(np.abs(señal_fft1234[0:1000]), linestyle='-', color='orchid', linewidth=1)\n",
    "\n",
    "formato_grafica(titulo='FFT', \n",
    "                ejex='Frecuencia (Hz)', \n",
    "                ejey='Amplitud',\n",
    "                xlim=(0, None),\n",
    "                leyenda=False)"
   ]
  },
  {
   "cell_type": "code",
   "execution_count": null,
   "metadata": {},
   "outputs": [],
   "source": [
    "hor = 8\n",
    "ver = 5\n",
    "fig = plt.figure(figsize=(hor, ver), dpi=80)\n",
    "\n",
    "plt.plot(np.abs(señal_fft1[0:1000]), linestyle='-', color='dodgerblue', linewidth=1)\n",
    "plt.plot(np.abs(señal_fft2[0:1000]), linestyle='-', color='orange', linewidth=1)\n",
    "plt.plot(np.abs(señal_fft3[0:1000]), linestyle='-', color='mediumseagreen', linewidth=1)\n",
    "plt.plot(np.abs(señal_fft4[0:1000]), linestyle='-', color='tomato', linewidth=1)\n",
    "\n",
    "formato_grafica(titulo='FFT', \n",
    "                ejex='Frecuencia (Hz)', \n",
    "                ejey='Amplitud',\n",
    "                xlim=(0, None),\n",
    "                leyenda=False)"
   ]
  },
  {
   "cell_type": "markdown",
   "metadata": {},
   "source": [
    "De lo anterior, notemos que **la FFT extrae los componentes de frecuencia de cada sonido**, en donde podemos asociar las notas musicales a los picos de frecuencia de cada señal, siendo los picos más pequeños los armónicos (múltiplos de números enteros de esa frecuencia principal).\n",
    "\n",
    "En este caso, decimos \\\"frecuencia\\\", a menos que cambiemos la escala del eje x, no serán ciclos por unidad de tiempo, sino ciclos por $T$ unidades de tiempo, donde $T$ es la duración del audio.\n",
    "\n",
    "La FFT solo ve una lista de valores de muestra, no tiene forma de saber cuántas muestras por segundo hay, o si los segundos son la unidad de tiempo que nos interesa, por lo que la única unidad de tiempo sería la duración del audio.\n",
    "\n",
    "Comentarios de MIT 18.S191 (2020).\n",
    "\n",
    "<img src='./img/notas.jpeg' width='700' height='700'/>"
   ]
  },
  {
   "cell_type": "markdown",
   "metadata": {},
   "source": [
    "<a id=\"section2\"></a>\n",
    "# Sección 2: Sistemas Dinámicos"
   ]
  },
  {
   "cell_type": "markdown",
   "metadata": {},
   "source": [
    "## 2.1. Introducción\n",
    "\n",
    "Tengamos presentes las siguientes equivalencias:\n",
    "\n",
    "#### Movimiento Rectilíneo\n",
    "$$\n",
    "\\begin{cases}\n",
    "  v = \\frac{dx}{dt} = \\dot{x} \\\\ \n",
    "  \\\\\n",
    "  a = \\frac{dv}{dt} = \\frac{d}{dt} \\left( \\frac{dx}{dt} \\right) = \\frac{d^2x}{dt^2} = \\ddot{x} \\\\\n",
    "\\end{cases} \n",
    "$$\n",
    "\n",
    "#### Movimiento Rotacional\n",
    "$$\n",
    "\\begin{cases}\n",
    "  \\omega = \\frac{d \\theta}{dt} = \\dot{\\theta} \\\\ \n",
    "  \\\\\n",
    "  \\alpha = \\frac{d \\omega}{dt} = \\frac{d}{dt} \\left( \\frac{d \\theta}{dt} \\right) = \\frac{d^2 \\theta}{dt^2} = \\ddot{\\theta} \\\\\n",
    "\\end{cases} \n",
    "$$\n",
    "\n",
    "#### Generalización 2da Ley de Newton\n",
    "$$\n",
    "\\begin{cases}\n",
    "  F = ma \\rightarrow F = m \\ddot{x} & (1) \\\\ \n",
    "  \\\\\n",
    "  T = I \\alpha \\rightarrow T = I \\ddot{\\theta} & (2) \\\\\n",
    "\\end{cases} \n",
    "$$\n",
    "\n",
    "Siendo $F$ la fuerza, $m$ la masa, $a$ la aceleración, $T$ el torque, $I$ el momento de inercia (en nuestros casos de estudio, $I = m L^2$, siendo $L$ la longitud al punto de pivote del giro) y $\\theta$ el ángulo de giro."
   ]
  },
  {
   "cell_type": "markdown",
   "metadata": {},
   "source": [
    "## 2.2. Ejemplo 1: Péndulo Simple\n",
    "\n",
    "<img src='./img/pendulum1.png' width='300' height='300'/>\n",
    "\n",
    "Partimos de la relación:\n",
    "\n",
    "$$\n",
    "T = I \\ddot{\\theta}\n",
    "$$\n",
    "\n",
    "El único componente de la masa que causa un torque en el cuerpo es:\n",
    "\n",
    "$$\n",
    "m g \\sin \\theta\n",
    "$$\n",
    "\n",
    "Luego:\n",
    "\n",
    "$$\n",
    "\\boxed{ \\ddot{\\theta} + \\frac{g}{L} \\sin \\theta = 0 }\n",
    "$$\n",
    "\n",
    "<div class='alert alert-block alert-info'> \n",
    "\n",
    "<i class='fa fa-info-circle' aria-hidden='true'></i>\n",
    "Puede obtener más información del ejercicio dando clic [aquí](https://www.youtube.com/watch?v=8VJ1CJ55Np0) y [aquí](https://www.youtube.com/watch?v=xBBXlQ7CmFc).\n",
    "</div>"
   ]
  },
  {
   "cell_type": "code",
   "execution_count": null,
   "metadata": {},
   "outputs": [],
   "source": [
    "# PASO 1. Definir la función\n",
    "def pendulo_simple(variables, t, g, L):\n",
    "    # Variables\n",
    "    theta = variables[0]\n",
    "    dtheta_dt = variables[1]\n",
    "    \n",
    "    # Ecuaciones\n",
    "    d2theta_dt2 = -(g/L) * np.sin(np.deg2rad(theta))\n",
    "    \n",
    "    return [dtheta_dt, d2theta_dt2]\n",
    "\n",
    "pendulo_simple"
   ]
  },
  {
   "cell_type": "code",
   "execution_count": null,
   "metadata": {},
   "outputs": [],
   "source": [
    "# PASO 2. Condiciones iniciales\n",
    "condiciones_iniciales = [30, 0] # [x0, dx_dt0]\n",
    "condiciones_iniciales"
   ]
  },
  {
   "cell_type": "code",
   "execution_count": null,
   "metadata": {},
   "outputs": [],
   "source": [
    "# PASO 3. Puntos de tiempo\n",
    "start = 0\n",
    "stop = 200\n",
    "num = 1000\n",
    "\n",
    "tiempo = np.linspace(start, stop, num)\n",
    "tiempo"
   ]
  },
  {
   "cell_type": "code",
   "execution_count": null,
   "metadata": {},
   "outputs": [],
   "source": [
    "# PASO 4. Solcionar ODE\n",
    "## Constantes\n",
    "g = 9.81\n",
    "L = 5.0\n",
    "\n",
    "## Solución numérica\n",
    "sol = integrate.odeint(func=pendulo_simple, \n",
    "                       y0=condiciones_iniciales, \n",
    "                       t=tiempo,\n",
    "                       args=(g, L))\n",
    "\n",
    "sol"
   ]
  },
  {
   "cell_type": "code",
   "execution_count": null,
   "metadata": {},
   "outputs": [],
   "source": [
    "# Gráfica\n",
    "hor = 8\n",
    "ver = 5\n",
    "fig1 = plt.figure(figsize=(hor, ver), dpi=80)\n",
    "\n",
    "plt.plot(tiempo, sol[:,0], linestyle='-', linewidth=3, color='dodgerblue', label='Solución Numérica')\n",
    "plt.scatter(tiempo[170], sol[:,0][170], color='orange', zorder=5)\n",
    "\n",
    "formato_grafica(titulo='Comportamiento ODE', \n",
    "                ejex='Tiempo ($t$)', \n",
    "                ejey='$theta(t)$',\n",
    "                leyenda=False)"
   ]
  },
  {
   "cell_type": "code",
   "execution_count": null,
   "metadata": {},
   "outputs": [],
   "source": [
    "# FFT\n",
    "# Periodo\n",
    "T = tiempo[170] # ms\n",
    "\n",
    "# Cantidad de datos\n",
    "N = len(sol[:,1])\n",
    "\n",
    "# Frecuencia de muestreo\n",
    "deltaf = frec_muestreo(T) # Hz\n",
    "print(f'Frecuencia Muestreo: {np.round(delta_f, 2)} Hz')\n",
    "\n",
    "# Frecuencia Circular\n",
    "omega = freq_circular(T) # rad/s\n",
    "print(f'Frecuencia Circular: {np.round(omega, 2)} rad/s')"
   ]
  },
  {
   "cell_type": "code",
   "execution_count": null,
   "metadata": {},
   "outputs": [],
   "source": [
    "# PASO 1. Estimar la FFT\n",
    "señal_fft = fft.fft(sol[:,0])\n",
    "señal_fft"
   ]
  },
  {
   "cell_type": "code",
   "execution_count": null,
   "metadata": {},
   "outputs": [],
   "source": [
    "# PASO 2. Estimar las frecuencias\n",
    "frecs = fftfreq(N, delta_f)\n",
    "frecs"
   ]
  },
  {
   "cell_type": "code",
   "execution_count": null,
   "metadata": {},
   "outputs": [],
   "source": [
    "# PASO 3. Calcular la amplitud\n",
    "An = (2/N) * abs(señal_fft)\n",
    "An"
   ]
  },
  {
   "cell_type": "code",
   "execution_count": null,
   "metadata": {},
   "outputs": [],
   "source": [
    "hor = 8\n",
    "ver = 2.5\n",
    "fig = plt.figure(figsize=(hor, ver), dpi=80)\n",
    "\n",
    "plt.plot(tiempo, sol[:,0], linestyle='-', linewidth=3, color='dodgerblue', label='Solución Numérica')\n",
    "\n",
    "formato_grafica(titulo='', \n",
    "                ejex='Tiempo (t)', \n",
    "                ejey='Magnitud',\n",
    "                leyenda=False)\n",
    "\n",
    "hor = 8\n",
    "ver = 2.5\n",
    "fig = plt.figure(figsize=(hor, ver), dpi=80)\n",
    "\n",
    "plt.plot(frecs[0:100], An[0:100], linestyle='-', color='peru', linewidth=1, marker='o', markerfacecolor='white', markeredgecolor='orange', ms=10)\n",
    "\n",
    "formato_grafica(titulo='', \n",
    "                ejex='Frecuencia (Hz)', \n",
    "                ejey='Amplitud',\n",
    "                xlim=(0, None),\n",
    "                leyenda=False)"
   ]
  },
  {
   "cell_type": "code",
   "execution_count": null,
   "metadata": {},
   "outputs": [],
   "source": [
    "# Amplitudes\n",
    "n_picos = 3\n",
    "\n",
    "max_An = np.unique(An[np.argpartition(An, -n_picos*2)[-n_picos*2:]])\n",
    "max_An"
   ]
  },
  {
   "cell_type": "code",
   "execution_count": null,
   "metadata": {},
   "outputs": [],
   "source": [
    "# Ángulos de Fase\n",
    "phi = np.angle(señal_fft)\n",
    "\n",
    "# Ángulos de amplitudes\n",
    "n_picos = 3\n",
    "\n",
    "max_phi = np.unique(phi[np.argpartition(phi, -n_picos)[-n_picos:]])\n",
    "max_phi"
   ]
  },
  {
   "cell_type": "markdown",
   "metadata": {},
   "source": [
    "Conocidos estos valores, podemos obtener la representación matemática de la DFT; para el armónico principal, esta es:\n",
    "\n",
    "$$\n",
    "\\boxed{ f(t) = 27.89 \\sin(3 \\omega t + 3.14) }\n",
    "$$"
   ]
  },
  {
   "cell_type": "markdown",
   "metadata": {},
   "source": [
    "## 2.3. Ejemplo 2: Péndulo Simple + Fricción + Fuerza Externa\n",
    "\n",
    "<img src='./img/pendulum2.png' width='800' height='800'/>\n",
    "\n",
    "Este caso es una extensión al Ejemplo 1, pues:\n",
    "\n",
    "$$\n",
    "F = m a\n",
    "$$\n",
    "\n",
    "Luego:\n",
    "\n",
    "$$\n",
    "F_0 \\cos(\\omega t) - mg \\sin(\\theta) - c \\frac{ds}{dt} = ma \n",
    "$$\n",
    "\n",
    "Entonces:\n",
    "\n",
    "$$\n",
    "F_0 \\cos(\\omega t) = m L \\ddot{\\theta} + c L \\dot{\\theta} + mg \\sin(\\theta)\n",
    "$$\n",
    "\n",
    "Que se puede reescribir como:\n",
    "\n",
    "$$\n",
    "\\boxed{ \\ddot{\\theta} + \\alpha \\dot{\\theta} + \\sin(\\theta) = \\gamma \\cos(\\beta t) }\n",
    "$$\n",
    "\n",
    "Donde:\n",
    "\n",
    "$$\n",
    "\\begin{cases}\n",
    "  \\alpha = \\frac{c}{m \\omega_0} \\\\ \n",
    "  \\\\\n",
    "  \\beta = \\frac{\\omega}{\\omega_0} \\\\\n",
    "  \\\\\n",
    "  \\gamma = \\frac{F_0}{m L \\omega_0^2}\n",
    "\\end{cases} \n",
    "$$\n",
    "\n",
    "<div class='alert alert-block alert-info'> \n",
    "\n",
    "<i class='fa fa-info-circle' aria-hidden='true'></i>\n",
    "Puede obtener más información del ejercicio dando clic [aquí](https://www.youtube.com/watch?v=SZWn7x4g-Vo).\n",
    "</div>"
   ]
  },
  {
   "cell_type": "code",
   "execution_count": null,
   "metadata": {},
   "outputs": [],
   "source": [
    "# PASO 1. Definir la función\n",
    "def pendulo_friccion(variables, t, alpha, beta, gamma):\n",
    "    # Variables\n",
    "    theta = variables[0]\n",
    "    dtheta = variables[1]\n",
    "    \n",
    "    # Ecuaciones\n",
    "    d2theta = -alpha*dtheta - np.sin(np.deg2rad(theta)) + gamma*np.cos(np.deg2rad(beta*t))\n",
    "    \n",
    "    return [dtheta, d2theta]\n",
    "\n",
    "pendulo_friccion"
   ]
  },
  {
   "cell_type": "code",
   "execution_count": null,
   "metadata": {},
   "outputs": [],
   "source": [
    "# PASO 2. Condiciones iniciales\n",
    "condiciones_iniciales = [30, 0] # [x0, dx_dt0]\n",
    "condiciones_iniciales"
   ]
  },
  {
   "cell_type": "code",
   "execution_count": null,
   "metadata": {},
   "outputs": [],
   "source": [
    "# PASO 3. Puntos de tiempo\n",
    "start = 0\n",
    "stop = 1000\n",
    "num = 1000\n",
    "\n",
    "tiempo = np.linspace(start, stop, num)\n",
    "tiempo"
   ]
  },
  {
   "cell_type": "code",
   "execution_count": null,
   "metadata": {},
   "outputs": [],
   "source": [
    "# PASO 4. Solcionar ODE\n",
    "## Constantes\n",
    "c = 0.5\n",
    "m = 2.0\n",
    "omega = 50.0\n",
    "beta = 0.98\n",
    "F = 150\n",
    "L = 8.0\n",
    "\n",
    "alpha = c / (m*omega)\n",
    "gamma = F / (m*L*(omega**2))\n",
    "\n",
    "## Solución numérica\n",
    "sol = integrate.odeint(func=pendulo_friccion, \n",
    "                       y0=condiciones_iniciales, \n",
    "                       t=tiempo,\n",
    "                       args=(alpha, beta, gamma))\n",
    "\n",
    "sol"
   ]
  },
  {
   "cell_type": "code",
   "execution_count": null,
   "metadata": {},
   "outputs": [],
   "source": [
    "# Gráfica\n",
    "hor = 10\n",
    "ver = 3\n",
    "\n",
    "# Ángulo\n",
    "fig = plt.figure(figsize=(hor, ver), dpi=80)\n",
    "\n",
    "plt.plot(tiempo, sol[:,0], linestyle='-', linewidth=2, color='dodgerblue', label='Solución Numérica')\n",
    "\n",
    "formato_grafica(titulo='', \n",
    "                ejex='Tiempo ($t$)', \n",
    "                ejey='θ (rad)',\n",
    "                leyenda=False)\n",
    "\n",
    "# Velocidad Angular\n",
    "fig = plt.figure(figsize=(hor, ver), dpi=80)\n",
    "\n",
    "plt.plot(tiempo, sol[:,1], linestyle='-', linewidth=2, color='orange', label='Solución Numérica')\n",
    "plt.scatter(tiempo[35], sol[:,1][35], color='tomato', zorder=5)\n",
    "\n",
    "formato_grafica(titulo='', \n",
    "                ejex='Tiempo ($t$)', \n",
    "                ejey='ω (rad/s)',\n",
    "                leyenda=False)"
   ]
  },
  {
   "cell_type": "code",
   "execution_count": null,
   "metadata": {},
   "outputs": [],
   "source": [
    "# FFT\n",
    "# Periodo\n",
    "T = tiempo[35] # ms\n",
    "\n",
    "# Cantidad de datos\n",
    "N = len(sol[:,1])\n",
    "\n",
    "# Frecuencia de muestreo\n",
    "deltaf = frec_muestreo(T) # Hz\n",
    "print(f'Frecuencia Muestreo: {np.round(delta_f, 2)} Hz')\n",
    "\n",
    "# Frecuencia Circular\n",
    "omega = freq_circular(T) # rad/s\n",
    "print(f'Frecuencia Circular: {np.round(omega, 2)} rad/s')"
   ]
  },
  {
   "cell_type": "code",
   "execution_count": null,
   "metadata": {},
   "outputs": [],
   "source": [
    "# PASO 1. Estimar la FFT\n",
    "señal_fft = fft.fft(sol[:,1])\n",
    "señal_fft"
   ]
  },
  {
   "cell_type": "code",
   "execution_count": null,
   "metadata": {},
   "outputs": [],
   "source": [
    "# PASO 2. Estimar las frecuencias\n",
    "frecs = fftfreq(N, delta_f)\n",
    "frecs"
   ]
  },
  {
   "cell_type": "code",
   "execution_count": null,
   "metadata": {},
   "outputs": [],
   "source": [
    "# PASO 3. Calcular la amplitud\n",
    "An = (2/N) * abs(señal_fft)\n",
    "An"
   ]
  },
  {
   "cell_type": "code",
   "execution_count": null,
   "metadata": {},
   "outputs": [],
   "source": [
    "hor = 8\n",
    "ver = 2.5\n",
    "fig = plt.figure(figsize=(hor, ver), dpi=80)\n",
    "\n",
    "plt.plot(tiempo, sol[:,1], linestyle='-', linewidth=3, color='dodgerblue', label='Solución Numérica')\n",
    "\n",
    "formato_grafica(titulo='', \n",
    "                ejex='Tiempo (t)', \n",
    "                ejey='Magnitud',\n",
    "                leyenda=False)\n",
    "\n",
    "hor = 8\n",
    "ver = 2.5\n",
    "fig = plt.figure(figsize=(hor, ver), dpi=80)\n",
    "\n",
    "plt.plot(frecs[0:50], An[0:50], linestyle='-', color='peru', linewidth=1, marker='o', markerfacecolor='white', markeredgecolor='orange', ms=10)\n",
    "\n",
    "formato_grafica(titulo='', \n",
    "                ejex='Frecuencia (Hz)', \n",
    "                ejey='Amplitud',\n",
    "                xlim=(0, None),\n",
    "                leyenda=False)"
   ]
  },
  {
   "cell_type": "code",
   "execution_count": null,
   "metadata": {},
   "outputs": [],
   "source": [
    "# Amplitudes\n",
    "n_picos = 4\n",
    "\n",
    "max_An = np.unique(An[np.argpartition(An, -n_picos*2)[-n_picos*2:]])\n",
    "max_An"
   ]
  },
  {
   "cell_type": "code",
   "execution_count": null,
   "metadata": {},
   "outputs": [],
   "source": [
    "# Ángulos de Fase\n",
    "phi = np.angle(señal_fft)\n",
    "\n",
    "# Ángulos de amplitudes\n",
    "n_picos = 4\n",
    "\n",
    "max_phi = np.unique(phi[np.argpartition(phi, -n_picos)[-n_picos:]])\n",
    "max_phi"
   ]
  },
  {
   "cell_type": "markdown",
   "metadata": {},
   "source": [
    "Conocidos estos valores, podemos obtener la representación matemática de la DFT; para el armónico principal, esta es:\n",
    "\n",
    "$$\n",
    "\\boxed{ f(t) = 3.13 \\sin(22 \\omega t + 1.42) }\n",
    "$$"
   ]
  }
 ],
 "metadata": {
  "kernelspec": {
   "display_name": "hc",
   "language": "python",
   "name": "hc"
  },
  "language_info": {
   "codemirror_mode": {
    "name": "ipython",
    "version": 3
   },
   "file_extension": ".py",
   "mimetype": "text/x-python",
   "name": "python",
   "nbconvert_exporter": "python",
   "pygments_lexer": "ipython3",
   "version": "3.11.0"
  },
  "toc": {
   "base_numbering": 1,
   "nav_menu": {},
   "number_sections": false,
   "sideBar": true,
   "skip_h1_title": true,
   "title_cell": "Table of Contents",
   "title_sidebar": "Contents",
   "toc_cell": false,
   "toc_position": {},
   "toc_section_display": true,
   "toc_window_display": false
  }
 },
 "nbformat": 4,
 "nbformat_minor": 2
}
