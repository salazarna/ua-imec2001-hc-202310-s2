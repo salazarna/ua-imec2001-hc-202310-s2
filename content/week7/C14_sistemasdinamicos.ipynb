{
 "cells": [
  {
   "cell_type": "markdown",
   "metadata": {},
   "source": [
    "# IMEC2001 Herramientas Computacionales\n",
    "## Semana 7: Ecuación Diferencial Ordinaria (ODE)\n",
    "### Clase 14:  ODE y Dinámica\n",
    "\n",
    "Universidad de los Andes — Mayo 19, 2023.\n",
    "\n",
    "---\n",
    "\n",
    "## TABLA DE CONTENIDO\n",
    "\n",
    "### Sección 1: ODE [→](#section1)\n",
    "- 1.1. Introducción\n",
    "- 1.2. Cargar Librerías\n",
    "- 1.3. Sintaxis\n",
    "- 1.4. Ejemplo 1: ODE\n",
    "- 1.5. Ejemplo 2: Sistema de ODEs\n",
    "- 1.6. Ejemplo 3: Ecuaciones de Lorenz\n",
    "- 1.7. Ejemplo 4: ODE de Segundo Grado\n",
    "\n",
    "### Sección 2: Sistemas Dinámicos [→](#section2)\n",
    "- 2.1. Introducción\n",
    "- 2.2. Ejemplo 1: Péndulo Simple\n",
    "- 2.3. Ejemplo 2: Péndulo Simple + Fricción + Fuerza Externa\n",
    "- 2.4. Ejemplo 3: Masa-Resorte\n",
    "- 2.5. Ejemplo 4: Doble Masa y Doble Resorte\n",
    "___"
   ]
  },
  {
   "cell_type": "markdown",
   "metadata": {},
   "source": [
    "<a id=\"section1\"></a>\n",
    "# Sección 1: ODE"
   ]
  },
  {
   "cell_type": "markdown",
   "metadata": {},
   "source": [
    "## 1.1. Introducción\n",
    "\n",
    "Una ecuación diferencial ordinaria (ODE, por sus siglas en inglés) es aquella que relaciona **una única variable independiente** y una o más de sus derivadas respecto de tal variable.\n",
    "\n",
    "¿Pero, qué es una ecuación diferencial?\n",
    "\n",
    "<div class=\"alert alert-block alert-success\">\n",
    "Una ecuación diferencial es una ecuación matemática que relaciona una función con sus derivadas.\n",
    "</div>\n",
    "\n",
    "También, aclaremos qué es una derivada:\n",
    "\n",
    "<div class=\"alert alert-block alert-success\">\n",
    "    \n",
    "La derivada de una función es **la razón de cambio instantánea** con la que varía el valor de dicha función matemática.\n",
    "</div>\n",
    "\n",
    "Típicamente, la razón de cambio instantánea es respecto a la posición y al tiempo.\n",
    "\n",
    "Es importante tener en cuenta que el **orden** de un ODE es **la derivada de mayor grado**. Note que es diferente al máximo exponente presente en la ecuación. Por ejemplo:\n",
    "\n",
    "$$\n",
    "\\boxed{\\frac{d^2y}{dx^2}} + 5 \\left( \\frac{dy}{dx} \\right)^3 - 4y = e^x\n",
    "$$\n",
    "\n",
    "Es un ODE de **segundo grado** por el término enmarcado. Fíjese que el orden del ODE **no** lo rige el mayor exponente, que en este caso es el grado tres del segundo término.\n",
    "\n",
    "Ahora bien, cuando trabajamos con un conjunto de ODE, podemos hacer uso de diferentes notaciones para facilitar la escritura y ser más eficientes con la comprensión del ejercicio. Las más utilizadas son:\n",
    "\n",
    "$$\n",
    "\\begin{cases}\n",
    "  \\text{Leibniz} & \\rightarrow \\frac{dx}{dy} \\\\ \n",
    "  \\\\\n",
    "  \\text{Lagrange} & \\rightarrow y' \\\\\n",
    "  \\\\\n",
    "  \\text{Newton} & \\rightarrow \\dot{y}\n",
    "\\end{cases} \n",
    "$$\n",
    "\n",
    "Entonces, la ecuación anterior puede ser escrita de las siguientes formas:\n",
    "\n",
    "$$\n",
    "\\begin{cases}\n",
    "  \\text{Leibniz} & \\rightarrow \\frac{d^2y}{dx^2} + 5 \\left( \\frac{dy}{dx} \\right)^3 - 4y = e^x \\\\ \n",
    "  \\\\\n",
    "  \\text{Lagrange} & \\rightarrow y'' + 5 \\left( y' \\right)^3 - 4y = e^x \\\\\n",
    "  \\\\\n",
    "  \\text{Newton} & \\rightarrow \\ddot{y} + 5 \\left( \\dot{y} \\right)^3 - 4y = e^x\n",
    "\\end{cases} \n",
    "$$\n",
    "\n",
    "Similar a como lo estudiamos anteriormente, a partir de un conjunto de ODE podemos conformar un sistema de ecuaciones diferenciales. En general:\n",
    "\n",
    "<div class=\"alert alert-block alert-success\">\n",
    "Un sistema de ecuaciones diferenciales es un conjunto de varias ecuaciones diferenciales con varias funciones incógnitas y un conjunto de condiciones iniciales. Una solución es un conjunto de funciones diferenciables que satisfacen todas y cada una de las ecuaciones del sistema.\n",
    "</div>\n",
    "\n",
    "Por ejemplo:\n",
    "\n",
    "$$\n",
    "\\begin{cases}\n",
    "  \\frac{dx}{dt} = 3x + 4y & (1)\\\\ \n",
    "  \\\\\n",
    "  \\frac{dy}{dt} = 5x - 7y & (2)\\\\\n",
    "\\end{cases} \n",
    "$$\n",
    "\n",
    "En forma matricial, esto puede escribirse como:\n",
    "\n",
    "$$\n",
    "{\\begin{bmatrix}\n",
    "x' \\\\\n",
    "y' \\\\\n",
    "\\end{bmatrix}} =\n",
    "{\\begin{bmatrix}\n",
    "3 & 4 \\\\\n",
    "5 & -7 \\\\\n",
    "\\end{bmatrix}}\n",
    "{\\begin{bmatrix}\n",
    "x \\\\\n",
    "y \\\\\n",
    "\\end{bmatrix}}\n",
    "$$\n",
    "\n",
    "O, de forma genérica:\n",
    "\n",
    "$$\n",
    "\\frac{d}{dt}\n",
    "{\\begin{bmatrix}\n",
    "x_1 \\\\\n",
    "x_2 \\\\\n",
    "\\vdots \\\\\n",
    "x_n \\\\\n",
    "\\end{bmatrix}} = \n",
    "{\\begin{bmatrix}\n",
    "a_{11} & a_{12} & \\dots & a_{1n} \\\\\n",
    "a_{21} & a_{22} & \\dots & a_{2n} \\\\\n",
    "\\vdots & \\vdots & \\ddots & \\vdots \\\\\n",
    "a_{m1} & a_{m2} & \\dots & a_{mn} \\\\\n",
    "\\end{bmatrix}}\n",
    "{\\begin{bmatrix}\n",
    "x_1 \\\\\n",
    "x_2 \\\\\n",
    "\\vdots \\\\\n",
    "x_n \\\\\n",
    "\\end{bmatrix}} +\n",
    "{\\begin{bmatrix}\n",
    "f_1(t) \\\\\n",
    "f_2(t) \\\\\n",
    "\\vdots \\\\\n",
    "f_n(t) \\\\\n",
    "\\end{bmatrix}}\n",
    "$$\n",
    "\n",
    "Existen diversos métodos analíticos para poder dar solución a estos ODE y sistemas de ecuaciones diferenciales. No obstante, aprovecharemos la librerías `scipy.integrate.odeint` para dar respuesta a estos ejercicios de manera práctica y eficiente.\n",
    "\n",
    "<div class=\"alert alert-block alert-success\">\n",
    "\n",
    "Resolver ODE significa determinar **cómo cambiarán las variables a medida que pasa el tiempo**. Usualmente solo consideramos una variable independiente: el tiempo $t$.\n",
    "</div>\n",
    "\n",
    "¡Empecemos!"
   ]
  },
  {
   "cell_type": "markdown",
   "metadata": {},
   "source": [
    "## 1.2. Cargar Librerías"
   ]
  },
  {
   "cell_type": "code",
   "execution_count": null,
   "metadata": {},
   "outputs": [],
   "source": [
    "# Datos y Gráficas\n",
    "%matplotlib inline\n",
    "import matplotlib.pyplot as plt\n",
    "import pandas as pd\n",
    "import numpy as np\n",
    "import sympy\n",
    "from sympy.physics.mechanics import *\n",
    "\n",
    "# ODE\n",
    "from scipy import integrate"
   ]
  },
  {
   "cell_type": "markdown",
   "metadata": {},
   "source": [
    "## 1.3. Sintaxis\n",
    "\n",
    "La función `scipy.integrate.odeint` requiere tres parámetros de entrada:\n",
    "\n",
    "1. `func`: Nombre de la función que devuelve valores derivados en los valores $y$ y $t$.\n",
    "2. `y0`: Condiciones iniciales.\n",
    "3. `t`: Puntos de tiempo $t$ en los que se debe informar la solución.\n",
    "\n",
    "<div class='alert alert-block alert-info'> \n",
    "\n",
    "<i class='fa fa-info-circle' aria-hidden='true'></i>\n",
    "Puede obtener más información en la documentación oficial de la librería `scipy.integrate.odeint` dando clic [aquí](https://docs.scipy.org/doc/scipy/reference/generated/scipy.integrate.odeint.html).\n",
    "</div>"
   ]
  },
  {
   "cell_type": "markdown",
   "metadata": {},
   "source": [
    "## 1.4. Ejemplo 1: ODE\n",
    "\n",
    "Se tiene la siguiente ODE:\n",
    "\n",
    "$$\n",
    "\\frac{dx}{dt} = -x + \\sin(t) + 3 \\cos (2t)\n",
    "$$\n",
    "\n",
    "Donde:\n",
    "- $x$ es la variable de estado actual.\n",
    "- $t$ es el tiempo en que se evalúa.\n",
    "- $x(t=0) \\rightarrow x_0 = 0$ es la condición inicial."
   ]
  },
  {
   "cell_type": "code",
   "execution_count": null,
   "metadata": {},
   "outputs": [],
   "source": [
    "# PASO 1. Definir la función f(x,t)\n",
    "def ode(x, t):\n",
    "    dx_dt = -x + np.sin(t) + 3*np.cos(2*t)\n",
    "    return dx_dt\n",
    "\n",
    "ode"
   ]
  },
  {
   "cell_type": "code",
   "execution_count": null,
   "metadata": {},
   "outputs": [],
   "source": [
    "# PASO 2. Condiciones iniciales\n",
    "condiciones_iniciales = 0\n",
    "condiciones_iniciales"
   ]
  },
  {
   "cell_type": "code",
   "execution_count": null,
   "metadata": {},
   "outputs": [],
   "source": [
    "# PASO 3. Puntos de tiempo\n",
    "start = 0\n",
    "stop = 10\n",
    "num = 50\n",
    "\n",
    "tiempo = np.linspace(start, stop, num)\n",
    "tiempo"
   ]
  },
  {
   "cell_type": "code",
   "execution_count": null,
   "metadata": {
    "scrolled": true
   },
   "outputs": [],
   "source": [
    "# PASO 4. Solcionar ODE\n",
    "sol = integrate.odeint(func=ode, \n",
    "                       y0=condiciones_iniciales, \n",
    "                       t=tiempo)\n",
    "\n",
    "sol"
   ]
  },
  {
   "cell_type": "code",
   "execution_count": null,
   "metadata": {},
   "outputs": [],
   "source": [
    "def formato_grafica(titulo, ejex, ejey, leyenda=False, xlim=[None, None], ylim=[None, None]):\n",
    "    plt.rcParams['axes.axisbelow'] = True\n",
    "\n",
    "    plt.title(titulo, fontsize=15)\n",
    "    plt.ylabel(ejey, fontsize=13)\n",
    "    plt.xlabel(ejex, fontsize=13)\n",
    "\n",
    "    plt.tick_params(direction='out', length=5, width=0.75, grid_alpha=0.3)\n",
    "    plt.xticks(rotation=0)\n",
    "    plt.minorticks_on()\n",
    "    plt.ylim(ylim[0], ylim[1])\n",
    "    plt.xlim(xlim[0], xlim[1])\n",
    "    plt.grid(True)\n",
    "    plt.grid(visible=True, which='major', color='grey', linestyle='-')\n",
    "    plt.grid(visible=True, which='minor', color='lightgrey', linestyle='-', alpha=0.2)\n",
    "    \n",
    "    if leyenda == True:\n",
    "        plt.legend(loc='best')\n",
    "    \n",
    "    plt.tight_layout;"
   ]
  },
  {
   "cell_type": "code",
   "execution_count": null,
   "metadata": {},
   "outputs": [],
   "source": [
    "# Solución Analítica\n",
    "def sol_an(t):\n",
    "    return (1/2)*np.sin(t) - (1/2)*np.cos(t) + (3/5)*np.cos(2.0*t) + (6/5)*np.sin(2.0*t) - (1/10)*np.exp(-t)\n",
    "\n",
    "# Gráfica\n",
    "hor = 8\n",
    "ver = 5\n",
    "fig1 = plt.figure(figsize=(hor, ver), dpi=80)\n",
    "\n",
    "plt.plot(tiempo, sol, linestyle='-', linewidth=6, color='mediumblue', label='Solución Numérica')\n",
    "plt.plot(tiempo, sol_an(tiempo), linestyle='--', linewidth=3, color='orange', label='Solución Analítica')\n",
    "\n",
    "formato_grafica(titulo='Comportamiento ODE', \n",
    "                ejex='Tiempo ($t$)', \n",
    "                ejey='$x(t)$',\n",
    "                leyenda=True)"
   ]
  },
  {
   "cell_type": "markdown",
   "metadata": {},
   "source": [
    "## 1.5. Ejemplo 2: Sistema de ODEs\n",
    "\n",
    "Se tiene el siguiente sistema de ecuaciones diferenciales:\n",
    "\n",
    "$$\n",
    "\\begin{cases}\n",
    "  \\frac{dx}{dt} = y - x \\\\ \n",
    "  \\\\\n",
    "  \\frac{dy}{dt} = 4x - y \\\\\n",
    "\\end{cases} \n",
    "$$\n",
    "\n",
    "Donde:\n",
    "- $x(t=0) \\rightarrow x_0 = 2.0$\n",
    "- $y(t=0) \\rightarrow y_0 = 0.0$"
   ]
  },
  {
   "cell_type": "code",
   "execution_count": null,
   "metadata": {},
   "outputs": [],
   "source": [
    "# PASO 1. Definir la función f(x,t)\n",
    "def ode(variables, t):\n",
    "    # Variables\n",
    "    x = variables[0]\n",
    "    y = variables[1]\n",
    "    \n",
    "    # Ecuaciones\n",
    "    dx_dt = y - x\n",
    "    dy_dt = 4*x - y\n",
    "    \n",
    "    return [dx_dt, dy_dt]\n",
    "\n",
    "ode"
   ]
  },
  {
   "cell_type": "code",
   "execution_count": null,
   "metadata": {},
   "outputs": [],
   "source": [
    "# PASO 2. Condiciones iniciales\n",
    "condiciones_iniciales = [2, 0] # [x0, y0]\n",
    "condiciones_iniciales"
   ]
  },
  {
   "cell_type": "code",
   "execution_count": null,
   "metadata": {},
   "outputs": [],
   "source": [
    "# PASO 3. Puntos de tiempo\n",
    "start = 0\n",
    "stop = 10\n",
    "num = 50\n",
    "\n",
    "tiempo = np.linspace(start, stop, num)\n",
    "tiempo"
   ]
  },
  {
   "cell_type": "code",
   "execution_count": null,
   "metadata": {
    "scrolled": true
   },
   "outputs": [],
   "source": [
    "# PASO 4. Solcionar ODE\n",
    "sol = integrate.odeint(func=ode, \n",
    "                       y0=condiciones_iniciales, \n",
    "                       t=tiempo)\n",
    "\n",
    "sol"
   ]
  },
  {
   "cell_type": "code",
   "execution_count": null,
   "metadata": {},
   "outputs": [],
   "source": [
    "# Solución Analítica\n",
    "def X_an(t):\n",
    "    return np.exp(t) + np.exp(-3*t)\n",
    "\n",
    "def Y_an(t):\n",
    "    return 2*np.exp(t) - 2*np.exp(-3*t)\n",
    "\n",
    "# Gráfica\n",
    "hor = 8\n",
    "ver = 5\n",
    "fig1 = plt.figure(figsize=(hor, ver), dpi=80)\n",
    "\n",
    "# X\n",
    "plt.plot(tiempo, sol[:,0], linestyle='-', linewidth=6, color='mediumblue', label='Sol. X Numérica')\n",
    "plt.plot(tiempo, X_an(tiempo), linestyle='--', linewidth=3, color='orange', label='Sol. X Analítica')\n",
    "\n",
    "# Y\n",
    "plt.plot(tiempo, sol[:,1], linestyle='-', linewidth=6, color='darkolivegreen', label='Sol. Y Numérica')\n",
    "plt.plot(tiempo, Y_an(tiempo), linestyle='--', linewidth=3, color='powderblue', label='Sol. Y Analítica')\n",
    "\n",
    "formato_grafica(titulo='Comportamiento ODE', \n",
    "                ejex='Tiempo ($t$)', \n",
    "                ejey='$x(t)$, $y(t)$',\n",
    "                leyenda=True)"
   ]
  },
  {
   "cell_type": "markdown",
   "metadata": {},
   "source": [
    "## 1.6. Ejemplo 3: Ecuaciones de Lorenz\n",
    "\n",
    "Se tiene el siguiente sistema de ecuaciones diferenciales (**[Ecuaciones de Lorenz](https://es.wikipedia.org/wiki/Atractor_de_Lorenz)**):\n",
    "\n",
    "$$\n",
    "\\begin{cases}\n",
    "  \\frac{dx}{dt} = \\sigma (y - x) \\\\ \n",
    "  \\\\\n",
    "  \\frac{dy}{dt} = x(\\rho - z) - y \\\\\n",
    "  \\\\\n",
    "  \\frac{dz}{dt} = xy - \\beta z\n",
    "\\end{cases} \n",
    "$$\n",
    "\n",
    "Donde:\n",
    "**Constantes**\n",
    "- $\\sigma = 10.0$\n",
    "- $\\rho = 28.0$\n",
    "- $\\beta = 8/3$\n",
    "\n",
    "**Parámetros ODE**\n",
    "- $x(t=0) \\rightarrow x_0 = 1.0$\n",
    "- $y(t=0) \\rightarrow y_0 = 0.0$\n",
    "- $z(t=0) \\rightarrow z_0 = 0.0$"
   ]
  },
  {
   "cell_type": "code",
   "execution_count": null,
   "metadata": {},
   "outputs": [],
   "source": [
    "# PASO 1. Definir la función f(x,t)\n",
    "def ode(variables, t, sigma, rho, beta):\n",
    "    # Variables\n",
    "    x = variables[0]\n",
    "    y = variables[1]\n",
    "    z = variables[2]\n",
    "    \n",
    "    # Ecuaciones\n",
    "    dx_dt = sigma * (y-x)\n",
    "    dy_dt = x * (rho-z) - y\n",
    "    dz_dt = x*y - beta*z\n",
    "    \n",
    "    return [dx_dt, dy_dt, dz_dt]\n",
    "\n",
    "ode"
   ]
  },
  {
   "cell_type": "code",
   "execution_count": null,
   "metadata": {},
   "outputs": [],
   "source": [
    "# PASO 2. Condiciones iniciales\n",
    "condiciones_iniciales = [1, 0, 0] # [x0, y0, z0]\n",
    "condiciones_iniciales"
   ]
  },
  {
   "cell_type": "code",
   "execution_count": null,
   "metadata": {
    "scrolled": true
   },
   "outputs": [],
   "source": [
    "# PASO 3. Puntos de tiempo\n",
    "start = 0\n",
    "stop = 40\n",
    "num = 10000\n",
    "\n",
    "tiempo = np.linspace(start, stop, num)"
   ]
  },
  {
   "cell_type": "code",
   "execution_count": null,
   "metadata": {
    "scrolled": true
   },
   "outputs": [],
   "source": [
    "# PASO 4. Solcionar ODE\n",
    "sigma = 10\n",
    "rho = 28\n",
    "beta = 8/3\n",
    "\n",
    "sol = integrate.odeint(func=ode, \n",
    "                       y0=condiciones_iniciales, \n",
    "                       t=tiempo,\n",
    "                       args=(sigma, rho, beta))\n",
    "\n",
    "sol"
   ]
  },
  {
   "cell_type": "code",
   "execution_count": null,
   "metadata": {},
   "outputs": [],
   "source": [
    "from mpl_toolkits.mplot3d import Axes3D\n",
    "\n",
    "# Gráfica\n",
    "hor = 8\n",
    "ver = 5\n",
    "fig = plt.figure(figsize=(hor, ver), dpi=80)\n",
    "ax = fig.add_subplot(1, 1, 1, projection='3d')\n",
    "\n",
    "ax.plot(sol[:, 0], sol[:, 1], sol[:, 2], linestyle='-', linewidth=1, color='dodgerblue', label='Solución Numérica')\n",
    "\n",
    "formato_grafica(titulo='Comportamiento ODE', \n",
    "                ejex='', \n",
    "                ejey='',\n",
    "                leyenda=False)"
   ]
  },
  {
   "cell_type": "markdown",
   "metadata": {},
   "source": [
    "## 1.7. Ejemplo 4: ODE de Segundo Grado\n",
    "\n",
    "$$\n",
    "\\frac{d^2x}{dt^2} + \\frac{dx}{dt} + 2x = 0\n",
    "$$\n",
    "\n",
    "Donde:\n",
    "- $dx$ es la derivada de la variable de estado actual.\n",
    "- $x$ es la variable de estado actual.\n",
    "- $t$ es el tiempo actual.\n",
    "- $x(t=0) = x_0 = 1$\n",
    "- $\\frac{dx}{dt}(t=0) = dx_0 = 0$"
   ]
  },
  {
   "cell_type": "code",
   "execution_count": null,
   "metadata": {},
   "outputs": [],
   "source": [
    "# PASO 1. Definir la función f(x,t)\n",
    "def ode(variables, t):\n",
    "    # Variables\n",
    "    x = variables[0]\n",
    "    dx_dt = variables[1]\n",
    "    \n",
    "    # Ecuaciones\n",
    "    d2x_dt2 = -dx_dt - 2*x\n",
    "    \n",
    "    return [dx_dt, d2x_dt2]\n",
    "\n",
    "ode"
   ]
  },
  {
   "cell_type": "code",
   "execution_count": null,
   "metadata": {},
   "outputs": [],
   "source": [
    "# PASO 2. Condiciones iniciales\n",
    "condiciones_iniciales = [1, 0] # [x0, dx_dt0]\n",
    "condiciones_iniciales"
   ]
  },
  {
   "cell_type": "code",
   "execution_count": null,
   "metadata": {},
   "outputs": [],
   "source": [
    "# PASO 3. Puntos de tiempo\n",
    "start = 0\n",
    "stop = 12\n",
    "num = 50\n",
    "\n",
    "tiempo = np.linspace(start, stop, num)\n",
    "tiempo"
   ]
  },
  {
   "cell_type": "code",
   "execution_count": null,
   "metadata": {
    "scrolled": true
   },
   "outputs": [],
   "source": [
    "# PASO 4. Solcionar ODE\n",
    "sol = integrate.odeint(func=ode, \n",
    "                       y0=condiciones_iniciales, \n",
    "                       t=tiempo)\n",
    "\n",
    "sol"
   ]
  },
  {
   "cell_type": "code",
   "execution_count": null,
   "metadata": {},
   "outputs": [],
   "source": [
    "# Solución Analítica\n",
    "def sol_an(t):\n",
    "    return np.exp(-t/2) * (np.cos(np.sqrt(7) * t / 2) + np.sin(np.sqrt(7) * t / 2)/np.sqrt(7))\n",
    "\n",
    "# Gráfica\n",
    "hor = 8\n",
    "ver = 5\n",
    "fig1 = plt.figure(figsize=(hor, ver), dpi=80)\n",
    "\n",
    "plt.plot(tiempo, sol[:,0], linestyle='-', linewidth=6, color='mediumblue', label='Solución Numérica')\n",
    "plt.plot(tiempo, sol_an(tiempo), linestyle='--', linewidth=3, color='orange', label='Solución Analítica')\n",
    "\n",
    "formato_grafica(titulo='Comportamiento ODE', \n",
    "                ejex='Tiempo ($t$)', \n",
    "                ejey='$x(t)$',\n",
    "                leyenda=True)"
   ]
  },
  {
   "cell_type": "markdown",
   "metadata": {},
   "source": [
    "<a id=\"section2\"></a>\n",
    "# Sección 2: Sistemas Dinámicos"
   ]
  },
  {
   "cell_type": "markdown",
   "metadata": {},
   "source": [
    "## 2.1. Introducción\n",
    "\n",
    "Tengamos presentes las siguientes equivalencias:\n",
    "\n",
    "#### Movimiento Rectilíneo\n",
    "$$\n",
    "\\begin{cases}\n",
    "  v = \\frac{dx}{dt} = \\dot{x} \\\\ \n",
    "  \\\\\n",
    "  a = \\frac{dv}{dt} = \\frac{d}{dt} \\left( \\frac{dx}{dt} \\right) = \\frac{d^2x}{dt^2} = \\ddot{x} \\\\\n",
    "\\end{cases} \n",
    "$$\n",
    "\n",
    "#### Movimiento Rotacional\n",
    "$$\n",
    "\\begin{cases}\n",
    "  \\omega = \\frac{d \\theta}{dt} = \\dot{\\theta} \\\\ \n",
    "  \\\\\n",
    "  \\alpha = \\frac{d \\omega}{dt} = \\frac{d}{dt} \\left( \\frac{d \\theta}{dt} \\right) = \\frac{d^2 \\theta}{dt^2} = \\ddot{\\theta} \\\\\n",
    "\\end{cases} \n",
    "$$\n",
    "\n",
    "#### Generalización 2da Ley de Newton\n",
    "$$\n",
    "\\begin{cases}\n",
    "  F = ma \\rightarrow F = m \\ddot{x} & (1) \\\\ \n",
    "  \\\\\n",
    "  T = I \\alpha \\rightarrow T = I \\ddot{\\theta} & (2) \\\\\n",
    "\\end{cases} \n",
    "$$\n",
    "\n",
    "Siendo $F$ la fuerza, $m$ la masa, $a$ la aceleración, $T$ el torque, $I$ el momento de inercia (en nuestros casos de estudio, $I = m L^2$, siendo $L$ la longitud al punto de pivote del giro) y $\\theta$ el ángulo de giro."
   ]
  },
  {
   "cell_type": "markdown",
   "metadata": {},
   "source": [
    "## 2.2. Ejemplo 1: Péndulo Simple\n",
    "\n",
    "<img src='./img/pendulum1.png' width='300' height='300'/>\n",
    "\n",
    "Partimos de la relación:\n",
    "\n",
    "$$\n",
    "T = I \\ddot{\\theta}\n",
    "$$\n",
    "\n",
    "El único componente de la masa que causa un torque en el cuerpo es:\n",
    "\n",
    "$$\n",
    "m g \\sin \\theta\n",
    "$$\n",
    "\n",
    "Luego:\n",
    "\n",
    "$$\n",
    "\\boxed{ \\ddot{\\theta} + \\frac{g}{L} \\sin \\theta = 0 }\n",
    "$$\n",
    "\n",
    "<div class='alert alert-block alert-info'> \n",
    "\n",
    "<i class='fa fa-info-circle' aria-hidden='true'></i>\n",
    "Puede obtener más información del ejercicio dando clic [aquí](https://www.youtube.com/watch?v=8VJ1CJ55Np0) y [aquí](https://www.youtube.com/watch?v=xBBXlQ7CmFc).\n",
    "</div>"
   ]
  },
  {
   "cell_type": "markdown",
   "metadata": {},
   "source": [
    "Modelemos esta ODE de segundo grado para:\n",
    "\n",
    "**Constantes**\n",
    "- $g = 9.81$\n",
    "- $L = 5.0$\n",
    "\n",
    "**Parámetros ODE**\n",
    "- $\\theta(t=0) \\rightarrow \\theta_0 = 30$\n",
    "- $d\\omega(t=0) \\rightarrow d\\omega_0 = 0$\n",
    "- $t_{inicial} = 0$\n",
    "- $t_{final} = 200$"
   ]
  },
  {
   "cell_type": "markdown",
   "metadata": {},
   "source": [
    "### 2.2.1. Derivada con `sympy.diff` y `sympy.solve`\n",
    "\n",
    "<div class='alert alert-block alert-info'> \n",
    "\n",
    "<i class='fa fa-info-circle' aria-hidden='true'></i>\n",
    "Puede obtener más información en la documentación oficial de la librería `sympy.diff` dando clic [aquí](https://docs.sympy.org/latest/tutorials/intro-tutorial/calculus.html).\n",
    "</div>\n",
    "\n",
    "<div class='alert alert-block alert-info'>   \n",
    "    \n",
    "<i class='fa fa-info-circle' aria-hidden='true'></i>\n",
    "Puede obtener más información en la documentación oficial de la librería `sympy.solve` dando clic [aquí](https://docs.sympy.org/latest/modules/solvers/solvers.html).\n",
    "</div>"
   ]
  },
  {
   "cell_type": "code",
   "execution_count": null,
   "metadata": {},
   "outputs": [],
   "source": [
    "g, L, t = sympy.symbols('g, L, t')"
   ]
  },
  {
   "cell_type": "code",
   "execution_count": null,
   "metadata": {},
   "outputs": [],
   "source": [
    "theta = dynamicsymbols('theta')\n",
    "theta"
   ]
  },
  {
   "cell_type": "code",
   "execution_count": null,
   "metadata": {},
   "outputs": [],
   "source": [
    "df_theta = sympy.diff(theta, t)\n",
    "df_theta"
   ]
  },
  {
   "cell_type": "code",
   "execution_count": null,
   "metadata": {},
   "outputs": [],
   "source": [
    "dff_theta = sympy.diff(df_theta, t)\n",
    "dff_theta"
   ]
  },
  {
   "cell_type": "code",
   "execution_count": null,
   "metadata": {},
   "outputs": [],
   "source": [
    "eq = sympy.Eq(dff_theta + (g/L)*sympy.sin(theta), 0)\n",
    "eq"
   ]
  },
  {
   "cell_type": "code",
   "execution_count": null,
   "metadata": {},
   "outputs": [],
   "source": [
    "sol = sympy.solve(eq, dff_theta)\n",
    "sol[0]"
   ]
  },
  {
   "cell_type": "code",
   "execution_count": null,
   "metadata": {},
   "outputs": [],
   "source": [
    "# Integral\n",
    "sympy.integrate(sympy.integrate(sol[0], theta), theta)"
   ]
  },
  {
   "cell_type": "markdown",
   "metadata": {},
   "source": [
    "### 2.2.2. Solución Numérica con `scipy.integrate.odeint`"
   ]
  },
  {
   "cell_type": "code",
   "execution_count": null,
   "metadata": {},
   "outputs": [],
   "source": [
    "# PASO 1. Definir la función\n",
    "def pendulo_simple(variables, t, g, L):\n",
    "    # Variables\n",
    "    theta = variables[0]\n",
    "    dtheta_dt = variables[1]\n",
    "    \n",
    "    # Ecuaciones\n",
    "    d2theta_dt2 = -(g/L) * np.sin(np.deg2rad(theta))\n",
    "    \n",
    "    return [dtheta_dt, d2theta_dt2]\n",
    "\n",
    "pendulo_simple"
   ]
  },
  {
   "cell_type": "code",
   "execution_count": null,
   "metadata": {},
   "outputs": [],
   "source": [
    "# PASO 2. Condiciones iniciales\n",
    "condiciones_iniciales = [30, 0] # [x0, dx_dt0]\n",
    "condiciones_iniciales"
   ]
  },
  {
   "cell_type": "code",
   "execution_count": null,
   "metadata": {},
   "outputs": [],
   "source": [
    "# PASO 3. Puntos de tiempo\n",
    "start = 0\n",
    "stop = 200\n",
    "num = 1000\n",
    "\n",
    "tiempo = np.linspace(start, stop, num)\n",
    "tiempo"
   ]
  },
  {
   "cell_type": "code",
   "execution_count": null,
   "metadata": {},
   "outputs": [],
   "source": [
    "# PASO 4. Solcionar ODE\n",
    "## Constantes\n",
    "g = 9.81\n",
    "L = 5.0\n",
    "\n",
    "## Solución numérica\n",
    "sol = integrate.odeint(func=pendulo_simple, \n",
    "                       y0=condiciones_iniciales, \n",
    "                       t=tiempo,\n",
    "                       args=(g, L))\n",
    "\n",
    "sol"
   ]
  },
  {
   "cell_type": "code",
   "execution_count": null,
   "metadata": {},
   "outputs": [],
   "source": [
    "# Gráfica\n",
    "hor = 8\n",
    "ver = 5\n",
    "fig1 = plt.figure(figsize=(hor, ver), dpi=80)\n",
    "\n",
    "plt.plot(tiempo, sol[:,0], linestyle='-', linewidth=3, color='dodgerblue', label='Solución Numérica')\n",
    "\n",
    "formato_grafica(titulo='Comportamiento ODE', \n",
    "                ejex='Tiempo ($t$)', \n",
    "                ejey='$theta(t)$',\n",
    "                leyenda=False)"
   ]
  },
  {
   "cell_type": "markdown",
   "metadata": {},
   "source": [
    "Partimos de la relación:\n",
    "\n",
    "$$\n",
    "T = I \\ddot{\\theta}\n",
    "$$\n",
    "\n",
    "El único componente de la masa que causa un torque en el cuerpo es:\n",
    "\n",
    "$$\n",
    "m g \\sin \\theta\n",
    "$$\n",
    "\n",
    "Luego:\n",
    "\n",
    "$$\n",
    "\\boxed{ \\ddot{\\theta} + \\frac{g}{L} \\sin \\theta = 0 }\n",
    "$$\n"
   ]
  },
  {
   "cell_type": "markdown",
   "metadata": {},
   "source": [
    "## 2.3. Ejemplo 2: Péndulo Simple + Fricción + Fuerza Externa\n",
    "\n",
    "<img src='./img/pendulum2.png' width='800' height='800'/>\n",
    "\n",
    "Este caso es una extensión al Ejemplo 1, pues:\n",
    "\n",
    "$$\n",
    "F = m a\n",
    "$$\n",
    "\n",
    "Luego:\n",
    "\n",
    "$$\n",
    "F_0 \\cos(\\omega t) - mg \\sin(\\theta) - c \\frac{ds}{dt} = ma \n",
    "$$\n",
    "\n",
    "Entonces:\n",
    "\n",
    "$$\n",
    "F_0 \\cos(\\omega t) = m L \\ddot{\\theta} + c L \\dot{\\theta} + mg \\sin(\\theta)\n",
    "$$\n",
    "\n",
    "Que se puede reescribir como:\n",
    "\n",
    "$$\n",
    "\\boxed{ \\ddot{\\theta} + \\alpha \\dot{\\theta} + \\sin(\\theta) = \\gamma \\cos(\\beta t) }\n",
    "$$\n",
    "\n",
    "Donde:\n",
    "\n",
    "$$\n",
    "\\begin{cases}\n",
    "  \\alpha = \\frac{c}{m \\omega_0} \\\\ \n",
    "  \\\\\n",
    "  \\beta = \\frac{\\omega}{\\omega_0} \\\\\n",
    "  \\\\\n",
    "  \\gamma = \\frac{F_0}{m L \\omega_0^2}\n",
    "\\end{cases} \n",
    "$$\n",
    "\n",
    "<div class='alert alert-block alert-info'> \n",
    "\n",
    "<i class='fa fa-info-circle' aria-hidden='true'></i>\n",
    "Puede obtener más información del ejercicio dando clic [aquí](https://www.youtube.com/watch?v=SZWn7x4g-Vo).\n",
    "</div>"
   ]
  },
  {
   "cell_type": "markdown",
   "metadata": {},
   "source": [
    "Modelemos esta ODE de segundo grado para:\n",
    "\n",
    "**Constantes**\n",
    "- $c = 0.5$\n",
    "- $m = 2$\n",
    "- $\\omega_0 = 50$\n",
    "- $\\beta = 0.98$\n",
    "- $F_0 = 150$\n",
    "- $L = 8$\n",
    "\n",
    "**Parámetros ODE**\n",
    "- $x(t=0) \\rightarrow x_0 = 30$\n",
    "- $dx(t=0) \\rightarrow dx_0 = 0$\n",
    "- $t_{inicial} = 0$\n",
    "- $t_{final} = 1000$"
   ]
  },
  {
   "cell_type": "markdown",
   "metadata": {},
   "source": [
    "### 2.3.1. Derivada con `sympy.diff` y `sympy.solve`\n",
    "\n"
   ]
  },
  {
   "cell_type": "code",
   "execution_count": null,
   "metadata": {},
   "outputs": [],
   "source": [
    "alpha, beta, gamma, t = sympy.symbols('alpha, beta, gamma, t')"
   ]
  },
  {
   "cell_type": "code",
   "execution_count": null,
   "metadata": {},
   "outputs": [],
   "source": [
    "theta = dynamicsymbols('theta')\n",
    "theta"
   ]
  },
  {
   "cell_type": "code",
   "execution_count": null,
   "metadata": {},
   "outputs": [],
   "source": [
    "df_theta = sympy.diff(theta, t)\n",
    "df_theta"
   ]
  },
  {
   "cell_type": "code",
   "execution_count": null,
   "metadata": {},
   "outputs": [],
   "source": [
    "dff_theta = sympy.diff(df_theta, t)\n",
    "dff_theta"
   ]
  },
  {
   "cell_type": "code",
   "execution_count": null,
   "metadata": {},
   "outputs": [],
   "source": [
    "eq = sympy.Eq(dff_theta + alpha*df_theta + sympy.sin(theta), gamma*sympy.cos(beta*t))\n",
    "eq"
   ]
  },
  {
   "cell_type": "code",
   "execution_count": null,
   "metadata": {},
   "outputs": [],
   "source": [
    "sol = sympy.solve(eq, dff_theta)\n",
    "sol[0]"
   ]
  },
  {
   "cell_type": "code",
   "execution_count": null,
   "metadata": {},
   "outputs": [],
   "source": [
    "# Integral\n",
    "sympy.integrate(sympy.integrate(sol[0], theta), theta)"
   ]
  },
  {
   "cell_type": "markdown",
   "metadata": {},
   "source": [
    "### 2.3.2. Solución Numérica con `scipy.integrate.odeint`"
   ]
  },
  {
   "cell_type": "code",
   "execution_count": null,
   "metadata": {},
   "outputs": [],
   "source": [
    "# PASO 1. Definir la función\n",
    "def pendulo_friccion(variables, t, alpha, beta, gamma):\n",
    "    # Variables\n",
    "    theta = variables[0]\n",
    "    dtheta = variables[1]\n",
    "    \n",
    "    # Ecuaciones\n",
    "    d2theta = -alpha*dtheta - np.sin(np.deg2rad(theta)) + gamma*np.cos(np.deg2rad(beta*t))\n",
    "    \n",
    "    return [dtheta, d2theta]\n",
    "\n",
    "pendulo_friccion"
   ]
  },
  {
   "cell_type": "code",
   "execution_count": null,
   "metadata": {},
   "outputs": [],
   "source": [
    "# PASO 2. Condiciones iniciales\n",
    "condiciones_iniciales = [30, 0] # [x0, dx_dt0]\n",
    "condiciones_iniciales"
   ]
  },
  {
   "cell_type": "code",
   "execution_count": null,
   "metadata": {},
   "outputs": [],
   "source": [
    "# PASO 3. Puntos de tiempo\n",
    "start = 0\n",
    "stop = 1000\n",
    "num = 1000\n",
    "\n",
    "tiempo = np.linspace(start, stop, num)\n",
    "tiempo"
   ]
  },
  {
   "cell_type": "code",
   "execution_count": null,
   "metadata": {},
   "outputs": [],
   "source": [
    "# PASO 4. Solcionar ODE\n",
    "## Constantes\n",
    "c = 0.5\n",
    "m = 2.0\n",
    "omega = 50.0\n",
    "beta = 0.98\n",
    "F = 150\n",
    "L = 8.0\n",
    "\n",
    "alpha = c / (m*omega)\n",
    "gamma = F / (m*L*(omega**2))\n",
    "\n",
    "## Solución numérica\n",
    "sol = integrate.odeint(func=pendulo_friccion, \n",
    "                       y0=condiciones_iniciales, \n",
    "                       t=tiempo,\n",
    "                       args=(alpha, beta, gamma))\n",
    "\n",
    "sol"
   ]
  },
  {
   "cell_type": "code",
   "execution_count": null,
   "metadata": {},
   "outputs": [],
   "source": [
    "# Gráfica\n",
    "hor = 10\n",
    "ver = 3\n",
    "\n",
    "# Ángulo\n",
    "fig = plt.figure(figsize=(hor, ver), dpi=80)\n",
    "\n",
    "plt.plot(tiempo, sol[:,0], linestyle='-', linewidth=2, color='dodgerblue', label='Solución Numérica')\n",
    "\n",
    "formato_grafica(titulo='', \n",
    "                ejex='Tiempo ($t$)', \n",
    "                ejey='θ (rad)',\n",
    "                leyenda=False)\n",
    "\n",
    "# Velocidad Angular\n",
    "fig = plt.figure(figsize=(hor, ver), dpi=80)\n",
    "\n",
    "plt.plot(tiempo, sol[:,1], linestyle='-', linewidth=2, color='orange', label='Solución Numérica')\n",
    "\n",
    "formato_grafica(titulo='', \n",
    "                ejex='Tiempo ($t$)', \n",
    "                ejey='ω (rad/s)',\n",
    "                leyenda=False)"
   ]
  },
  {
   "cell_type": "markdown",
   "metadata": {},
   "source": [
    "## 2.4. Ejemplo 3: Masa-Resorte\n",
    "\n",
    "<img src='./img/spring1.png' width='800' height='800'/>\n",
    "\n",
    "El escenario de una masa-resorte parte de:\n",
    "\n",
    "$$\n",
    "F = m a = m \\ddot{x}\n",
    "$$\n",
    "\n",
    "En donde se tienen los siguientes elementos presentes:\n",
    "\n",
    "$$\n",
    "\\begin{cases}\n",
    "  \\text{Ley de Hooke} \\rightarrow F_s = -k x \\\\ \n",
    "  \\\\\n",
    "  \\text{Fricción} \\rightarrow \\beta = F_f = -c \\frac{dx}{dt} = -c \\dot{x} \\\\\n",
    "  \\\\\n",
    "  \\text{Fuerza Externa} \\rightarrow F_e = F_0 \\cos(\\omega t)\n",
    "\\end{cases} \n",
    "$$\n",
    "\n",
    "Luego:\n",
    "\n",
    "$$\n",
    "F_0 \\cos(\\omega t) - c \\dot{x} - k x = m \\ddot{x}\n",
    "$$\n",
    "\n",
    "Entonces:\n",
    "\n",
    "$$\n",
    "m \\ddot{x} + c \\dot{x} + k x = F_0 \\cos(\\omega t)\n",
    "$$\n",
    "\n",
    "Que se puede reescribir como:\n",
    "\n",
    "$$\n",
    "\\boxed{ \\ddot{x} + \\alpha \\dot{x} + \\gamma x = \\cos(\\beta t) }\n",
    "$$\n",
    "\n",
    "Donde:\n",
    "\n",
    "$$\n",
    "\\begin{cases}\n",
    "  \\alpha = \\frac{c}{m \\omega_0} \\\\ \n",
    "  \\\\\n",
    "  \\gamma = \\frac{m \\omega_0^2}{F_0} \\\\\n",
    "  \\\\\n",
    "  \\beta = \\frac{\\omega}{\\omega_0} \\\\\n",
    "\\end{cases} \n",
    "$$\n",
    "\n",
    "<div class='alert alert-block alert-info'> \n",
    "\n",
    "<i class='fa fa-info-circle' aria-hidden='true'></i>\n",
    "Puede obtener más información del ejercicio dando clic [aquí](https://www.youtube.com/watch?v=gwkBOH7EClo).\n",
    "</div>"
   ]
  },
  {
   "cell_type": "markdown",
   "metadata": {},
   "source": [
    "### 2.4.1. Derivada con `sympy.diff` y `sympy.solve`\n",
    "\n",
    "<div class='alert alert-block alert-info'> \n",
    "\n",
    "<i class='fa fa-info-circle' aria-hidden='true'></i>\n",
    "Puede obtener más información en la documentación oficial de la librería `sympy.diff` dando clic [aquí](https://docs.sympy.org/latest/tutorials/intro-tutorial/calculus.html).\n",
    "</div>\n",
    "\n",
    "<div class='alert alert-block alert-info'>   \n",
    "    \n",
    "<i class='fa fa-info-circle' aria-hidden='true'></i>\n",
    "Puede obtener más información en la documentación oficial de la librería `sympy.solve` dando clic [aquí](https://docs.sympy.org/latest/modules/solvers/solvers.html).\n",
    "</div>"
   ]
  },
  {
   "cell_type": "code",
   "execution_count": null,
   "metadata": {},
   "outputs": [],
   "source": [
    "alpha, beta, gamma, t = sympy.symbols('alpha, beta, gamma, t')"
   ]
  },
  {
   "cell_type": "code",
   "execution_count": null,
   "metadata": {},
   "outputs": [],
   "source": [
    "x = dynamicsymbols('x')\n",
    "x"
   ]
  },
  {
   "cell_type": "code",
   "execution_count": null,
   "metadata": {},
   "outputs": [],
   "source": [
    "df_x = sympy.diff(x, t)\n",
    "df_x"
   ]
  },
  {
   "cell_type": "code",
   "execution_count": null,
   "metadata": {},
   "outputs": [],
   "source": [
    "dff_x = sympy.diff(df_x, t)\n",
    "dff_x"
   ]
  },
  {
   "cell_type": "code",
   "execution_count": null,
   "metadata": {},
   "outputs": [],
   "source": [
    "eq = sympy.Eq(dff_x + alpha*df_x + gamma*x, sympy.cos(beta*t))\n",
    "eq"
   ]
  },
  {
   "cell_type": "code",
   "execution_count": null,
   "metadata": {},
   "outputs": [],
   "source": [
    "sol = sympy.solve(eq, dff_x)\n",
    "sol[0]"
   ]
  },
  {
   "cell_type": "code",
   "execution_count": null,
   "metadata": {},
   "outputs": [],
   "source": [
    "sol = sympy.dsolve(eq)\n",
    "sol"
   ]
  },
  {
   "cell_type": "markdown",
   "metadata": {},
   "source": [
    "### 2.4.2. Solución Numérica con `scipy.integrate.odeint`\n",
    "\n",
    "<div class=\"alert alert-block alert-warning\">   \n",
    "\n",
    "**SU TURNO**\n",
    "\n",
    "Modelemos esta ODE de segundo grado para:\n",
    "\n",
    "**Constantes**\n",
    "- $c = 100$\n",
    "- $m = 4.5$\n",
    "- $\\omega_0 = 25$\n",
    "- $\\beta = 0.55$\n",
    "- $F_0 = 350$\n",
    "\n",
    "**Parámetros ODE**\n",
    "- $x(t=0) \\rightarrow x_0 = 10$\n",
    "- $dx(t=0) \\rightarrow dx_0 = 0$\n",
    "- $t_{inicial} = 0$\n",
    "- $t_{final} = 10$\n",
    "\n",
    "</div> "
   ]
  },
  {
   "cell_type": "code",
   "execution_count": null,
   "metadata": {},
   "outputs": [],
   "source": [
    "# PASO 1. Definir la función\n"
   ]
  },
  {
   "cell_type": "code",
   "execution_count": null,
   "metadata": {},
   "outputs": [],
   "source": [
    "# PASO 2. Condiciones iniciales\n"
   ]
  },
  {
   "cell_type": "code",
   "execution_count": null,
   "metadata": {},
   "outputs": [],
   "source": [
    "# PASO 3. Puntos de tiempo\n"
   ]
  },
  {
   "cell_type": "code",
   "execution_count": null,
   "metadata": {
    "scrolled": true
   },
   "outputs": [],
   "source": [
    "# PASO 4. Solcionar ODE\n"
   ]
  },
  {
   "cell_type": "code",
   "execution_count": null,
   "metadata": {},
   "outputs": [],
   "source": [
    "# Gráfica\n"
   ]
  },
  {
   "cell_type": "markdown",
   "metadata": {},
   "source": [
    "## 2.5. Ejemplo 4: Doble Masa - Doble Resorte\n",
    "\n",
    "<img src='./img/spring2.png' width='600' height='600'/>\n",
    "\n",
    "Al igual que en el Ejemplo 5, el escenario de una masa-resorte parte de:\n",
    "\n",
    "$$\n",
    "F = m a = m \\ddot{x}\n",
    "$$\n",
    "\n",
    "En donde se tiene presente la Ley de Hooke:\n",
    "\n",
    "$$\n",
    "F_s = -k x\n",
    "$$\n",
    "\n",
    "En donde:\n",
    "\n",
    "$$\n",
    "\\sum F_s = m \\ddot{x}\n",
    "$$\n",
    "\n",
    "Entonces:\n",
    "\n",
    "$$\n",
    "\\boxed{\n",
    "\\begin{cases}\n",
    "  m_1 \\ddot{x_1} + (k_1 + k_2) x_1 - k_2 x_2 = 0 & (1) \\\\ \n",
    "  \\\\\n",
    "  m_2 \\ddot{x_2} + k_2 x_2 - k_2 x_1 = 0 & (2) \\\\\n",
    "\\end{cases}\n",
    "}\n",
    "$$\n",
    "\n",
    "<div class='alert alert-block alert-info'> \n",
    "\n",
    "<i class='fa fa-info-circle' aria-hidden='true'></i>\n",
    "Puede obtener más información del ejercicio dando clic [aquí](https://www.youtube.com/watch?v=dqtZwZmMh4w).\n",
    "</div>"
   ]
  },
  {
   "cell_type": "markdown",
   "metadata": {},
   "source": [
    "Modelemos esta ODE de segundo grado para:\n",
    "\n",
    "**Constantes**\n",
    "- $k_1 = 200$\n",
    "- $k_2 = 80$\n",
    "- $m_1 = 10$\n",
    "- $m_2 = 20$\n",
    "\n",
    "**Parámetros ODE**\n",
    "- $x(t=0) \\rightarrow x_0 = [0.025, 0.2]$\n",
    "- $dx(t=0) \\rightarrow dx_0 = [0, 0]$\n",
    "- $t_{inicial} = 0$\n",
    "- $t_{final} = 10$"
   ]
  },
  {
   "cell_type": "markdown",
   "metadata": {},
   "source": [
    "### 2.5.1. Derivada con `sympy.diff` y `sympy.solve`\n",
    "\n",
    "<div class='alert alert-block alert-info'> \n",
    "\n",
    "<i class='fa fa-info-circle' aria-hidden='true'></i>\n",
    "Puede obtener más información en la documentación oficial de la librería `sympy.diff` dando clic [aquí](https://docs.sympy.org/latest/tutorials/intro-tutorial/calculus.html).\n",
    "</div>\n",
    "\n",
    "<div class='alert alert-block alert-info'>   \n",
    "    \n",
    "<i class='fa fa-info-circle' aria-hidden='true'></i>\n",
    "Puede obtener más información en la documentación oficial de la librería `sympy.solve` dando clic [aquí](https://docs.sympy.org/latest/modules/solvers/solvers.html).\n",
    "</div>"
   ]
  },
  {
   "cell_type": "code",
   "execution_count": null,
   "metadata": {},
   "outputs": [],
   "source": [
    "k1, k2, m1, m2, t = sympy.symbols('k_1, k_2, m_1, m_2, t')"
   ]
  },
  {
   "cell_type": "code",
   "execution_count": null,
   "metadata": {},
   "outputs": [],
   "source": [
    "x1, x2 = sympy.symbols('x_1, x_2', cls=sympy.Function)\n",
    "\n",
    "x1 = x1(t)\n",
    "x2 = x2(t)"
   ]
  },
  {
   "cell_type": "code",
   "execution_count": null,
   "metadata": {},
   "outputs": [],
   "source": [
    "# X1\n",
    "df_x1 = sympy.diff(x1, t)\n",
    "dff_x1 = sympy.diff(df_x1, t)\n",
    "\n",
    "# X2\n",
    "df_x2 = sympy.diff(x2, t)\n",
    "dff_x2 = sympy.diff(df_x2, t)"
   ]
  },
  {
   "cell_type": "code",
   "execution_count": null,
   "metadata": {},
   "outputs": [],
   "source": [
    "# X1\n",
    "eq1 = sympy.Eq(m1*dff_x1 + (k1+k2)*x1 - k2*x2, 0)\n",
    "\n",
    "# X2\n",
    "eq2 = sympy.Eq(m2*dff_x2 + k2*x2 - k2*x1, 0)"
   ]
  },
  {
   "cell_type": "code",
   "execution_count": null,
   "metadata": {},
   "outputs": [],
   "source": [
    "# X1\n",
    "sol1 = sympy.solve(eq1, dff_x1)\n",
    "sol1[0]"
   ]
  },
  {
   "cell_type": "code",
   "execution_count": null,
   "metadata": {},
   "outputs": [],
   "source": [
    "# X2\n",
    "sol2 = sympy.solve(eq2, dff_x2)\n",
    "sol2[0]"
   ]
  },
  {
   "cell_type": "code",
   "execution_count": null,
   "metadata": {},
   "outputs": [],
   "source": [
    "sol1 = sympy.dsolve(eq1)\n",
    "sol1"
   ]
  },
  {
   "cell_type": "code",
   "execution_count": null,
   "metadata": {},
   "outputs": [],
   "source": [
    "sol2 = sympy.dsolve(eq2)\n",
    "sol2"
   ]
  },
  {
   "cell_type": "markdown",
   "metadata": {},
   "source": [
    "### 2.5.2. Solución Numérica con `scipy.integrate.odeint`"
   ]
  },
  {
   "cell_type": "code",
   "execution_count": null,
   "metadata": {},
   "outputs": [],
   "source": [
    "# PASO 1. Definir la función\n",
    "def masa_resorte(variables, t, m1, m2, k1, k2):\n",
    "    # Variables\n",
    "    x1 = variables[0]\n",
    "    x2 = variables[1]\n",
    "    dx1 = variables[2]\n",
    "    dx2 = variables[3]\n",
    "    \n",
    "    # Ecuaciones\n",
    "    d2x1 = (-(k1+k2)*x1 + k2*x2) / m1\n",
    "    d2x2 = (-k2*x2 + k2*x1) / m2\n",
    "    \n",
    "    return [dx1, dx2, d2x1, d2x2]\n",
    "\n",
    "masa_resorte"
   ]
  },
  {
   "cell_type": "code",
   "execution_count": null,
   "metadata": {},
   "outputs": [],
   "source": [
    "# PASO 2. Condiciones iniciales\n",
    "condiciones_iniciales = [0.025, 0.2, 0, 0] # [x0, dx_dt0]\n",
    "condiciones_iniciales"
   ]
  },
  {
   "cell_type": "code",
   "execution_count": null,
   "metadata": {},
   "outputs": [],
   "source": [
    "# PASO 3. Puntos de tiempo\n",
    "start = 0\n",
    "stop = 10\n",
    "num = 1000\n",
    "\n",
    "tiempo = np.linspace(start, stop, num)\n",
    "tiempo"
   ]
  },
  {
   "cell_type": "code",
   "execution_count": null,
   "metadata": {
    "scrolled": true
   },
   "outputs": [],
   "source": [
    "# PASO 4. Solcionar ODE\n",
    "## Constantes\n",
    "m1 = 10.0\n",
    "m2 = 20.0\n",
    "k1 = 200.0\n",
    "k2 = 80.0\n",
    "\n",
    "## Solución numérica\n",
    "sol = integrate.odeint(func=masa_resorte, \n",
    "                       y0=condiciones_iniciales, \n",
    "                       t=tiempo,\n",
    "                       args=(m1, m2, k1, k2))\n",
    "\n",
    "sol"
   ]
  },
  {
   "cell_type": "code",
   "execution_count": null,
   "metadata": {},
   "outputs": [],
   "source": [
    "# Gráfica\n",
    "hor = 10\n",
    "ver = 3\n",
    "\n",
    "# Ángulo\n",
    "fig = plt.figure(figsize=(hor, ver), dpi=80)\n",
    "\n",
    "plt.plot(tiempo, sol[:,0], linestyle='-', linewidth=2, color='dodgerblue', label='Solución Numérica')\n",
    "\n",
    "formato_grafica(titulo='', \n",
    "                ejex='Tiempo ($t$)', \n",
    "                ejey='$X_1$',\n",
    "                leyenda=False)\n",
    "\n",
    "# Velocidad Angular\n",
    "fig = plt.figure(figsize=(hor, ver), dpi=80)\n",
    "\n",
    "plt.plot(tiempo, sol[:,1], linestyle='-', linewidth=2, color='orange', label='Solución Numérica')\n",
    "\n",
    "formato_grafica(titulo='', \n",
    "                ejex='Tiempo ($t$)', \n",
    "                ejey='$X_2$',\n",
    "                leyenda=False)"
   ]
  }
 ],
 "metadata": {
  "kernelspec": {
   "display_name": "hc",
   "language": "python",
   "name": "hc"
  },
  "language_info": {
   "codemirror_mode": {
    "name": "ipython",
    "version": 3
   },
   "file_extension": ".py",
   "mimetype": "text/x-python",
   "name": "python",
   "nbconvert_exporter": "python",
   "pygments_lexer": "ipython3",
   "version": "3.11.0"
  },
  "toc": {
   "base_numbering": 1,
   "nav_menu": {},
   "number_sections": false,
   "sideBar": true,
   "skip_h1_title": true,
   "title_cell": "Table of Contents",
   "title_sidebar": "Contents",
   "toc_cell": false,
   "toc_position": {},
   "toc_section_display": true,
   "toc_window_display": false
  }
 },
 "nbformat": 4,
 "nbformat_minor": 2
}
