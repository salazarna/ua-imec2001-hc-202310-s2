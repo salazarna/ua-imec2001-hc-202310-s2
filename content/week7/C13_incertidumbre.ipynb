{
 "cells": [
  {
   "cell_type": "markdown",
   "metadata": {},
   "source": [
    "# IMEC2001 Herramientas Computacionales\n",
    "## Semana 7: Ecuaciones Diferenciales Ordinarias (ODE)\n",
    "### Clase 13:  Incertidumbre y Propagación de Error\n",
    "\n",
    "Universidad de los Andes — Mayo 17, 2023.\n",
    "\n",
    "---\n",
    "\n",
    "## TABLA DE CONTENIDO\n",
    "\n",
    "### Sección 1: Incertidumbre y Propagación de Error [→](#section1)\n",
    "- 1.1. Cargar Librerías\n",
    "- 1.2. Distribución Normal: Valor de $Z$\n",
    "- 1.3. Distribución t-Student: Valor de $t$\n",
    "- 1.4. Propagación de Error con Librería `uncertainties`\n",
    "    - 1.4.1. Ejemplo 1: Potencia Eléctrica\n",
    "    - 1.4.2. Ejemplo 2: Péndulo Simple\n",
    "        - 1.4.2.1. Propagación de Error: Manual\n",
    "        - 1.4.2.2. Propagación de Error: `uncertainties`\n",
    "- 1.5. Barras de Error con `plt.errorbar`\n",
    "___"
   ]
  },
  {
   "cell_type": "markdown",
   "metadata": {},
   "source": [
    "<a id=\"section1\"></a>\n",
    "# Sección 1: Incertidumbre y Propagación de Error"
   ]
  },
  {
   "cell_type": "markdown",
   "metadata": {},
   "source": [
    "## 1.1. Cargar Librerías\n",
    "\n",
    "Primero, asegurémonos de haber instalado las librerías:\n",
    "\n",
    "> ```python\n",
    "  !pip install uncertainties\n",
    "  ```"
   ]
  },
  {
   "cell_type": "code",
   "execution_count": 1,
   "metadata": {},
   "outputs": [],
   "source": [
    "# Datos y Gráficas\n",
    "%matplotlib inline\n",
    "import matplotlib.pyplot as plt\n",
    "import pandas as pd\n",
    "import numpy as np\n",
    "import sympy\n",
    "\n",
    "# Incertidumbre\n",
    "from scipy import stats\n",
    "from uncertainties import ufloat"
   ]
  },
  {
   "cell_type": "markdown",
   "metadata": {},
   "source": [
    "## 1.2. Distribución Normal: Valor de $Z$\n",
    "\n",
    "<div class='alert alert-block alert-info'> \n",
    "\n",
    "<i class='fa fa-info-circle' aria-hidden='true'></i>\n",
    "Puede obtener más información en la documentación oficial de la librería `scipy.stats.norm` dando clic [aquí](https://docs.scipy.org/doc/scipy/reference/generated/scipy.stats.norm.html).\n",
    "</div>"
   ]
  },
  {
   "cell_type": "code",
   "execution_count": 2,
   "metadata": {},
   "outputs": [
    {
     "data": {
      "text/plain": [
       "0.95"
      ]
     },
     "execution_count": 2,
     "metadata": {},
     "output_type": "execute_result"
    }
   ],
   "source": [
    "# PASO 1. Intervalo de confianza\n",
    "IC = 0.95\n",
    "IC"
   ]
  },
  {
   "cell_type": "code",
   "execution_count": 3,
   "metadata": {},
   "outputs": [
    {
     "data": {
      "text/plain": [
       "0.050000000000000044"
      ]
     },
     "execution_count": 3,
     "metadata": {},
     "output_type": "execute_result"
    }
   ],
   "source": [
    "# PASO 2. Valor de alpha\n",
    "alpha = 1 - IC\n",
    "alpha"
   ]
  },
  {
   "cell_type": "code",
   "execution_count": 4,
   "metadata": {},
   "outputs": [
    {
     "data": {
      "text/plain": [
       "0.025000000000000022"
      ]
     },
     "execution_count": 4,
     "metadata": {},
     "output_type": "execute_result"
    }
   ],
   "source": [
    "# PASO 3. Valor de alpha/2\n",
    "alpha_medios = alpha/2\n",
    "alpha_medios"
   ]
  },
  {
   "cell_type": "code",
   "execution_count": 5,
   "metadata": {},
   "outputs": [
    {
     "data": {
      "text/plain": [
       "1.959963984540054"
      ]
     },
     "execution_count": 5,
     "metadata": {},
     "output_type": "execute_result"
    }
   ],
   "source": [
    "# PASO 4. Distr. Normal (Z)\n",
    "valor = IC + alpha_medios\n",
    "\n",
    "Z = stats.norm.ppf(valor)\n",
    "Z"
   ]
  },
  {
   "cell_type": "markdown",
   "metadata": {},
   "source": [
    "## 1.3. Distribución t-Student: Valor de $t$\n",
    "\n",
    "<div class='alert alert-block alert-info'> \n",
    "\n",
    "<i class='fa fa-info-circle' aria-hidden='true'></i>\n",
    "Puede obtener más información en la documentación oficial de la librería `scipy.stats.t` dando clic [aquí](https://docs.scipy.org/doc/scipy/reference/generated/scipy.stats.t.html).\n",
    "</div>"
   ]
  },
  {
   "cell_type": "code",
   "execution_count": 6,
   "metadata": {},
   "outputs": [
    {
     "data": {
      "text/plain": [
       "0.95"
      ]
     },
     "execution_count": 6,
     "metadata": {},
     "output_type": "execute_result"
    }
   ],
   "source": [
    "# PASO 1. Intervalo de confianza\n",
    "IC = 0.95\n",
    "IC"
   ]
  },
  {
   "cell_type": "code",
   "execution_count": 7,
   "metadata": {},
   "outputs": [
    {
     "data": {
      "text/plain": [
       "0.050000000000000044"
      ]
     },
     "execution_count": 7,
     "metadata": {},
     "output_type": "execute_result"
    }
   ],
   "source": [
    "# PASO 2. Valor de alpha\n",
    "alpha = 1 - IC\n",
    "alpha"
   ]
  },
  {
   "cell_type": "code",
   "execution_count": 8,
   "metadata": {},
   "outputs": [
    {
     "data": {
      "text/plain": [
       "0.025000000000000022"
      ]
     },
     "execution_count": 8,
     "metadata": {},
     "output_type": "execute_result"
    }
   ],
   "source": [
    "# PASO 3. Valor de alpha/2\n",
    "alpha_medios = alpha/2\n",
    "alpha_medios"
   ]
  },
  {
   "cell_type": "code",
   "execution_count": 9,
   "metadata": {},
   "outputs": [
    {
     "data": {
      "text/plain": [
       "4"
      ]
     },
     "execution_count": 9,
     "metadata": {},
     "output_type": "execute_result"
    }
   ],
   "source": [
    "# PASO 4. Número de datos (asumamos que tomamos n=4 datos)\n",
    "n = 4\n",
    "n"
   ]
  },
  {
   "cell_type": "code",
   "execution_count": 10,
   "metadata": {},
   "outputs": [
    {
     "data": {
      "text/plain": [
       "3"
      ]
     },
     "execution_count": 10,
     "metadata": {},
     "output_type": "execute_result"
    }
   ],
   "source": [
    "# PASO 5. Grados de libertad (DOF)\n",
    "v = n - 1\n",
    "v"
   ]
  },
  {
   "cell_type": "code",
   "execution_count": 11,
   "metadata": {},
   "outputs": [
    {
     "data": {
      "text/plain": [
       "3.182446305284263"
      ]
     },
     "execution_count": 11,
     "metadata": {},
     "output_type": "execute_result"
    }
   ],
   "source": [
    "# PASO 4. Distr. t-Student (t)\n",
    "valor = IC + alpha_medios\n",
    "\n",
    "t = stats.t.ppf(valor, v)\n",
    "t"
   ]
  },
  {
   "cell_type": "markdown",
   "metadata": {},
   "source": [
    "## 1.4. Propagación de Error con Librería `uncertainties`\n",
    "\n",
    "<div class='alert alert-block alert-info'> \n",
    "\n",
    "<i class='fa fa-info-circle' aria-hidden='true'></i>\n",
    "Puede obtener más información en la documentación oficial de la librería `uncertainties` dando clic [aquí](https://uncertainties-python-package.readthedocs.io/en/latest/user_guide.html).\n",
    "</div>"
   ]
  },
  {
   "cell_type": "markdown",
   "metadata": {},
   "source": [
    "### 1.4.1. Ejemplo 1: Potencia Eléctrica"
   ]
  },
  {
   "cell_type": "code",
   "execution_count": 12,
   "metadata": {},
   "outputs": [],
   "source": [
    "from uncertainties import ufloat"
   ]
  },
  {
   "cell_type": "code",
   "execution_count": 13,
   "metadata": {},
   "outputs": [
    {
     "data": {
      "text/plain": [
       "5.0+/-0.1"
      ]
     },
     "execution_count": 13,
     "metadata": {},
     "output_type": "execute_result"
    }
   ],
   "source": [
    "V = ufloat(5, 0.1) # Medida ± Incertidumbre\n",
    "V"
   ]
  },
  {
   "cell_type": "code",
   "execution_count": 14,
   "metadata": {},
   "outputs": [
    {
     "data": {
      "text/plain": [
       "0.01+/-1e-05"
      ]
     },
     "execution_count": 14,
     "metadata": {},
     "output_type": "execute_result"
    }
   ],
   "source": [
    "I = ufloat(10e-03, 0.01e-03) # Medida ± Incertidumbre\n",
    "I"
   ]
  },
  {
   "cell_type": "code",
   "execution_count": 15,
   "metadata": {},
   "outputs": [
    {
     "data": {
      "text/plain": [
       "0.05+/-0.0010012492197250392"
      ]
     },
     "execution_count": 15,
     "metadata": {},
     "output_type": "execute_result"
    }
   ],
   "source": [
    "P = V * I\n",
    "P"
   ]
  },
  {
   "cell_type": "markdown",
   "metadata": {},
   "source": [
    "### 1.4.2. Ejemplo 2: Péndulo Simple\n",
    "\n",
    "Un péndulo simple se describe a partir de la siguiente ecuación:\n",
    "\n",
    "$$\n",
    "T = 2\\pi \\sqrt{\\frac{L}{g}}\n",
    "$$\n",
    "\n",
    "Al despejar para la gravedad $g$, obtenemos:\n",
    "\n",
    "$$\n",
    "g = \\frac{4 \\pi^2 L}{T^2}\n",
    "$$\n",
    "\n",
    "Ahora, el error propagado para esta ecuación es:\n",
    "\n",
    "$$\n",
    "e = \\sqrt{ \\left( \\frac{\\partial g}{\\partial L} \\right)^2 \\cdot U_L^2 + \\left( \\frac{\\partial g}{\\partial T} \\right)^2 \\cdot U_T^2}\n",
    "$$\n",
    "\n",
    "Luego:\n",
    "\n",
    "$$\n",
    "e = \\sqrt{ \\left( \\frac{4 \\pi^2}{T^2} \\right)^2 \\cdot U_L^2 + \\left( \\frac{-8 \\pi^2 L}{T^3} \\right)^2 \\cdot U_T^2}\n",
    "$$"
   ]
  },
  {
   "cell_type": "markdown",
   "metadata": {},
   "source": [
    "#### 1.4.2.1. Propagación de Error: Manual"
   ]
  },
  {
   "cell_type": "code",
   "execution_count": 16,
   "metadata": {},
   "outputs": [
    {
     "data": {
      "text/plain": [
       "0.00010957779856545593"
      ]
     },
     "execution_count": 16,
     "metadata": {},
     "output_type": "execute_result"
    }
   ],
   "source": [
    "## TÉRMINO 1\n",
    "### (∂g / ∂L)**2\n",
    "dg_dL = (4*np.pi**2 / (1.942)**2)\n",
    "\n",
    "### U_L**2\n",
    "U_L = 1e-3\n",
    "\n",
    "### (∂g / ∂L)**2 · U_L**2\n",
    "termino1 = (dg_dL**2) * (U_L**2)\n",
    "termino1"
   ]
  },
  {
   "cell_type": "code",
   "execution_count": 17,
   "metadata": {},
   "outputs": [
    {
     "data": {
      "text/plain": [
       "0.0016291301886447737"
      ]
     },
     "execution_count": 17,
     "metadata": {},
     "output_type": "execute_result"
    }
   ],
   "source": [
    "## TÉRMINO 2\n",
    "### (∂g / ∂T)**2\n",
    "dg_dT = (-8*np.pi**2*(0.936) / (1.942)**3)\n",
    "\n",
    "### U_L**2\n",
    "U_T = 4e-3\n",
    "\n",
    "### (∂g / ∂T)**2 · U_T**2\n",
    "termino2 = (dg_dT**2) * (U_T**2)\n",
    "termino2"
   ]
  },
  {
   "cell_type": "code",
   "execution_count": 18,
   "metadata": {},
   "outputs": [
    {
     "data": {
      "text/plain": [
       "array([0.04169782])"
      ]
     },
     "execution_count": 18,
     "metadata": {},
     "output_type": "execute_result"
    }
   ],
   "source": [
    "# Propagación de Error\n",
    "U_g = np.sqrt([termino1 + termino2])\n",
    "U_g"
   ]
  },
  {
   "cell_type": "markdown",
   "metadata": {},
   "source": [
    "#### 1.4.2.2. Propagación de Error: `uncertainties`"
   ]
  },
  {
   "cell_type": "code",
   "execution_count": 19,
   "metadata": {},
   "outputs": [
    {
     "data": {
      "text/plain": [
       "0.936+/-0.001"
      ]
     },
     "execution_count": 19,
     "metadata": {},
     "output_type": "execute_result"
    }
   ],
   "source": [
    "## PASO 1. Definimos la variable longitud (L) con su error\n",
    "L = ufloat(0.936, 1e-3)\n",
    "L"
   ]
  },
  {
   "cell_type": "code",
   "execution_count": 20,
   "metadata": {},
   "outputs": [
    {
     "data": {
      "text/plain": [
       "1.942+/-0.004"
      ]
     },
     "execution_count": 20,
     "metadata": {},
     "output_type": "execute_result"
    }
   ],
   "source": [
    "## PASO 2. Definimos la variable periodo (T) con su error\n",
    "T = ufloat(1.942, 4e-3)\n",
    "T"
   ]
  },
  {
   "cell_type": "code",
   "execution_count": 21,
   "metadata": {},
   "outputs": [
    {
     "data": {
      "text/plain": [
       "9.797993213510697+/-0.04169781753533667"
      ]
     },
     "execution_count": 21,
     "metadata": {},
     "output_type": "execute_result"
    }
   ],
   "source": [
    "## PASO 3. Ecuación de gravedad (g)\n",
    "g = 4*np.pi**2*L / T**2\n",
    "g"
   ]
  },
  {
   "cell_type": "markdown",
   "metadata": {},
   "source": [
    "## 1.5. Derivadas Parciales con `sympy.diff`\n",
    "\n",
    "Tomando el ejercicio del péndulo simple:\n",
    "\n",
    "> Un péndulo simple se describe a partir de la siguiente ecuación:\n",
    "> $$\n",
    "  T = 2\\pi \\sqrt{\\frac{L}{g}}\n",
    "> $$\n",
    "> Al despejar para la gravedad $g$, obtenemos:\n",
    "> $$\n",
    "  g = \\frac{4 \\pi^2 L}{T^2}\n",
    "> $$\n",
    "> Ahora, el error propagado para esta ecuación es:\n",
    "> $$\n",
    "  e = \\sqrt{ \\left( \\frac{\\partial g}{\\partial L} \\right)^2 \\cdot U_L^2 + \\left( \\frac{\\partial g}{\\partial T} \\right)^2 \\cdot U_T^2}\n",
    "> $$\n",
    "> Luego:\n",
    "> $$\n",
    "  e = \\sqrt{ \\left( \\frac{4 \\pi^2}{T^2} \\right)^2 \\cdot U_L^2 + \\left( \\frac{-8 \\pi^2 L}{T^3} \\right)^2 \\cdot U_T^2}\n",
    "> $$\n",
    "\n",
    "Estas derivadas parciales las podemos hacer con la librería `sympy.diff`.\n",
    "\n",
    "<div class='alert alert-block alert-info'> \n",
    "\n",
    "<i class='fa fa-info-circle' aria-hidden='true'></i>\n",
    "Puede obtener más información en la documentación oficial de la librería `sympy.diff` dando clic [aquí](https://docs.sympy.org/latest/tutorials/intro-tutorial/calculus.html).\n",
    "</div>"
   ]
  },
  {
   "cell_type": "code",
   "execution_count": 22,
   "metadata": {},
   "outputs": [],
   "source": [
    "g, L, T = sympy.symbols('g, L, T', real=True)"
   ]
  },
  {
   "cell_type": "code",
   "execution_count": 23,
   "metadata": {},
   "outputs": [
    {
     "data": {
      "text/latex": [
       "$\\displaystyle \\frac{4 \\pi L}{T^{2}}$"
      ],
      "text/plain": [
       "4*pi*L/T**2"
      ]
     },
     "execution_count": 23,
     "metadata": {},
     "output_type": "execute_result"
    }
   ],
   "source": [
    "g = (4 * sympy.pi * L) / T**2\n",
    "g"
   ]
  },
  {
   "cell_type": "code",
   "execution_count": 24,
   "metadata": {},
   "outputs": [
    {
     "data": {
      "text/latex": [
       "$\\displaystyle \\frac{4 \\pi}{T^{2}}$"
      ],
      "text/plain": [
       "4*pi/T**2"
      ]
     },
     "execution_count": 24,
     "metadata": {},
     "output_type": "execute_result"
    }
   ],
   "source": [
    "# ∂g / ∂T\n",
    "dg_dL = sympy.diff(g, L) # sympy.diff(<función>, <variable a derivar parcialmente>)\n",
    "dg_dL"
   ]
  },
  {
   "cell_type": "code",
   "execution_count": 25,
   "metadata": {},
   "outputs": [
    {
     "data": {
      "text/latex": [
       "$\\displaystyle - \\frac{8 \\pi L}{T^{3}}$"
      ],
      "text/plain": [
       "-8*pi*L/T**3"
      ]
     },
     "execution_count": 25,
     "metadata": {},
     "output_type": "execute_result"
    }
   ],
   "source": [
    "# ∂g / ∂L\n",
    "dg_dT = sympy.diff(g, T) # sympy.diff(<función>, <variable a derivar parcialmente>)\n",
    "dg_dT"
   ]
  },
  {
   "cell_type": "markdown",
   "metadata": {},
   "source": [
    "## 1.5. Barras de Error con `plt.errorbar`\n",
    "\n",
    "<div class='alert alert-block alert-info'> \n",
    "\n",
    "<i class='fa fa-info-circle' aria-hidden='true'></i>\n",
    "Puede obtener más información en la documentación oficial de la librería `matplotlib.pyplot.plt.errorbar` dando clic [aquí](https://matplotlib.org/stable/api/_as_gen/matplotlib.pyplot.errorbar.html).\n",
    "</div>"
   ]
  },
  {
   "cell_type": "code",
   "execution_count": 26,
   "metadata": {},
   "outputs": [
    {
     "data": {
      "text/html": [
       "<div>\n",
       "<style scoped>\n",
       "    .dataframe tbody tr th:only-of-type {\n",
       "        vertical-align: middle;\n",
       "    }\n",
       "\n",
       "    .dataframe tbody tr th {\n",
       "        vertical-align: top;\n",
       "    }\n",
       "\n",
       "    .dataframe thead th {\n",
       "        text-align: right;\n",
       "    }\n",
       "</style>\n",
       "<table border=\"1\" class=\"dataframe\">\n",
       "  <thead>\n",
       "    <tr style=\"text-align: right;\">\n",
       "      <th></th>\n",
       "      <th>Index</th>\n",
       "      <th>Engine</th>\n",
       "      <th>Mass (Kg)</th>\n",
       "      <th>Number of Cylinders</th>\n",
       "      <th>Strokes per Cycle</th>\n",
       "      <th>Displacement (cm3)</th>\n",
       "      <th>Bore (mm)</th>\n",
       "      <th>Stroke (mm)</th>\n",
       "      <th>Maximum Brake Horsepower (BHP)</th>\n",
       "      <th>Revolutions per Minute (RPM)</th>\n",
       "    </tr>\n",
       "  </thead>\n",
       "  <tbody>\n",
       "    <tr>\n",
       "      <th>0</th>\n",
       "      <td>1</td>\n",
       "      <td>Webra Speedy</td>\n",
       "      <td>0.135</td>\n",
       "      <td>1</td>\n",
       "      <td>2</td>\n",
       "      <td>1.8</td>\n",
       "      <td>13.5</td>\n",
       "      <td>12.5</td>\n",
       "      <td>0.45</td>\n",
       "      <td>22000</td>\n",
       "    </tr>\n",
       "    <tr>\n",
       "      <th>1</th>\n",
       "      <td>2</td>\n",
       "      <td>Motori Cipolla</td>\n",
       "      <td>0.150</td>\n",
       "      <td>1</td>\n",
       "      <td>2</td>\n",
       "      <td>2.5</td>\n",
       "      <td>15.0</td>\n",
       "      <td>14.0</td>\n",
       "      <td>1.00</td>\n",
       "      <td>26000</td>\n",
       "    </tr>\n",
       "    <tr>\n",
       "      <th>2</th>\n",
       "      <td>3</td>\n",
       "      <td>Webra Speed 20</td>\n",
       "      <td>0.250</td>\n",
       "      <td>1</td>\n",
       "      <td>2</td>\n",
       "      <td>3.4</td>\n",
       "      <td>16.5</td>\n",
       "      <td>16.0</td>\n",
       "      <td>0.78</td>\n",
       "      <td>22000</td>\n",
       "    </tr>\n",
       "    <tr>\n",
       "      <th>3</th>\n",
       "      <td>4</td>\n",
       "      <td>Webra 40</td>\n",
       "      <td>0.270</td>\n",
       "      <td>1</td>\n",
       "      <td>2</td>\n",
       "      <td>6.5</td>\n",
       "      <td>21.0</td>\n",
       "      <td>19.0</td>\n",
       "      <td>0.96</td>\n",
       "      <td>15500</td>\n",
       "    </tr>\n",
       "    <tr>\n",
       "      <th>4</th>\n",
       "      <td>5</td>\n",
       "      <td>Webra 61 Blackhead</td>\n",
       "      <td>0.430</td>\n",
       "      <td>1</td>\n",
       "      <td>2</td>\n",
       "      <td>10.0</td>\n",
       "      <td>24.0</td>\n",
       "      <td>22.0</td>\n",
       "      <td>1.55</td>\n",
       "      <td>14000</td>\n",
       "    </tr>\n",
       "  </tbody>\n",
       "</table>\n",
       "</div>"
      ],
      "text/plain": [
       "   Index              Engine  Mass (Kg)  Number of Cylinders  \\\n",
       "0      1        Webra Speedy      0.135                    1   \n",
       "1      2      Motori Cipolla      0.150                    1   \n",
       "2      3      Webra Speed 20      0.250                    1   \n",
       "3      4            Webra 40      0.270                    1   \n",
       "4      5  Webra 61 Blackhead      0.430                    1   \n",
       "\n",
       "   Strokes per Cycle  Displacement (cm3)  Bore (mm)  Stroke (mm)  \\\n",
       "0                  2                 1.8       13.5         12.5   \n",
       "1                  2                 2.5       15.0         14.0   \n",
       "2                  2                 3.4       16.5         16.0   \n",
       "3                  2                 6.5       21.0         19.0   \n",
       "4                  2                10.0       24.0         22.0   \n",
       "\n",
       "   Maximum Brake Horsepower (BHP)  Revolutions per Minute (RPM)  \n",
       "0                            0.45                         22000  \n",
       "1                            1.00                         26000  \n",
       "2                            0.78                         22000  \n",
       "3                            0.96                         15500  \n",
       "4                            1.55                         14000  "
      ]
     },
     "execution_count": 26,
     "metadata": {},
     "output_type": "execute_result"
    }
   ],
   "source": [
    "file_name = './data/engines.xlsx' # ./ es pwd()\n",
    "sheet = 'Data'\n",
    "\n",
    "df = pd.read_excel(io=file_name, sheet_name=sheet)\n",
    "df.head()"
   ]
  },
  {
   "cell_type": "code",
   "execution_count": 27,
   "metadata": {},
   "outputs": [
    {
     "data": {
      "text/plain": [
       "array([0.26268305, 0.53546082, 0.04050604, 0.14160265, 0.81834281,\n",
       "       0.71831115, 1.16954681, 0.62163799, 1.14101424, 0.62433371,\n",
       "       0.21058976, 2.11691275, 0.85000513, 1.43932101, 0.78765359,\n",
       "       0.26081857, 0.76048822, 1.12064681, 1.64846176, 1.24661804,\n",
       "       1.16242835, 2.84761849, 1.07999338, 1.03081958, 0.53143124,\n",
       "       0.64071638, 0.95668416, 0.31365827, 0.98530579, 0.59319567,\n",
       "       0.32134573, 0.86046511, 0.0281361 , 1.17499642, 0.88453108,\n",
       "       0.79196819, 0.32562914, 0.19797995, 0.44234542])"
      ]
     },
     "execution_count": 27,
     "metadata": {},
     "output_type": "execute_result"
    }
   ],
   "source": [
    "# Incertidumbre Eje Y\n",
    "Uy = abs(np.random.normal(loc=0.0, scale=1.0, size=len(df)))\n",
    "Uy"
   ]
  },
  {
   "cell_type": "code",
   "execution_count": 28,
   "metadata": {},
   "outputs": [
    {
     "data": {
      "text/plain": [
       "array([0.25936688, 0.17163901, 0.09406546, 0.21697835, 0.41486581,\n",
       "       0.57308145, 0.1803118 , 0.19034725, 0.23330666, 0.13167094,\n",
       "       0.26655894, 0.01735944, 0.10255206, 0.58922391, 0.09649059,\n",
       "       0.21778978, 0.218362  , 0.39192447, 0.47630362, 0.10523635,\n",
       "       0.13037813, 0.53812971, 0.53652646, 0.57027923, 0.4690534 ,\n",
       "       0.31731284, 0.26383721, 0.1439259 , 0.36958727, 0.19353519,\n",
       "       0.06385466, 0.05317351, 0.10363169, 0.03214357, 0.25787177,\n",
       "       0.43794092, 0.22976988, 0.14749063, 0.03447197])"
      ]
     },
     "execution_count": 28,
     "metadata": {},
     "output_type": "execute_result"
    }
   ],
   "source": [
    "# Incertidumbre Eje X\n",
    "Ux = abs(np.random.normal(loc=0.0, scale=0.3, size=len(df)))\n",
    "Ux"
   ]
  },
  {
   "cell_type": "code",
   "execution_count": 29,
   "metadata": {},
   "outputs": [],
   "source": [
    "def formato_grafica(titulo, ejex, ejey, leyenda=False, xlim=[None, None], ylim=[None, None]):\n",
    "    plt.rcParams['axes.axisbelow'] = True\n",
    "\n",
    "    plt.title(titulo, fontsize=15)\n",
    "    plt.ylabel(ejey, fontsize=13)\n",
    "    plt.xlabel(ejex, fontsize=13)\n",
    "\n",
    "    plt.tick_params(direction='out', length=5, width=0.75, grid_alpha=0.3)\n",
    "    plt.xticks(rotation=0)\n",
    "    plt.minorticks_on()\n",
    "    plt.ylim(ylim[0], ylim[1])\n",
    "    plt.xlim(xlim[0], xlim[1])\n",
    "    plt.grid(True)\n",
    "    plt.grid(visible=True, which='major', color='grey', linestyle='-')\n",
    "    plt.grid(visible=True, which='minor', color='lightgrey', linestyle='-', alpha=0.2)\n",
    "    \n",
    "    if leyenda == True:\n",
    "        plt.legend(loc=True)\n",
    "    \n",
    "    plt.tight_layout;"
   ]
  },
  {
   "cell_type": "code",
   "execution_count": 30,
   "metadata": {},
   "outputs": [
    {
     "data": {
      "image/png": "[encoded data removed]",
      "text/plain": [
       "<Figure size 576x360 with 1 Axes>"
      ]
     },
     "metadata": {
      "needs_background": "light"
     },
     "output_type": "display_data"
    }
   ],
   "source": [
    "hor = 8\n",
    "ver = 5\n",
    "fig1 = plt.figure(figsize=(hor, ver))\n",
    "\n",
    "x = np.log10(df['Mass (Kg)'].values)\n",
    "y = np.log10(df['Maximum Brake Horsepower (BHP)'].values)\n",
    "\n",
    "plt.plot(x, y, linestyle='', marker='o', markerfacecolor='white', markeredgecolor='dodgerblue', ms=10)\n",
    "\n",
    "formato_grafica(titulo='Relación log MBHP y log Masa', \n",
    "                ejex='MBHP', \n",
    "                ejey='Masa (Kg)',\n",
    "                leyenda=False)"
   ]
  },
  {
   "cell_type": "code",
   "execution_count": 31,
   "metadata": {},
   "outputs": [
    {
     "data": {
      "image/png": "[encoded data removed]",
      "text/plain": [
       "<Figure size 864x576 with 1 Axes>"
      ]
     },
     "metadata": {
      "needs_background": "light"
     },
     "output_type": "display_data"
    }
   ],
   "source": [
    "hor = 12\n",
    "ver = 8\n",
    "fig2 = plt.figure(figsize=(hor, ver))\n",
    "\n",
    "x = np.log10(df['Mass (Kg)'].values)\n",
    "y = np.log10(df['Maximum Brake Horsepower (BHP)'].values)\n",
    "\n",
    "plt.plot(x, y, linestyle='', marker='o', markerfacecolor='white', markeredgecolor='dodgerblue', ms=10)\n",
    "\n",
    "plt.errorbar(x=x, # Valor de X\n",
    "             y=y, # Valor de Y\n",
    "             yerr=Uy, # Incertidumbre en Y\n",
    "             xerr=Ux, # Incertidumbre en X\n",
    "             ecolor='#191717', # Color barras de error\n",
    "             elinewidth=0.75, # Ancho barras de error\n",
    "             capsize=3, # Longitud límites barras de error\n",
    "             capthick=0.75) # Ancho límites barras de error\n",
    "\n",
    "formato_grafica(titulo='Relación log MBHP y log Masa',\n",
    "                ejex='MBHP',\n",
    "                ejey='Masa (Kg)',\n",
    "                leyenda=False)"
   ]
  }
 ],
 "metadata": {
  "kernelspec": {
   "display_name": "hc",
   "language": "python",
   "name": "hc"
  },
  "language_info": {
   "codemirror_mode": {
    "name": "ipython",
    "version": 3
   },
   "file_extension": ".py",
   "mimetype": "text/x-python",
   "name": "python",
   "nbconvert_exporter": "python",
   "pygments_lexer": "ipython3",
   "version": "3.11.0"
  },
  "toc": {
   "base_numbering": 1,
   "nav_menu": {},
   "number_sections": false,
   "sideBar": true,
   "skip_h1_title": true,
   "title_cell": "Table of Contents",
   "title_sidebar": "Contents",
   "toc_cell": false,
   "toc_position": {},
   "toc_section_display": true,
   "toc_window_display": false
  }
 },
 "nbformat": 4,
 "nbformat_minor": 2
}
