{
 "cells": [
  {
   "attachments": {},
   "cell_type": "markdown",
   "metadata": {},
   "source": [
    "# IMEC2001 Herramientas Computacionales\n",
    "## Semana 1: Introducción\n",
    "### Clase 2: Primeros Pasos\n",
    "\n",
    "Universidad de los Andes — Marzo 31, 2023.\n",
    "\n",
    "---\n",
    "\n",
    "## TABLA DE CONTENIDO\n",
    "\n",
    "### Sección 1: Empecemos con Python [→](#section1)\n",
    "- 1.1. Imprimir en Pantalla\n",
    "- 1.2. Asignación de Variables\n",
    "- 1.3. Tipos de Variables\n",
    "- 1.4. Matemática Básica\n",
    "- 1.5. Contenedores\n",
    "    - 1.5.1. Tuples\n",
    "    - 1.5.2. Dictionaries\n",
    "    - 1.5.3. Arrays\n",
    "- 1.6. Iteradores\n",
    "    - 1.6.1. While loop\n",
    "    - 1.6.2. For loop\n",
    "- 1.7. Condicionales y Pruebas *If-Elif-Else*\n",
    "- 1.8. Funciones\n",
    "___"
   ]
  },
  {
   "cell_type": "markdown",
   "metadata": {},
   "source": [
    "<a id=\"section1\"></a>\n",
    "# Sección 1: Empecemos con Python"
   ]
  },
  {
   "cell_type": "markdown",
   "metadata": {},
   "source": [
    "## 1.1. Imprimir en Pantalla\n",
    "Podemos utilizar la función `print()`."
   ]
  },
  {
   "cell_type": "code",
   "execution_count": 1,
   "metadata": {
    "scrolled": false
   },
   "outputs": [
    {
     "name": "stdout",
     "output_type": "stream",
     "text": [
      "Hello World!\n"
     ]
    }
   ],
   "source": [
    "print(\"Hello World!\")"
   ]
  },
  {
   "cell_type": "markdown",
   "metadata": {},
   "source": [
    "Si queremos imprimir en pantalla un texto sobre otro..."
   ]
  },
  {
   "cell_type": "code",
   "execution_count": 2,
   "metadata": {},
   "outputs": [
    {
     "name": "stdout",
     "output_type": "stream",
     "text": [
      "Texto 1\n",
      "Texto 2\n",
      "Texto 3\n"
     ]
    }
   ],
   "source": [
    "print(\"Texto 1\")\n",
    "print(\"Texto 2\")\n",
    "print(\"Texto 3\")"
   ]
  },
  {
   "cell_type": "markdown",
   "metadata": {},
   "source": [
    "También funciona con la **palabra reservada** `\\n`. Veamos qué pasa si agregamos `\\n` al final de `print()`."
   ]
  },
  {
   "cell_type": "code",
   "execution_count": 3,
   "metadata": {},
   "outputs": [
    {
     "name": "stdout",
     "output_type": "stream",
     "text": [
      "Texto 1\n",
      "Texto 2\n",
      "Texto 3\n"
     ]
    }
   ],
   "source": [
    "print(\"Texto 1\\nTexto 2\\nTexto 3\")"
   ]
  },
  {
   "cell_type": "markdown",
   "metadata": {},
   "source": [
    "Ahora, si quiero imprimir en pantalla una pregunta al usuario:"
   ]
  },
  {
   "cell_type": "code",
   "execution_count": 4,
   "metadata": {},
   "outputs": [
    {
     "name": "stdout",
     "output_type": "stream",
     "text": [
      "Hola, ¿Cómo termina la semana, qué tal el viernes?\n",
      "Oiga, pues Excelente\n"
     ]
    }
   ],
   "source": [
    "print('Hola, ¿Cómo termina la semana, qué tal el viernes?')\n",
    "respuesta = input()\n",
    "\n",
    "print('Oiga, pues', respuesta)"
   ]
  },
  {
   "cell_type": "markdown",
   "metadata": {},
   "source": [
    "Para conocer el tipo de una variable, utilizamos la función `type()`."
   ]
  },
  {
   "cell_type": "code",
   "execution_count": 5,
   "metadata": {},
   "outputs": [
    {
     "data": {
      "text/plain": [
       "str"
      ]
     },
     "execution_count": 5,
     "metadata": {},
     "output_type": "execute_result"
    }
   ],
   "source": [
    "type(respuesta)"
   ]
  },
  {
   "cell_type": "markdown",
   "metadata": {},
   "source": [
    "## 1.2. Asignación de Variables"
   ]
  },
  {
   "cell_type": "code",
   "execution_count": 6,
   "metadata": {},
   "outputs": [
    {
     "name": "stdout",
     "output_type": "stream",
     "text": [
      "100\n",
      "<class 'int'>\n"
     ]
    }
   ],
   "source": [
    "a = 100\n",
    "print(a)\n",
    "print(   type(a)   )"
   ]
  },
  {
   "cell_type": "code",
   "execution_count": 7,
   "metadata": {},
   "outputs": [
    {
     "name": "stdout",
     "output_type": "stream",
     "text": [
      "False\n"
     ]
    }
   ],
   "source": [
    "A = 5\n",
    "print(A == a)"
   ]
  },
  {
   "cell_type": "code",
   "execution_count": 8,
   "metadata": {},
   "outputs": [
    {
     "name": "stdout",
     "output_type": "stream",
     "text": [
      "<class 'float'>\n"
     ]
    }
   ],
   "source": [
    "# Podemos redefinir una variable\n",
    "x = 100.0\n",
    "print(type(x)) # Tipo inicial"
   ]
  },
  {
   "cell_type": "code",
   "execution_count": 9,
   "metadata": {},
   "outputs": [
    {
     "name": "stdout",
     "output_type": "stream",
     "text": [
      "<class 'str'>\n"
     ]
    }
   ],
   "source": [
    "x = \"Nuevo valor\"\n",
    "print(type(x)) # Tipo nuevo"
   ]
  },
  {
   "cell_type": "markdown",
   "metadata": {},
   "source": [
    "## 1.3. Tipos de Variables"
   ]
  },
  {
   "cell_type": "code",
   "execution_count": 10,
   "metadata": {},
   "outputs": [],
   "source": [
    "#Int - Números Enteros\n",
    "variables_int = [1, 2, 3, 4, 5]\n",
    "\n",
    "#String - Texto entre '' o \"\"\n",
    "variables_string = ('Hola', 'Cómo', \"Están\", 'el Día de', \"Hoy?\")\n",
    "\n",
    "#Bool - Booleanas: True o False\n",
    "variables_bool = {'Verdadero':True, 'Falso':False}\n",
    "\n",
    "#Float - Números Reales\n",
    "variables_float = [1/3, 1.5, 5.1]"
   ]
  },
  {
   "cell_type": "markdown",
   "metadata": {},
   "source": [
    "La celda anterior no imprime nada en pantalla, cómo hago para ¿imprimir cada variable?"
   ]
  },
  {
   "cell_type": "code",
   "execution_count": null,
   "metadata": {},
   "outputs": [],
   "source": []
  },
  {
   "cell_type": "markdown",
   "metadata": {},
   "source": [
    "## 1.4. Operaciones Matemáticas"
   ]
  },
  {
   "cell_type": "code",
   "execution_count": 11,
   "metadata": {},
   "outputs": [
    {
     "name": "stdout",
     "output_type": "stream",
     "text": [
      "10\n",
      "6\n",
      "16\n",
      "4.0\n",
      "64\n",
      "0\n"
     ]
    }
   ],
   "source": [
    "var1 = 8\n",
    "var2 = 2\n",
    "\n",
    "# Suma (+)\n",
    "print(var1 + var2)\n",
    "\n",
    "# Resta (-)\n",
    "print(var1 - var2)\n",
    "\n",
    "# Producto (*)\n",
    "print(var1 * var2)\n",
    "\n",
    "# División (/)\n",
    "print(var1 / var2)\n",
    "\n",
    "# Potencia (**)\n",
    "print(var1 ** var2)\n",
    "\n",
    "# Módulo (%)\n",
    "print(var1 % var2)"
   ]
  },
  {
   "cell_type": "markdown",
   "metadata": {},
   "source": [
    "Python **mantiene** el orden de operadores. Probémoslo con un ejemplo:\n",
    "\n",
    "> El volumen de una esfera con radio $r$ es $\\frac{4}{3} \\pi r^3$. ¿Cuál es el volumen de una esfera de radio 5?"
   ]
  },
  {
   "cell_type": "code",
   "execution_count": 12,
   "metadata": {},
   "outputs": [
    {
     "data": {
      "text/plain": [
       "523.3333333333334"
      ]
     },
     "execution_count": 12,
     "metadata": {},
     "output_type": "execute_result"
    }
   ],
   "source": [
    "(4/3) * 3.14 * (5**3)"
   ]
  },
  {
   "cell_type": "code",
   "execution_count": 13,
   "metadata": {},
   "outputs": [
    {
     "data": {
      "text/plain": [
       "523.3333333333334"
      ]
     },
     "execution_count": 13,
     "metadata": {},
     "output_type": "execute_result"
    }
   ],
   "source": [
    "4/3 * 3.14 * 5**3"
   ]
  },
  {
   "attachments": {},
   "cell_type": "markdown",
   "metadata": {},
   "source": [
    "## 1.5. Contenedores\n",
    "\n",
    "Los contenedores permiten almacenar múltiple información en una única variable. Las principales estructuras son:\n",
    "\n",
    "- Listas\n",
    "- Tuples\n",
    "- Dictionaries"
   ]
  },
  {
   "attachments": {},
   "cell_type": "markdown",
   "metadata": {},
   "source": [
    "### 1.5.1. Listas\n",
    "Las **listas** contienen información que sí se puede modificar y son contenedores ordenados. La sintaxis es:\n",
    "\n",
    "```python\n",
    "[item1, item2, ...]\n",
    "```\n",
    "\n",
    "**Importante:** Note que las listas se definen con `[]`."
   ]
  },
  {
   "cell_type": "code",
   "execution_count": 14,
   "metadata": {},
   "outputs": [],
   "source": [
    "cursos_IMEC = [\"Introducción\", \"Fundamentos\", \"Dinámica\", \"Sólidos Rígidos\", \"Conversión\"]"
   ]
  },
  {
   "cell_type": "code",
   "execution_count": 15,
   "metadata": {},
   "outputs": [
    {
     "name": "stdout",
     "output_type": "stream",
     "text": [
      "Sólidos Rígidos\n"
     ]
    }
   ],
   "source": [
    "# Index\n",
    "print(cursos_IMEC[3])"
   ]
  },
  {
   "cell_type": "code",
   "execution_count": 16,
   "metadata": {},
   "outputs": [
    {
     "name": "stdout",
     "output_type": "stream",
     "text": [
      "['Introducción', 'Fundamentos', 'Dinámica', 'Sólidos Deformables', 'Conversión']\n"
     ]
    }
   ],
   "source": [
    "# Modificación -> Cambiar \"Sólidos Rígidos\" => \"Sólidos Deformables\"\n",
    "cursos_IMEC[3] = \"Sólidos Deformables\"\n",
    "\n",
    "print(cursos_IMEC)"
   ]
  },
  {
   "cell_type": "code",
   "execution_count": 17,
   "metadata": {},
   "outputs": [
    {
     "name": "stdout",
     "output_type": "stream",
     "text": [
      "['Introducción', 'Fundamentos', 'Dinámica', 'Sólidos Deformables', 'Conversión', 'Herramientas Computacionales']\n"
     ]
    }
   ],
   "source": [
    "# Agregar\n",
    "cursos_IMEC.append(\"Herramientas Computacionales\")\n",
    "print(cursos_IMEC)"
   ]
  },
  {
   "cell_type": "markdown",
   "metadata": {},
   "source": [
    "**¡Importante!:** Debemos tener cuidado al copiar una lista."
   ]
  },
  {
   "cell_type": "code",
   "execution_count": 18,
   "metadata": {},
   "outputs": [
    {
     "name": "stdout",
     "output_type": "stream",
     "text": [
      "array1 = array2\n",
      "Original: [1, 4, 9, 16, 25]\n",
      "Copia: [1, 4, 9, 1000, 25]\n",
      "Original: [1, 4, 9, 1000, 25]\n",
      "\n"
     ]
    }
   ],
   "source": [
    "print(\"array1 = array2\")\n",
    "\n",
    "original = [1, 4, 9, 16, 25]\n",
    "print(f\"Original: {original}\")\n",
    "\n",
    "copia = original\n",
    "copia[3] = 1000\n",
    "print(f\"Copia: {copia}\")\n",
    "print(f\"Original: {original}\")\n",
    "print()"
   ]
  },
  {
   "cell_type": "code",
   "execution_count": 19,
   "metadata": {},
   "outputs": [
    {
     "name": "stdout",
     "output_type": "stream",
     "text": [
      "FUNCIÓN copy()\n",
      "Original: [1, 4, 9, 16, 25]\n",
      "Copia: [1, 4, 9, 1000, 25]\n",
      "Original: [1, 4, 9, 16, 25]\n"
     ]
    }
   ],
   "source": [
    "# Pero, al usar la función 'copy()'\n",
    "print(\"FUNCIÓN copy()\")\n",
    "\n",
    "original = [1, 4, 9, 16, 25]\n",
    "print(f\"Original: {original}\")\n",
    "\n",
    "copia = original.copy() # función 'copy()'\n",
    "copia[3] = 1000\n",
    "print(f\"Copia: {copia}\")\n",
    "print(f\"Original: {original}\")"
   ]
  },
  {
   "cell_type": "markdown",
   "metadata": {},
   "source": [
    "### 1.5.2. Tuplas\n",
    "\n",
    "Contenedor que **no** permite modificaciones una vez se define. Su sintaxis es:\n",
    "\n",
    " ```python\n",
    " (item1, item2, ...)\n",
    " ```\n",
    " \n",
    " **Importante:** Note que las listas se definen con `[]` mientras que las tuplas con `()`."
   ]
  },
  {
   "cell_type": "code",
   "execution_count": 20,
   "metadata": {},
   "outputs": [
    {
     "name": "stdout",
     "output_type": "stream",
     "text": [
      "<class 'tuple'>\n"
     ]
    }
   ],
   "source": [
    "bandeja_paisa = (\"frijol\", \"carne molida\", \"chicharrón\")\n",
    "\n",
    "# Tipo\n",
    "print(type(bandeja_paisa))"
   ]
  },
  {
   "cell_type": "code",
   "execution_count": 21,
   "metadata": {},
   "outputs": [
    {
     "name": "stdout",
     "output_type": "stream",
     "text": [
      "chicharrón\n"
     ]
    }
   ],
   "source": [
    "# Index\n",
    "print(bandeja_paisa[2]) # ¡Importante! El conteo de índices inicia desde 0"
   ]
  },
  {
   "cell_type": "code",
   "execution_count": 22,
   "metadata": {},
   "outputs": [
    {
     "ename": "TypeError",
     "evalue": "'tuple' object does not support item assignment",
     "output_type": "error",
     "traceback": [
      "\u001b[0;31m---------------------------------------------------------------------------\u001b[0m",
      "\u001b[0;31mTypeError\u001b[0m                                 Traceback (most recent call last)",
      "\u001b[1;32m/Users/nasalazar/Documents/GitHub/ua-imec2001-hc-202310-s2/content/week1/C2_introduccion.ipynb Cell 39\u001b[0m in \u001b[0;36m2\n\u001b[1;32m      <a href='vscode-notebook-cell:/Users/nasalazar/Documents/GitHub/ua-imec2001-hc-202310-s2/content/week1/C2_introduccion.ipynb#X53sZmlsZQ%3D%3D?line=0'>1</a>\u001b[0m \u001b[39m# Si intentamos modificarlo...\u001b[39;00m\n\u001b[0;32m----> <a href='vscode-notebook-cell:/Users/nasalazar/Documents/GitHub/ua-imec2001-hc-202310-s2/content/week1/C2_introduccion.ipynb#X53sZmlsZQ%3D%3D?line=1'>2</a>\u001b[0m bandeja_paisa[\u001b[39m2\u001b[39m] \u001b[39m=\u001b[39m \u001b[39m\"\u001b[39m\u001b[39mchorizo\u001b[39m\u001b[39m\"\u001b[39m\n",
      "\u001b[0;31mTypeError\u001b[0m: 'tuple' object does not support item assignment"
     ]
    }
   ],
   "source": [
    "# Si intentamos modificarlo...\n",
    "bandeja_paisa[2] = \"chorizo\""
   ]
  },
  {
   "cell_type": "markdown",
   "metadata": {},
   "source": [
    "### 1.5.2. Dictionaries\n",
    "\n",
    "Los **diccionarios** son aprovechables para almacenar información relacionada. Su sintaxis es:\n",
    "\n",
    "```python\n",
    "{llave_1: valor_1, llave_2: valor_2, ...}\n",
    "```\n",
    "\n",
    "**Importante:** Note que los diccionarios se definen con `{}`, y los valores de cada llave se definen después de un `:`."
   ]
  },
  {
   "cell_type": "code",
   "execution_count": 23,
   "metadata": {},
   "outputs": [],
   "source": [
    "#Dics {} - Diccionarios Modificables\n",
    "estudiante = {\n",
    "              'Nombre': 'Diomedes',\n",
    "              'Apellido': 'Díaz',\n",
    "              'Fecha_Nacimiento': '26/Mayo/1957',\n",
    "              'Canciones': ['Tú eres la reina', 'Sin medir distancias', 'Cuatro fiestas']\n",
    "             }"
   ]
  },
  {
   "cell_type": "code",
   "execution_count": 24,
   "metadata": {},
   "outputs": [
    {
     "data": {
      "text/plain": [
       "{'Nombre': 'Diomedes',\n",
       " 'Apellido': 'Díaz',\n",
       " 'Fecha_Nacimiento': '26/Mayo/1957',\n",
       " 'Canciones': ['Tú eres la reina', 'Sin medir distancias', 'Cuatro fiestas']}"
      ]
     },
     "execution_count": 24,
     "metadata": {},
     "output_type": "execute_result"
    }
   ],
   "source": [
    "estudiante"
   ]
  },
  {
   "cell_type": "code",
   "execution_count": 25,
   "metadata": {},
   "outputs": [
    {
     "name": "stdout",
     "output_type": "stream",
     "text": [
      "{'Nombre': 'Diomedes', 'Apellido': 'Díaz', 'Fecha_Nacimiento': '26/Mayo/1957', 'Canciones': ['Tú eres la reina', 'Sin medir distancias', 'Cuatro fiestas']}\n"
     ]
    }
   ],
   "source": [
    "print(estudiante)"
   ]
  },
  {
   "cell_type": "markdown",
   "metadata": {},
   "source": [
    "La indexación en diccionarios es a partir de las **llaves** o *keys*. Se pueden obtener a partir de la función `.keys()`."
   ]
  },
  {
   "cell_type": "code",
   "execution_count": 26,
   "metadata": {},
   "outputs": [
    {
     "data": {
      "text/plain": [
       "dict_keys(['Nombre', 'Apellido', 'Fecha_Nacimiento', 'Canciones'])"
      ]
     },
     "execution_count": 26,
     "metadata": {},
     "output_type": "execute_result"
    }
   ],
   "source": [
    "estudiante.keys()"
   ]
  },
  {
   "cell_type": "markdown",
   "metadata": {},
   "source": [
    "Los valores de cada llave (o *key*) se obtiene con la función `.values()`."
   ]
  },
  {
   "cell_type": "code",
   "execution_count": 27,
   "metadata": {},
   "outputs": [
    {
     "data": {
      "text/plain": [
       "dict_values(['Diomedes', 'Díaz', '26/Mayo/1957', ['Tú eres la reina', 'Sin medir distancias', 'Cuatro fiestas']])"
      ]
     },
     "execution_count": 27,
     "metadata": {},
     "output_type": "execute_result"
    }
   ],
   "source": [
    "estudiante.values()"
   ]
  },
  {
   "attachments": {},
   "cell_type": "markdown",
   "metadata": {},
   "source": [
    "Para ver cada conjunto de llave–valor, se utiliza la función `.items()`."
   ]
  },
  {
   "cell_type": "code",
   "execution_count": 28,
   "metadata": {},
   "outputs": [
    {
     "data": {
      "text/plain": [
       "dict_items([('Nombre', 'Diomedes'), ('Apellido', 'Díaz'), ('Fecha_Nacimiento', '26/Mayo/1957'), ('Canciones', ['Tú eres la reina', 'Sin medir distancias', 'Cuatro fiestas'])])"
      ]
     },
     "execution_count": 28,
     "metadata": {},
     "output_type": "execute_result"
    }
   ],
   "source": [
    "estudiante.items()"
   ]
  },
  {
   "cell_type": "markdown",
   "metadata": {},
   "source": [
    "¿Entonces, si quiero conocer la **fecha de nacimiento** y **segunda canción más exitosa**, cómo lo haría? "
   ]
  },
  {
   "cell_type": "code",
   "execution_count": 29,
   "metadata": {},
   "outputs": [
    {
     "name": "stdout",
     "output_type": "stream",
     "text": [
      "26/Mayo/1957\n",
      "Sin medir distancias\n"
     ]
    }
   ],
   "source": [
    "print(estudiante['Fecha_Nacimiento'])\n",
    "print(estudiante['Canciones'][1])"
   ]
  },
  {
   "cell_type": "markdown",
   "metadata": {},
   "source": [
    "## 1.6. Iteradores\n",
    "\n",
    "Se disponen dos iteradores: `While` y `For`."
   ]
  },
  {
   "cell_type": "markdown",
   "metadata": {},
   "source": [
    "### 1.6.1. While Loop\n",
    "El iterador `while` se ejecuta hasta que cierta condición se cumpla; en este momento el iterador se detiene. Es decir, **no sabemos de antemano cuál será el recorrido de la iteración**.\n",
    "\n",
    "Tiene la sintaxis:\n",
    "\n",
    "```python\n",
    "while <condición>:\n",
    "    <algoritmo>\n",
    "```\n",
    "\n",
    "**¡Importante!:** Note el `:` después de la condición."
   ]
  },
  {
   "cell_type": "code",
   "execution_count": 30,
   "metadata": {},
   "outputs": [
    {
     "name": "stdout",
     "output_type": "stream",
     "text": [
      "0\n",
      "1\n",
      "2\n",
      "3\n",
      "4\n",
      "5\n",
      "6\n",
      "7\n",
      "8\n",
      "9\n",
      "10\n"
     ]
    }
   ],
   "source": [
    "i = 0\n",
    "\n",
    "while i <= 10:\n",
    "    print(i)\n",
    "    i += 1 # i = i + 1"
   ]
  },
  {
   "cell_type": "markdown",
   "metadata": {},
   "source": [
    "### 1.6.2. For Loop\n",
    "A diferencia del iterador `while`, el iterador `for` se ejecuta sobre un recorrido que especificamos (por lo que sí sabemos de antemano qué ejecutará en cada iteración), y usualmente **es para ejecutar de forma repetitiva un código**.\n",
    "\n",
    "Tiene la sintaxis:\n",
    "\n",
    "```python\n",
    "for <var> in <iteración>:\n",
    "    <algoritmo>\n",
    "```\n",
    "\n",
    "**¡Importante!:** Note el `:` después de la condición."
   ]
  },
  {
   "cell_type": "code",
   "execution_count": 31,
   "metadata": {},
   "outputs": [
    {
     "name": "stdout",
     "output_type": "stream",
     "text": [
      "0\n",
      "1\n",
      "2\n",
      "3\n",
      "4\n",
      "5\n",
      "6\n",
      "7\n",
      "8\n",
      "9\n"
     ]
    }
   ],
   "source": [
    "for i in range(0, 10, 1): # range(first, last, step)\n",
    "    print(i)"
   ]
  },
  {
   "cell_type": "code",
   "execution_count": 32,
   "metadata": {},
   "outputs": [
    {
     "name": "stdout",
     "output_type": "stream",
     "text": [
      "Hola\n",
      "Hola\n",
      "Hola\n",
      "Hola\n",
      "Hola\n",
      "Hola\n",
      "Hola\n",
      "Hola\n",
      "Hola\n",
      "Hola\n"
     ]
    }
   ],
   "source": [
    "for i in range(0, 10):\n",
    "    print('Hola')"
   ]
  },
  {
   "cell_type": "code",
   "execution_count": 33,
   "metadata": {},
   "outputs": [
    {
     "name": "stdout",
     "output_type": "stream",
     "text": [
      "El cuadrado de su número es: 1\n",
      "El cuadrado de su número es: 4\n",
      "El cuadrado de su número es: 9\n",
      "La iteración terminó.\n"
     ]
    }
   ],
   "source": [
    "for i in range(3):\n",
    "    num = int(input('Seleccione un número: '))\n",
    "    print ('El cuadrado de su número es:', num*num)\n",
    "\n",
    "print('La iteración terminó.')"
   ]
  },
  {
   "cell_type": "markdown",
   "metadata": {},
   "source": [
    "También podemos iterar en una lista:"
   ]
  },
  {
   "cell_type": "code",
   "execution_count": 34,
   "metadata": {},
   "outputs": [
    {
     "name": "stdout",
     "output_type": "stream",
     "text": [
      "¡Bienvenido a, Introducción!\n",
      "¡Bienvenido a, Fundamentos!\n",
      "¡Bienvenido a, Dinámica!\n",
      "¡Bienvenido a, Sólidos Deformables!\n",
      "¡Bienvenido a, Conversión!\n",
      "¡Bienvenido a, Herramientas Computacionales!\n"
     ]
    }
   ],
   "source": [
    "for estudiante in cursos_IMEC:\n",
    "    print(\"¡Bienvenido a, {}!\".format(estudiante))"
   ]
  },
  {
   "cell_type": "code",
   "execution_count": 35,
   "metadata": {},
   "outputs": [
    {
     "name": "stdout",
     "output_type": "stream",
     "text": [
      "-> Introducción, 0\n",
      "-> Introducción, 2\n",
      "-> Introducción, 4\n",
      "-> Introducción, 6\n",
      "-> Introducción, 8\n",
      "\n",
      "-> Fundamentos, 0\n",
      "-> Fundamentos, 2\n",
      "-> Fundamentos, 4\n",
      "-> Fundamentos, 6\n",
      "-> Fundamentos, 8\n",
      "\n",
      "-> Dinámica, 0\n",
      "-> Dinámica, 2\n",
      "-> Dinámica, 4\n",
      "-> Dinámica, 6\n",
      "-> Dinámica, 8\n",
      "\n",
      "-> Sólidos Deformables, 0\n",
      "-> Sólidos Deformables, 2\n",
      "-> Sólidos Deformables, 4\n",
      "-> Sólidos Deformables, 6\n",
      "-> Sólidos Deformables, 8\n",
      "\n",
      "-> Conversión, 0\n",
      "-> Conversión, 2\n",
      "-> Conversión, 4\n",
      "-> Conversión, 6\n",
      "-> Conversión, 8\n",
      "\n",
      "-> Herramientas Computacionales, 0\n",
      "-> Herramientas Computacionales, 2\n",
      "-> Herramientas Computacionales, 4\n",
      "-> Herramientas Computacionales, 6\n",
      "-> Herramientas Computacionales, 8\n",
      "\n"
     ]
    }
   ],
   "source": [
    "# Si concatenamos los for-loop...\n",
    "for i in cursos_IMEC:\n",
    "    for j in range(0, 10, 2):\n",
    "        print(f\"-> {i}, {j}\")\n",
    "    print() # espacio en blanco"
   ]
  },
  {
   "cell_type": "markdown",
   "metadata": {},
   "source": [
    "Es una convención usar las letras `i`, `j` y `k` para las variables de iteración (`<var>`), a menos que haya una buena razón para darle a la variable un nombre más descriptivo."
   ]
  },
  {
   "cell_type": "markdown",
   "metadata": {},
   "source": [
    "## 1.7. Condicionales y Pruebas *If-Elif-Else*\n",
    "La sintaxis es:\n",
    "\n",
    "```python\n",
    "if <condición 1>:\n",
    "    <opción 1>\n",
    "\n",
    "elif <condición 2>:\n",
    "    <opción 2>\n",
    "    \n",
    "else:\n",
    "    <opción 3>:\n",
    "```\n",
    "\n",
    "Los tipos de condicionales son:\n",
    "\n",
    "*   `<`: Menor a\n",
    "*   `>`: Mayor a\n",
    "*   `<=`: Menor igual a\n",
    "*   `>=`: Mayor igual a\n",
    "*   `==`: Igual a\n",
    "*   `!=`: Diferente a"
   ]
  },
  {
   "cell_type": "code",
   "execution_count": 36,
   "metadata": {},
   "outputs": [
    {
     "name": "stdout",
     "output_type": "stream",
     "text": [
      "Suficiente\n"
     ]
    }
   ],
   "source": [
    "puntaje = 81\n",
    "    \n",
    "if puntaje >= 90:\n",
    "    print(\"Sobresaliente\")\n",
    "\n",
    "elif (puntaje < 90) and (puntaje >= 80): # Note la forma en como unimos varias condiciones\n",
    "    print(\"Suficiente\")\n",
    "\n",
    "else:\n",
    "    print(\"Aceptable\")"
   ]
  },
  {
   "cell_type": "markdown",
   "metadata": {},
   "source": [
    "Lo podemos unir con lo que aprendimos anteriormente. Por ejemplo, una calculadora de operaciones matemáticas básicas:"
   ]
  },
  {
   "cell_type": "code",
   "execution_count": 37,
   "metadata": {},
   "outputs": [],
   "source": [
    "num1 = input('Seleccione un número: ')\n",
    "num2 = input('Seleccione otro número: ')\n",
    "oper = input('Seleccione una operación: ')"
   ]
  },
  {
   "cell_type": "markdown",
   "metadata": {},
   "source": [
    "Primero fijémonos en el tipo de variable (`type()`) que obtenemos con la función `input()`."
   ]
  },
  {
   "cell_type": "code",
   "execution_count": 38,
   "metadata": {},
   "outputs": [
    {
     "name": "stdout",
     "output_type": "stream",
     "text": [
      "<class 'str'>\n",
      "<class 'str'>\n",
      "<class 'str'>\n"
     ]
    }
   ],
   "source": [
    "print( type(num1) )\n",
    "\n",
    "print( type(num2) )\n",
    "\n",
    "print( type(oper) )"
   ]
  },
  {
   "cell_type": "markdown",
   "metadata": {},
   "source": [
    "Todas las variables son de tipo `str`. ¿Podemos sumar los números?"
   ]
  },
  {
   "cell_type": "code",
   "execution_count": 39,
   "metadata": {},
   "outputs": [
    {
     "data": {
      "text/plain": [
       "'12'"
      ]
     },
     "execution_count": 39,
     "metadata": {},
     "output_type": "execute_result"
    }
   ],
   "source": [
    "num1 + num2"
   ]
  },
  {
   "cell_type": "markdown",
   "metadata": {},
   "source": [
    "¿Qué pasó?"
   ]
  },
  {
   "cell_type": "markdown",
   "metadata": {},
   "source": [
    "Para convertir estas variables tipo `str` a `int` basta con utilizar la función `int()`.\n",
    "\n",
    "**¡Importante!:** Note que la diferencia entre el tipo de variable `int` y la función `int()`, es que la última tiene y utiliza los paréntesis."
   ]
  },
  {
   "cell_type": "code",
   "execution_count": 40,
   "metadata": {},
   "outputs": [
    {
     "data": {
      "text/plain": [
       "3"
      ]
     },
     "execution_count": 40,
     "metadata": {},
     "output_type": "execute_result"
    }
   ],
   "source": [
    "int(num1) + int(num2)"
   ]
  },
  {
   "cell_type": "code",
   "execution_count": 41,
   "metadata": {},
   "outputs": [
    {
     "name": "stdout",
     "output_type": "stream",
     "text": [
      "La suma es:  3\n"
     ]
    }
   ],
   "source": [
    "#Operación Condicional\n",
    "if oper == '+':\n",
    "    suma = int(num1) + int(num2)\n",
    "    print('La suma es: ', suma)\n",
    "\n",
    "elif oper == '-':\n",
    "    resta = int(num1) - int(num2)\n",
    "    print('La resta es: ', suma)\n",
    "    \n",
    "elif oper == '/':\n",
    "    if int(num2) == 0:\n",
    "        print('¡No se puede dividir entre 0!')\n",
    "    else:\n",
    "        divis = int(num1) / int(num2)\n",
    "        print('La división es: ', divis)\n",
    "    \n",
    "elif oper == '*':\n",
    "    multip = int(num1) * int(num2)\n",
    "    print('La multiplicación es: ', multip)\n",
    "\n",
    "else:\n",
    "    print('ERROR: No seleccionó un operador correcto.')"
   ]
  },
  {
   "cell_type": "markdown",
   "metadata": {},
   "source": [
    "## 1.8. Funciones\n",
    "Las funciones son útiles si el mismo código se utiliza en varios lugares diferentes. La facilidad de una función es que una vez creada (es decir, definir ese código que se utiliza varias veces en una función), tan solo basta con **llamar a la función cuando quiera ejecutar ese código**.\n",
    "\n",
    "La sintaxis es:\n",
    "\n",
    "```python\n",
    "def <nombre>(<parámetros>):\n",
    "    <algoritmo>\n",
    "    return <resultado>\n",
    "```"
   ]
  },
  {
   "cell_type": "code",
   "execution_count": 42,
   "metadata": {},
   "outputs": [],
   "source": [
    "num1 = input()\n",
    "num2 = input()"
   ]
  },
  {
   "cell_type": "code",
   "execution_count": 43,
   "metadata": {},
   "outputs": [],
   "source": [
    "def suma(num1, num2):\n",
    "    print('La suma es:', int(num1)+int(num2))"
   ]
  },
  {
   "cell_type": "code",
   "execution_count": 44,
   "metadata": {},
   "outputs": [
    {
     "name": "stdout",
     "output_type": "stream",
     "text": [
      "La suma es: 3\n"
     ]
    }
   ],
   "source": [
    "suma(num1, num2)"
   ]
  },
  {
   "cell_type": "markdown",
   "metadata": {},
   "source": [
    "¿Cómo crearíamos una función que me realice la división?"
   ]
  },
  {
   "cell_type": "code",
   "execution_count": 45,
   "metadata": {},
   "outputs": [],
   "source": [
    "def division(num1, num2):\n",
    "    if int(num2) == 0:\n",
    "        print('¡No se puede dividir entre 0!')\n",
    "\n",
    "    else:\n",
    "        divis = int(num1) / int(num2)\n",
    "        print('La división es:', divis)\n",
    "\n",
    "    return divis"
   ]
  },
  {
   "cell_type": "code",
   "execution_count": 46,
   "metadata": {},
   "outputs": [
    {
     "name": "stdout",
     "output_type": "stream",
     "text": [
      "La división es: 0.5\n"
     ]
    },
    {
     "data": {
      "text/plain": [
       "0.5"
      ]
     },
     "execution_count": 46,
     "metadata": {},
     "output_type": "execute_result"
    }
   ],
   "source": [
    "division(num1=1, num2=2)"
   ]
  }
 ],
 "metadata": {
  "kernelspec": {
   "display_name": "hc",
   "language": "python",
   "name": "python3"
  },
  "language_info": {
   "codemirror_mode": {
    "name": "ipython",
    "version": 3
   },
   "file_extension": ".py",
   "mimetype": "text/x-python",
   "name": "python",
   "nbconvert_exporter": "python",
   "pygments_lexer": "ipython3",
   "version": "3.11.0"
  },
  "toc": {
   "base_numbering": 1,
   "nav_menu": {},
   "number_sections": false,
   "sideBar": true,
   "skip_h1_title": true,
   "title_cell": "Table of Contents",
   "title_sidebar": "Contents",
   "toc_cell": false,
   "toc_position": {},
   "toc_section_display": true,
   "toc_window_display": false
  }
 },
 "nbformat": 4,
 "nbformat_minor": 2
}
