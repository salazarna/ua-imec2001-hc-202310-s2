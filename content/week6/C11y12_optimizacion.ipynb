{
 "cells": [
  {
   "attachments": {},
   "cell_type": "markdown",
   "metadata": {},
   "source": [
    "# IMEC2001 Herramientas Computacionales\n",
    "## Semana 6: Optimización\n",
    "### Clase 11-12:  Optimización y Sistemas de Bombeo\n",
    "\n",
    "Universidad de los Andes — Mayo 10 y 12, 2023.\n",
    "\n",
    "---\n",
    "\n",
    "## TABLA DE CONTENIDO\n",
    "\n",
    "### Sección 1: Optimización [→](#section1)\n",
    "- 1.1. Introducción\n",
    "- 1.2. Cargar Librerías\n",
    "- 1.3. Sintaxis: Caso Lineal\n",
    "    - 1.3.1. Paso 1. Forma Estándar\n",
    "    - 1.3.2. Paso 2. Coeficientes Función Objetivo\n",
    "    - 1.3.3. Paso 3. Coeficientes Desigualdades\n",
    "    - 1.3.4. Paso 4. Coeficientes Igualdades\n",
    "    - 1.3.5. Paso 5. Límites de Variables\n",
    "    - 1.3.6. Paso 6. Ejecutar Optimización\n",
    "- 1.4. Sintaxis: Caso No Lineal\n",
    "    - 1.4.1. Paso 1. Forma Estándar\n",
    "    - 1.4.2. Paso 2. Función Objetivo\n",
    "    - 1.4.3. Paso 3. Restricciones\n",
    "    - 1.4.4. Paso 4. Límites de Variables\n",
    "    - 1.4.5. Paso 5. Estimación Inicial\n",
    "    - 1.4.6. Paso 6. Ejecutar Optimización\n",
    "\n",
    "### Sección 2: Sistema de Bombeo [→](#section2)\n",
    "- 2.1. Introducción\n",
    "- 2.2. Optimización\n",
    "    - 2.2.1. Paso 1. Forma Estándar\n",
    "    - 2.2.2. Paso 2. Función Objetivo\n",
    "    - 2.2.3. Paso 3. Restricciones\n",
    "    - 2.2.4. Paso 4. Límites de Variables\n",
    "    - 2.2.5. Paso 5. Estimación Inicial\n",
    "    - 2.2.6. Paso 6. Ejecutar Optimización\n",
    "___"
   ]
  },
  {
   "attachments": {},
   "cell_type": "markdown",
   "metadata": {},
   "source": [
    "<a id=\"section1\"></a>\n",
    "# Sección 1: Optimización"
   ]
  },
  {
   "attachments": {},
   "cell_type": "markdown",
   "metadata": {},
   "source": [
    "## 1.1. Introducción\n",
    "\n",
    "La optimización es la aplicación de **métodos analíticos y numéricos** enfocados en encontrar e identificar al mejor candidato de entre una colección de alternativas. \n",
    "\n",
    "<div class=\"alert alert-block alert-success\">\n",
    "Un problema de optimización es un problema de decisión.\n",
    "</div>\n",
    "\n",
    "Los elementos que componen un ejercicio de optimización son:\n",
    "\n",
    "- **Variables de decisión:** Selección de las variables independientes que sean adecuadas para caracterizar los posibles diseños candidatos y las condiciones de funcionamiento del sistema. Como variables independientes se suelen elegir aquellas que tienen un impacto significativo sobre la función objetivo.\n",
    "\n",
    "- **Restricciones:** Establecer mediante ecuaciones las relaciones existentes entre las variables de decisión. Estas relaciones son debidas, por ejemplo, a limitaciones en el sistema, a leyes naturales o a limitaciones tecnológicas.\n",
    "\n",
    "- **Función objetivo:** Elemento utilizado para decidir los valores adecuados de las variables de decisión que resuelven el problema de optimización. La función objetivo permite determinar los mejores valores para las variables de decisión. También se conoce como **criterio de elección**.\n",
    "\n",
    "<div class=\"alert alert-block alert-success\">\n",
    "En general, la optimización indica los valores de las variables de decisión que producen el mínimo\n",
    "o máximo valor (según el criterio utilizado) de la función objetivo elegida.\n",
    "</div>\n",
    "\n",
    "Algunos ejemplos de optimización son de tipo económico (coste total, beneficio), de tipo tecnológico (energía mínima, máxima capacidad de carga, máxima tasa de producción) o de tipo temporal (tiempo de producción mínimo) entre otros.\n",
    "\n",
    "**Nota:** Únicamente se utilizará **un único criterio de optimización**, no estamos interesados en encontrar una solución que, por ejemplo, minimice el coste, maximice la producción y al mismo tiempo minimice la energía utilizada (los problemas que utilizan varios criterios de búsqueda entran dentro de la llamada optimización multiobjetivo).\n",
    "\n",
    "Entonces:\n",
    "\n",
    "<div class=\"alert alert-block alert-success\">\n",
    "Un problema de optimización consiste en la búsqueda de valores para unas determinadas variables (variables de decisión) de forma que, cumpliendo un conjunto de requisitos representados mediante ecuaciones y/o inecuaciones algebráicas (restricciones) que limitarán la elección de los valores de las variables de decisión, proporcionan el mejor valor posible para una función (función objetivo) que es utilizada para medir el rendimiento del sistema que se estudia.\n",
    "</div>\n",
    "\n",
    "En otras palabras, buscamos valores que cumplan unas condiciones y minimicen o maximicen una función que caracteriza el sistema.\n",
    "\n",
    "La sintaxis es:\n",
    "\n",
    "$$\n",
    "\\begin{cases}\n",
    "  \\text{Optimizar} & \\rightarrow f(x)\\\\ \n",
    "  \\\\\n",
    "  \\text{Sujeto a (S.T.)} & \\rightarrow \\text{Restricciones}\\\\\n",
    "\\end{cases} \n",
    "$$\n",
    "\n",
    "<br><br>\n",
    "[1] Universidad Politécnica de Cartagena (s.f.). Fundamentos de Optimización, Capítulo 1. DMAE - UPCT."
   ]
  },
  {
   "attachments": {},
   "cell_type": "markdown",
   "metadata": {},
   "source": [
    "## 1.2. Cargar Librerías\n",
    "\n",
    "Primero, asegurémonos de haber instalado las librerías:\n",
    "\n",
    "> ```python\n",
    "  !pip install scipy\n",
    "  ```"
   ]
  },
  {
   "cell_type": "code",
   "execution_count": 1,
   "metadata": {},
   "outputs": [],
   "source": [
    "# Datos y Gráficas\n",
    "%matplotlib inline\n",
    "import matplotlib.pyplot as plt\n",
    "import pandas as pd\n",
    "import numpy as np\n",
    "\n",
    "# Optimización\n",
    "from scipy import optimize"
   ]
  },
  {
   "attachments": {},
   "cell_type": "markdown",
   "metadata": {},
   "source": [
    "## 1.3. Sintaxis: Caso Lineal\n",
    "\n",
    "Antes de iniciar con ejemplos aplicados, entendamos la sintaxis de la librería `scipy.optimize.linprog`.\n",
    "\n",
    "**Función Objetivo**<br>\n",
    "La librería `scipy.optimize.linprog` únicamente realiza **minimización**. Entonces, si el ejercicio es de maximizar, debemos hacer la transformación al multiplicar la función objetivo por $-1$. Por ejemplo:\n",
    "\n",
    "$$\n",
    "\\text{Maximizar} \\hspace{0.5cm} f(x) = x + 2y\n",
    "$$\n",
    "\n",
    "Es equivalente a:\n",
    "\n",
    "$$\n",
    "\\text{Minimizar} \\hspace{0.5cm} -f(x) = -x - 2y\n",
    "$$\n",
    "\n",
    "**Restricciones**<br>\n",
    "Únicamente se tienen en cuenta las desigualdades de tipo $\\leq$. Por ello, si la restricción es $\\geq$, debemos hacer la transformación al multiplicar la restricción por $-1$. Por ejemplo:\n",
    "\n",
    "$$\n",
    "6x + 8y \\geq 100\n",
    "$$\n",
    "\n",
    "Es equivalente a:\n",
    "\n",
    "$$\n",
    "-6x - 8y \\leq -100\n",
    "$$\n",
    "\n",
    "Esta forma se denomina **estandar**.\n",
    "\n",
    "<div class='alert alert-block alert-info'> \n",
    "\n",
    "<i class='fa fa-info-circle' aria-hidden='true'></i>\n",
    "Puede obtener más información en la documentación oficial de la librería `scipy.optimize.linprog` dando clic [aquí](https://docs.scipy.org/doc/scipy/reference/generated/scipy.optimize.linprog.html).\n",
    "</div>"
   ]
  },
  {
   "attachments": {},
   "cell_type": "markdown",
   "metadata": {},
   "source": [
    "En este caso, se busca:\n",
    "\n",
    "$$\n",
    "\\begin{cases}\n",
    "  \\text{Maximizar} & x + 2y\\\\ \n",
    "  \\\\\n",
    "  \\text{S.A.} & \\begin{cases}\n",
    "                  2x + y \\leq 20 & (1)\\\\\n",
    "                  \\\\\n",
    "                  -4x + 5y \\leq 10 & (2)\\\\\n",
    "                  \\\\\n",
    "                  -x + 2y \\geq -2 & (3)\\\\\n",
    "                  \\\\\n",
    "                  -x + 5y = 15 & (4)\\\\\n",
    "                \\end{cases}\\\\\n",
    "  \\\\\n",
    "  \\text{Variables} & \\begin{cases}\n",
    "                       x \\geq 0\\\\\n",
    "                       \\\\\n",
    "                       y \\geq 0\n",
    "                     \\end{cases}\n",
    "\\end{cases} \n",
    "$$"
   ]
  },
  {
   "attachments": {},
   "cell_type": "markdown",
   "metadata": {},
   "source": [
    "### 1.3.1. Paso 1. Forma Estándar\n",
    "\n",
    "1. La función objetivo es de maximización. Por tanto, la transformamos a **minimización** al multiplicarla por $-1$.\n",
    "2. La tercera restricción es de tipo $\\geq$. Entonces, la transformamos a $\\leq$ al multiplicarla por $-1$.\n",
    "3. Todo lo demás está en forma estándar.\n",
    "\n",
    "El ejercicio resultante en forma estandar es:\n",
    "\n",
    "$$\n",
    "\\begin{cases}\n",
    "  \\text{Minimizar} & -x + -2y\\\\ \n",
    "  \\\\\n",
    "  \\text{S.A.} & \\begin{cases}\n",
    "                  2x + y \\leq 20 & (1)\\\\\n",
    "                  \\\\\n",
    "                  -4x + 5y \\leq 10 & (2)\\\\\n",
    "                  \\\\\n",
    "                  x - 2y \\leq 2 & (3)\\\\\n",
    "                  \\\\\n",
    "                  -x + 5y = 15 & (4)\\\\\n",
    "                \\end{cases}\\\\\n",
    "  \\\\\n",
    "  \\text{Variables} & \\begin{cases}\n",
    "                       x \\geq 0\\\\\n",
    "                       \\\\\n",
    "                       y \\geq 0\n",
    "                     \\end{cases}\n",
    "\\end{cases} \n",
    "$$"
   ]
  },
  {
   "attachments": {},
   "cell_type": "markdown",
   "metadata": {},
   "source": [
    "### 1.3.2. Paso 2. Coeficientes Función Objetivo\n",
    "\n",
    "Creamos una lista a partir de los coeficientes de la función objetivo $f(x)$. En este caso:\n",
    "\n",
    "$$\n",
    "f(x) = -x + -2y\n",
    "$$"
   ]
  },
  {
   "cell_type": "code",
   "execution_count": 2,
   "metadata": {},
   "outputs": [
    {
     "data": {
      "text/plain": [
       "[-1, -2]"
      ]
     },
     "execution_count": 2,
     "metadata": {},
     "output_type": "execute_result"
    }
   ],
   "source": [
    "f_obj = [-1, -2]\n",
    "f_obj"
   ]
  },
  {
   "attachments": {},
   "cell_type": "markdown",
   "metadata": {},
   "source": [
    "### 1.3.3. Paso 3. Coeficientes Desigualdades\n",
    "\n",
    "Creamos una lista en donde se alojen los coeficientes de las restricciones de tipo **desigualdad**. Similar a la matriz de coeficientes que vimos en `C9_sistemaecuaciones.ipynb` y `C10_estatica.ipynb`, cada lista **interna** corresponde a cada ecuación.\n",
    "\n",
    "<div class=\"alert alert-block alert-success\">\n",
    "    \n",
    "**IMPORTANTE**<br>\n",
    "Se deben crear dos listas:\n",
    "1. Para los coeficientes del lado **izquierdo** de la desigualdad (LHS). Es una **lista de listas (`[[], [], ...]`)**.\n",
    "2. Para los coeficientes del lado **derecho** de la desigualdad (RHS). Es una **lista**.\n",
    "</div>\n",
    "\n",
    "$$\n",
    "\\begin{cases}\n",
    "  2x + y \\leq 20 & (1)\\\\\n",
    "  \\\\\n",
    "  -4x + 5y \\leq 10 & (2)\\\\\n",
    "  \\\\\n",
    "  x - 2y \\leq 2 & (3)\\\\\n",
    "\\end{cases}\n",
    "$$"
   ]
  },
  {
   "cell_type": "code",
   "execution_count": 3,
   "metadata": {},
   "outputs": [
    {
     "data": {
      "text/plain": [
       "[[2, 1], [-4, 5], [1, -2]]"
      ]
     },
     "execution_count": 3,
     "metadata": {},
     "output_type": "execute_result"
    }
   ],
   "source": [
    "lhs_des = [ [ 2, 1], # Ecuación 1\n",
    "            [-4, 5], # Ecuación 2\n",
    "            [1, -2] ] # Ecuación 3\n",
    "\n",
    "lhs_des"
   ]
  },
  {
   "cell_type": "code",
   "execution_count": 4,
   "metadata": {},
   "outputs": [
    {
     "data": {
      "text/plain": [
       "[20, 10, 2]"
      ]
     },
     "execution_count": 4,
     "metadata": {},
     "output_type": "execute_result"
    }
   ],
   "source": [
    "rhs_des = [ 20, # Ecuación 1\n",
    "            10, # Ecuación 2\n",
    "            2] # Ecuación 3\n",
    "\n",
    "rhs_des"
   ]
  },
  {
   "attachments": {},
   "cell_type": "markdown",
   "metadata": {},
   "source": [
    "### 1.3.4. Paso 4. Coeficientes Igualdades\n",
    "\n",
    "Creamos una lista en donde se alojen los coeficientes de las restricciones de tipo **igualdad**.\n",
    "\n",
    "<div class=\"alert alert-block alert-success\">\n",
    "    \n",
    "**IMPORTANTE**<br>\n",
    "Se deben crear dos listas:\n",
    "1. Para los coeficientes del lado **izquierdo** de la desigualdad (LHS). Es una **lista de listas (`[[], [], ...]`)**.\n",
    "2. Para los coeficientes del lado **derecho** de la desigualdad (RHS). Es una **lista**.\n",
    "</div>\n",
    "\n",
    "$$\n",
    "-x + 5y = 15 \\hspace{0.5cm} (4)\n",
    "$$"
   ]
  },
  {
   "cell_type": "code",
   "execution_count": 5,
   "metadata": {},
   "outputs": [
    {
     "data": {
      "text/plain": [
       "[[-1, 5]]"
      ]
     },
     "execution_count": 5,
     "metadata": {},
     "output_type": "execute_result"
    }
   ],
   "source": [
    "lhs_igu = [ [-1, 5] ] # Ecuación 4\n",
    "lhs_igu"
   ]
  },
  {
   "cell_type": "code",
   "execution_count": 6,
   "metadata": {},
   "outputs": [
    {
     "data": {
      "text/plain": [
       "[15]"
      ]
     },
     "execution_count": 6,
     "metadata": {},
     "output_type": "execute_result"
    }
   ],
   "source": [
    "'''\n",
    "Notemos que aunque es un único valor,\n",
    "este lo alojamos en la **lista**\n",
    "'''\n",
    "rhs_igu = [15] # Ecuación 4\n",
    "rhs_igu"
   ]
  },
  {
   "attachments": {},
   "cell_type": "markdown",
   "metadata": {},
   "source": [
    "### 1.3.5. Paso 5. Límites de Variables\n",
    "\n",
    "Creamos una lista de listas `[[], [], ...]` en donde se definan los valores mínimo y máximo que puede tomar las variables. La cantidad de listas internas dependen de la cantidad de variables.\n",
    "\n",
    "$$\n",
    "\\begin{cases}\n",
    "   x \\geq 0\\\\\n",
    "   \\\\\n",
    "   y \\geq 0\n",
    "\\end{cases}\n",
    "$$\n",
    "\n",
    "Notemos que únicamente nos indican el valor mínimo (cero para las dos variables). Esto quiere decir que el valor máximo es $\\infty$ (definido como `numpy.inf`, `math.inf`, `scipy.inf` o `float('inf')`."
   ]
  },
  {
   "cell_type": "code",
   "execution_count": 7,
   "metadata": {},
   "outputs": [
    {
     "data": {
      "text/plain": [
       "[[0, inf], [0, inf]]"
      ]
     },
     "execution_count": 7,
     "metadata": {},
     "output_type": "execute_result"
    }
   ],
   "source": [
    "limites = [ [0, np.inf], # x\n",
    "            [0, np.inf]] # y\n",
    "\n",
    "limites"
   ]
  },
  {
   "attachments": {},
   "cell_type": "markdown",
   "metadata": {},
   "source": [
    "### 1.3.6. Paso 6. Ejecutar Optimización\n",
    "\n",
    "Se ejecuta la librería `scipy.optimize.linprog`, la cual tiene los siguientes parámetros:\n",
    "\n",
    "- `c`: Los coeficientes de la función objetivo lineal a minimizar (**Paso 2**).\n",
    "- `A_ub`: Coeficientes del lado izquierdo de las restricciones de desigualdad (**Paso 3**).\n",
    "- `b_ub`: Coeficientes del lado derecho de las restricciones de desigualdad (**Paso 3**).\n",
    "- `A_eq`: Coeficientes del lado izquierdo de las restricciones de igualdad (**Paso 4**).\n",
    "- `b_eq`: Coeficientes del lado derecho de las restricciones de igualdad (**Paso 4**).\n",
    "- `bounds`: Límites de variables (**Paso 5**)."
   ]
  },
  {
   "cell_type": "code",
   "execution_count": 8,
   "metadata": {},
   "outputs": [
    {
     "data": {
      "text/plain": [
       "           con: array([0.])\n",
       " crossover_nit: 0\n",
       "         eqlin:  marginals: array([-0.27272727])\n",
       "  residual: array([0.])\n",
       "           fun: -16.818181818181817\n",
       "       ineqlin:  marginals: array([-0.63636364, -0.        , -0.        ])\n",
       "  residual: array([ 0.        , 18.18181818,  3.36363636])\n",
       "         lower:  marginals: array([0., 0.])\n",
       "  residual: array([7.72727273, 4.54545455])\n",
       "       message: 'Optimization terminated successfully. (HiGHS Status 7: Optimal)'\n",
       "           nit: 0\n",
       "         slack: array([ 0.        , 18.18181818,  3.36363636])\n",
       "        status: 0\n",
       "       success: True\n",
       "         upper:  marginals: array([0., 0.])\n",
       "  residual: array([inf, inf])\n",
       "             x: array([7.72727273, 4.54545455])"
      ]
     },
     "execution_count": 8,
     "metadata": {},
     "output_type": "execute_result"
    }
   ],
   "source": [
    "sol = optimize.linprog(c=f_obj, \n",
    "                       A_ub=lhs_des, \n",
    "                       b_ub=rhs_des, \n",
    "                       A_eq=lhs_igu, \n",
    "                       b_eq=rhs_igu, \n",
    "                       bounds=limites)\n",
    "\n",
    "sol"
   ]
  },
  {
   "attachments": {},
   "cell_type": "markdown",
   "metadata": {},
   "source": [
    "<div class=\"alert alert-block alert-warning\">   \n",
    "\n",
    "**SU TURNO**\n",
    "\n",
    "Resuelva con `Excel Solver` el siguiente ejercicio de optimización lineal.\n",
    "\n",
    "$$\n",
    "\\begin{cases}\n",
    "  \\text{Maximizar} & 3x + 4y\\\\ \n",
    "  \\\\\n",
    "  \\text{S.A.} & \\begin{cases}\n",
    "                  2x_1 + 5y \\leq 30 & (1)\\\\\n",
    "                  \\\\\n",
    "                  4x_1 + 2y \\leq 20 & (2)\\\\\n",
    "                \\end{cases}\\\\\n",
    "  \\\\\n",
    "  \\text{Variables} & \\begin{cases}\n",
    "                       x \\geq 0\\\\\n",
    "                       \\\\\n",
    "                       y \\geq 0\n",
    "                     \\end{cases}\n",
    "\\end{cases} \n",
    "$$\n",
    "\n",
    "</div>"
   ]
  },
  {
   "cell_type": "code",
   "execution_count": 9,
   "metadata": {},
   "outputs": [
    {
     "data": {
      "text/plain": [
       "[-3, -4]"
      ]
     },
     "execution_count": 9,
     "metadata": {},
     "output_type": "execute_result"
    }
   ],
   "source": [
    "# Coeficientes Función Objetivo (Forma Estándar)\n",
    "f_obj = [-3, -4]\n",
    "f_obj"
   ]
  },
  {
   "cell_type": "code",
   "execution_count": 10,
   "metadata": {},
   "outputs": [],
   "source": [
    "# Coeficientes Desigualdades\n",
    "lhs_des = [ [ 2, 5], # Ecuación 1\n",
    "            [4, 2] ] # Ecuación 2\n",
    "\n",
    "rhs_des = [ 30, # Ecuación 1\n",
    "            20] # Ecuación 2"
   ]
  },
  {
   "cell_type": "code",
   "execution_count": 11,
   "metadata": {},
   "outputs": [
    {
     "data": {
      "text/plain": [
       "[[0, inf], [0, inf]]"
      ]
     },
     "execution_count": 11,
     "metadata": {},
     "output_type": "execute_result"
    }
   ],
   "source": [
    "# Límites de Variables\n",
    "limites = [ [0, np.inf], # x\n",
    "            [0, np.inf]] # y\n",
    "\n",
    "limites"
   ]
  },
  {
   "cell_type": "code",
   "execution_count": 12,
   "metadata": {},
   "outputs": [
    {
     "data": {
      "text/plain": [
       "           con: array([], dtype=float64)\n",
       " crossover_nit: 0\n",
       "         eqlin:  marginals: array([], dtype=float64)\n",
       "  residual: array([], dtype=float64)\n",
       "           fun: -27.5\n",
       "       ineqlin:  marginals: array([-0.625 , -0.4375])\n",
       "  residual: array([0., 0.])\n",
       "         lower:  marginals: array([0., 0.])\n",
       "  residual: array([2.5, 5. ])\n",
       "       message: 'Optimization terminated successfully. (HiGHS Status 7: Optimal)'\n",
       "           nit: 2\n",
       "         slack: array([0., 0.])\n",
       "        status: 0\n",
       "       success: True\n",
       "         upper:  marginals: array([0., 0.])\n",
       "  residual: array([inf, inf])\n",
       "             x: array([2.5, 5. ])"
      ]
     },
     "execution_count": 12,
     "metadata": {},
     "output_type": "execute_result"
    }
   ],
   "source": [
    "sol = optimize.linprog(c=f_obj,\n",
    "                       A_ub=lhs_des,\n",
    "                       b_ub=rhs_des,\n",
    "                       A_eq=None, # None dado que no hay restricciones de igualdad\n",
    "                       b_eq=None, # None dado que no hay restricciones de igualdad\n",
    "                       bounds=limites)\n",
    "\n",
    "sol"
   ]
  },
  {
   "attachments": {},
   "cell_type": "markdown",
   "metadata": {},
   "source": [
    "## 1.4. Sintaxis: Caso No Lineal\n",
    "\n",
    "Calcular las dimensiones $x$ y $y$ del rectángulo de mayor área $A$ y de perímetro constante $p$ e igual a 48 m.\n",
    "\n",
    "Organizando el problema, tenemos:\n",
    "\n",
    "$$\n",
    "\\begin{cases}\n",
    "  \\text{Maximizar} & A = xy\\\\ \n",
    "  \\\\\n",
    "  \\text{S.A.} &  2x + 2y = 48 & (1)\\\\\n",
    "  \\\\\n",
    "  \\text{Variables} & \\begin{cases}\n",
    "                       x \\geq 0\\\\\n",
    "                       \\\\\n",
    "                       y \\geq 0\n",
    "                     \\end{cases}\n",
    "\\end{cases} \n",
    "$$\n",
    "\n",
    "Lo primero que notamos es que la función objetivo es **no lineal** porque tenemos una multiplicación entre variables.\n",
    "\n",
    "Para resolver ejercicios en donde tengamos funciones no lineales, utilizamos la librería `scipy.optimize.minimize` en donde la sintaxis es bastante similar a las que ya hemos trabajado con `scipy.optimize.fsolve` (`C9_sistemaecuaciones.ipynb` y `C10_estatica.ipynb`).\n",
    "\n",
    "<div class='alert alert-block alert-info'> \n",
    "\n",
    "<i class='fa fa-info-circle' aria-hidden='true'></i>\n",
    "Puede obtener más información en la documentación oficial de la librería `scipy.optimize.minimize` dando clic [aquí](https://docs.scipy.org/doc/scipy/reference/generated/scipy.optimize.minimize.html#scipy.optimize.minimize).\n",
    "</div>"
   ]
  },
  {
   "attachments": {},
   "cell_type": "markdown",
   "metadata": {},
   "source": [
    "### 1.4.1. Paso 1. Forma Estándar\n",
    "\n",
    "1. La función objetivo es de maximización. Por tanto, la transformamos a **minimización** al multiplicarla por $-1$.\n",
    "2. Todo lo demás está en forma estándar.\n",
    "\n",
    "El ejercicio resultante en forma estandar es:\n",
    "\n",
    "$$\n",
    "\\begin{cases}\n",
    "  \\text{Minimizar} & -xy\\\\ \n",
    "  \\\\\n",
    "  \\text{S.A.} &  2x + 2y = 48 & (1)\\\\\n",
    "  \\\\\n",
    "  \\text{Variables} & \\begin{cases}\n",
    "                       x \\geq 0\\\\\n",
    "                       \\\\\n",
    "                       y \\geq 0\n",
    "                     \\end{cases}\n",
    "\\end{cases} \n",
    "$$"
   ]
  },
  {
   "attachments": {},
   "cell_type": "markdown",
   "metadata": {},
   "source": [
    "### 1.4.2. Paso 2. Función Objetivo\n",
    "\n",
    "Definimos la función objetivo como una función en Python."
   ]
  },
  {
   "cell_type": "code",
   "execution_count": 13,
   "metadata": {},
   "outputs": [
    {
     "data": {
      "text/plain": [
       "<function __main__.f_objetivo(z)>"
      ]
     },
     "execution_count": 13,
     "metadata": {},
     "output_type": "execute_result"
    }
   ],
   "source": [
    "def f_objetivo(z):\n",
    "    # Variables\n",
    "    x = z[0]\n",
    "    y = z[1]\n",
    "    \n",
    "    # Función objetivo\n",
    "    f_obj = -(x*y)\n",
    "    \n",
    "    return f_obj\n",
    "\n",
    "f_objetivo"
   ]
  },
  {
   "attachments": {},
   "cell_type": "markdown",
   "metadata": {},
   "source": [
    "### 1.4.3. Paso 3. Restricciones\n",
    "\n",
    "Definimos las restricciones como funciones en Python. Es decir, se definen $n$ funciones según las $n$ restricciones.\n",
    "\n",
    "<div class=\"alert alert-block alert-success\">\n",
    "    \n",
    "**IMPORTANTE**<br>\n",
    "Las funciones se definen agrupando todas las variables de las restricciones al lado izquierdo de la igualdad, de manera que en la parte derecha resulte $=0$.\n",
    "</div>\n",
    "\n",
    "Despejando la única restricción:\n",
    "\n",
    "$$\n",
    "2x + 2y = 48 \\hspace{0.5cm} (1)\n",
    "$$\n",
    "\n",
    "Obtenemos que:\n",
    "\n",
    "$$\n",
    "2x + 2y - 48 = 0 \\hspace{0.5cm} (1)\n",
    "$$"
   ]
  },
  {
   "cell_type": "code",
   "execution_count": 14,
   "metadata": {},
   "outputs": [
    {
     "data": {
      "text/plain": [
       "<function __main__.restriccion_1(z)>"
      ]
     },
     "execution_count": 14,
     "metadata": {},
     "output_type": "execute_result"
    }
   ],
   "source": [
    "def restriccion_1(z):\n",
    "    # Variables\n",
    "    x = z[0]\n",
    "    y = z[1]\n",
    "    \n",
    "    # Restriccion\n",
    "    res = 2*x + 2*y - 48\n",
    "    \n",
    "    return res\n",
    "\n",
    "restriccion_1"
   ]
  },
  {
   "attachments": {},
   "cell_type": "markdown",
   "metadata": {},
   "source": [
    "Luego, en una diccionario, para cada función que hayamos definido, debemos indicar el tipo de restricción que tenemos: desigualdad o igualdad.\n",
    "\n",
    "<div class=\"alert alert-block alert-success\">\n",
    "\n",
    "**IMPORTANTE**<br>\n",
    "La sintaxis del diccionario se debe mantener:\n",
    "```python\n",
    "{'type': <tipo>, 'fun': <función>}\n",
    "```\n",
    "\n",
    "Donde el valor de la llave `type` es `'eq'` o `'ineq'` según corresponda (igualdad o desigualdad, respectivamente), y el valor de la llave `fun` es el **nombre** de la función. <br><br>\n",
    "\n",
    "Este diccionario **se crea para cada restricción**. Luego, estos diccionarios **se deben alojar en una lista**.\n",
    "</div>"
   ]
  },
  {
   "cell_type": "code",
   "execution_count": 15,
   "metadata": {},
   "outputs": [
    {
     "data": {
      "text/plain": [
       "[{'type': 'eq', 'fun': <function __main__.restriccion_1(z)>}]"
      ]
     },
     "execution_count": 15,
     "metadata": {},
     "output_type": "execute_result"
    }
   ],
   "source": [
    "# Diccionario de restricción\n",
    "dict_restriccion_1 = {'type': 'eq', 'fun': restriccion_1}\n",
    "\n",
    "# Lista de restricciones\n",
    "restricciones = [dict_restriccion_1]\n",
    "restricciones"
   ]
  },
  {
   "attachments": {},
   "cell_type": "markdown",
   "metadata": {},
   "source": [
    "### 1.4.4. Paso 4. Límites de Variables\n",
    "\n",
    "Creamos una lista de listas `[[], [], ...]` en donde se definan los valores mínimo y máximo que puede tomar las variables. La cantidad de listas internas dependen de la cantidad de variables.\n",
    "\n",
    "$$\n",
    "\\begin{cases}\n",
    "   x \\geq 0\\\\\n",
    "   \\\\\n",
    "   y \\geq 0\n",
    "\\end{cases}\n",
    "$$\n",
    "\n",
    "Notemos que únicamente nos indican el valor mínimo (cero para las dos variables). Esto quiere decir que el valor máximo es $\\infty$ (definido como `numpy.inf`, `math.inf`, `scipy.inf` o `float('inf')`."
   ]
  },
  {
   "cell_type": "code",
   "execution_count": 16,
   "metadata": {},
   "outputs": [
    {
     "data": {
      "text/plain": [
       "[[0, inf], [0, inf]]"
      ]
     },
     "execution_count": 16,
     "metadata": {},
     "output_type": "execute_result"
    }
   ],
   "source": [
    "limites = [ [0, np.inf], # x\n",
    "            [0, np.inf]] # y\n",
    "\n",
    "limites"
   ]
  },
  {
   "attachments": {},
   "cell_type": "markdown",
   "metadata": {},
   "source": [
    "### 1.4.5. Paso 5. Estimación Inicial\n",
    "\n",
    "Al igual que con la función `scipy.optimize.fsolve`, debemos indicar un valor inicial en donde la estimación numérica iniciará su evaluación.\n",
    "\n",
    "<div class=\"alert alert-block alert-success\">\n",
    "\n",
    "**IMPORTANTE**<br>\n",
    "Se indican tantos valores iniciales como incógnitas se tengan.\n",
    "</div>"
   ]
  },
  {
   "cell_type": "code",
   "execution_count": 17,
   "metadata": {},
   "outputs": [
    {
     "data": {
      "text/plain": [
       "[1, 1]"
      ]
     },
     "execution_count": 17,
     "metadata": {},
     "output_type": "execute_result"
    }
   ],
   "source": [
    "estimacion = [1, 1] # x, y\n",
    "estimacion"
   ]
  },
  {
   "attachments": {},
   "cell_type": "markdown",
   "metadata": {},
   "source": [
    "### 1.4.6. Paso 6. Ejecutar Optimización\n",
    "\n",
    "Se ejecuta la librería `scipy.optimize.minimize`, la cual tiene los siguientes parámetros:\n",
    "\n",
    "- `fun`: La función objetivo (**Paso 2**).\n",
    "- `constraints`: Lista de restricciones (**Paso 3**).\n",
    "- `bounds`: Lista de límites de variables (**Paso 4**).\n",
    "- `x0`: Lista de estimación inicial (**Paso 5**)."
   ]
  },
  {
   "cell_type": "code",
   "execution_count": 18,
   "metadata": {},
   "outputs": [
    {
     "data": {
      "text/plain": [
       "     fun: -143.99999999999994\n",
       "     jac: array([-12., -12.])\n",
       " message: 'Optimization terminated successfully'\n",
       "    nfev: 6\n",
       "     nit: 2\n",
       "    njev: 2\n",
       "  status: 0\n",
       " success: True\n",
       "       x: array([12., 12.])"
      ]
     },
     "execution_count": 18,
     "metadata": {},
     "output_type": "execute_result"
    }
   ],
   "source": [
    "sol = optimize.minimize(fun=f_objetivo,\n",
    "                        constraints=restricciones,\n",
    "                        bounds=limites,\n",
    "                        x0=estimacion)\n",
    "\n",
    "sol"
   ]
  },
  {
   "attachments": {},
   "cell_type": "markdown",
   "metadata": {},
   "source": [
    "Si realizamos una verificación gráfica, tenemos que:\n",
    "\n",
    "\\begin{cases}\n",
    "  A = x y & (1)\\\\ \n",
    "  \\\\\n",
    "  2x + 2y = 48 & (2)\n",
    "\\end{cases}\n",
    "\n",
    "Despejando $y$ en la Ecuación 2, se tiene:\n",
    "\n",
    "$$\n",
    "y = \\frac{48 - 2x}{2}\n",
    "$$\n",
    "\n",
    "Reemplazando esta respuesta en la Ecuación 1, se tiene:\n",
    "\n",
    "$$\n",
    "A = x \\frac{48 - 2x}{2} \\: \\rightarrow \\: \\frac{48x - 2x^2}{2} \\: \\rightarrow \\: 24x - x^2\n",
    "$$"
   ]
  },
  {
   "cell_type": "code",
   "execution_count": 19,
   "metadata": {},
   "outputs": [],
   "source": [
    "def formato_grafica(titulo, ejex, ejey, leyenda=False, xlim=[None, None], ylim=[None, None]):\n",
    "    plt.rcParams['axes.axisbelow'] = True\n",
    "\n",
    "    plt.title(titulo, fontsize=15)\n",
    "    plt.ylabel(ejey, fontsize=13)\n",
    "    plt.xlabel(ejex, fontsize=13)\n",
    "\n",
    "    plt.tick_params(direction='out', length=5, width=0.75, grid_alpha=0.3)\n",
    "    plt.xticks(rotation=0)\n",
    "    plt.minorticks_on()\n",
    "    plt.ylim(ylim[0], ylim[1])\n",
    "    plt.xlim(xlim[0], xlim[1])\n",
    "    plt.grid(True)\n",
    "    plt.grid(visible=True, which='major', color='grey', linestyle='-')\n",
    "    plt.grid(visible=True, which='minor', color='lightgrey', linestyle='-', alpha=0.2)\n",
    "    \n",
    "    if leyenda == True:\n",
    "        plt.legend(loc='best')\n",
    "    \n",
    "    plt.tight_layout;"
   ]
  },
  {
   "cell_type": "code",
   "execution_count": 20,
   "metadata": {},
   "outputs": [
    {
     "data": {
      "image/png": "[encoded data removed]",
      "text/plain": [
       "<Figure size 720x450 with 1 Axes>"
      ]
     },
     "metadata": {
      "needs_background": "light"
     },
     "output_type": "display_data"
    }
   ],
   "source": [
    "# Valores de X\n",
    "x = np.linspace(start=0, stop=20)\n",
    "\n",
    "# Valores de Y\n",
    "y = 24*x - x**2\n",
    "\n",
    "# Gráfica\n",
    "hor = 8\n",
    "ver = 5\n",
    "fig1 = plt.figure(figsize=(hor, ver), dpi=90)\n",
    "\n",
    "plt.plot(x, y, linestyle='-', color='dodgerblue', label='Función Objetivo')\n",
    "plt.plot(sol.x[0], 24*sol.x[0] - sol.x[0]**2, marker='o', ms='10', markerfacecolor='mediumseagreen', markeredgecolor='green', label='Solución')\n",
    "\n",
    "formato_grafica(titulo='Optimización', \n",
    "                ejex='Eje X', \n",
    "                ejey='Eje Y',\n",
    "                leyenda=True)"
   ]
  },
  {
   "attachments": {},
   "cell_type": "markdown",
   "metadata": {},
   "source": [
    "<div class=\"alert alert-block alert-warning\">   \n",
    "\n",
    "**SU TURNO**\n",
    "\n",
    "Resuelva con `Excel Solver` el siguiente ejercicio de optimización no lineal.\n",
    "\n",
    "$$\n",
    "\\begin{cases}\n",
    "  \\text{Minimizar} & x^2 + xy\\\\ \n",
    "  \\\\\n",
    "  \\text{S.A.} & \\begin{cases}\n",
    "                  x^3 + xy = 100 & (1)\\\\\n",
    "                  \\\\\n",
    "                  x^3 + xy \\geq 50 & (2)\\\\\n",
    "                \\end{cases}\\\\\n",
    "  \\\\\n",
    "  \\text{Variables} & \\begin{cases}\n",
    "                       -100 \\leq x \\leq 100\\\\\n",
    "                       \\\\\n",
    "                       -100 \\leq y \\leq 100\n",
    "                     \\end{cases}\n",
    "\\end{cases} \n",
    "$$\n",
    "\n",
    "</div>"
   ]
  },
  {
   "cell_type": "code",
   "execution_count": 21,
   "metadata": {},
   "outputs": [],
   "source": [
    "# Función Objetivo\n",
    "def f_objetivo(z):\n",
    "    # Variables\n",
    "    x = z[0]\n",
    "    y = z[1]\n",
    "\n",
    "    # Función objetivo\n",
    "    f_obj = x**2 + x*y\n",
    "\n",
    "    return f_obj"
   ]
  },
  {
   "cell_type": "code",
   "execution_count": 22,
   "metadata": {},
   "outputs": [],
   "source": [
    "# Restricciones\n",
    "def restriccion_1(z):\n",
    "    # Variables\n",
    "    x = z[0]\n",
    "    y = z[1]\n",
    "\n",
    "    # Restriccion\n",
    "    res = x**3 + x*y - 100\n",
    "\n",
    "    return res\n",
    "\n",
    "def restriccion_2(z):\n",
    "    # Variables\n",
    "    x = z[0]\n",
    "    y = z[1]\n",
    "\n",
    "    # Restriccion\n",
    "    res = x**3 + x*y - 50\n",
    "\n",
    "    return res"
   ]
  },
  {
   "cell_type": "code",
   "execution_count": 23,
   "metadata": {},
   "outputs": [
    {
     "data": {
      "text/plain": [
       "[{'type': 'eq', 'fun': <function __main__.restriccion_1(z)>},\n",
       " {'type': 'ineq', 'fun': <function __main__.restriccion_2(z)>}]"
      ]
     },
     "execution_count": 23,
     "metadata": {},
     "output_type": "execute_result"
    }
   ],
   "source": [
    "# Diccionario de restricción\n",
    "dict_restriccion_1 = {'type': 'eq', 'fun': restriccion_1}\n",
    "dict_restriccion_2 = {'type': 'ineq', 'fun': restriccion_2}\n",
    "\n",
    "# Lista de restricciones\n",
    "restricciones = [dict_restriccion_1, dict_restriccion_2]\n",
    "restricciones"
   ]
  },
  {
   "cell_type": "code",
   "execution_count": 24,
   "metadata": {},
   "outputs": [
    {
     "data": {
      "text/plain": [
       "[[-100, 100], [-100, 100]]"
      ]
     },
     "execution_count": 24,
     "metadata": {},
     "output_type": "execute_result"
    }
   ],
   "source": [
    "# Límites\n",
    "limites = [ [-100, 100], # x\n",
    "            [-100, 100]] # y\n",
    "\n",
    "limites"
   ]
  },
  {
   "cell_type": "code",
   "execution_count": 25,
   "metadata": {},
   "outputs": [
    {
     "data": {
      "text/plain": [
       "[1, 1]"
      ]
     },
     "execution_count": 25,
     "metadata": {},
     "output_type": "execute_result"
    }
   ],
   "source": [
    "# Estimación inicial\n",
    "estimacion = [1, 1] # x, y\n",
    "estimacion"
   ]
  },
  {
   "cell_type": "code",
   "execution_count": 26,
   "metadata": {},
   "outputs": [
    {
     "data": {
      "text/plain": [
       "     fun: -937.1265182425653\n",
       "     jac: array([-79.06639099,  10.46679688])\n",
       " message: 'Optimization terminated successfully'\n",
       "    nfev: 29\n",
       "     nit: 9\n",
       "    njev: 9\n",
       "  status: 0\n",
       " success: True\n",
       "       x: array([  10.46680532, -100.        ])"
      ]
     },
     "execution_count": 26,
     "metadata": {},
     "output_type": "execute_result"
    }
   ],
   "source": [
    "sol = optimize.minimize(fun=f_objetivo,\n",
    "                        constraints=restricciones,\n",
    "                        bounds=limites,\n",
    "                        x0=estimacion)\n",
    "\n",
    "sol"
   ]
  },
  {
   "attachments": {},
   "cell_type": "markdown",
   "metadata": {},
   "source": [
    "<a id=\"section2\"></a>\n",
    "# Sección 2: Sistema de Bombeo"
   ]
  },
  {
   "attachments": {},
   "cell_type": "markdown",
   "metadata": {},
   "source": [
    "## 2.1. Introducción\n",
    "\n",
    "Recordemos lo que conversamos de las bombas centrífugas (`C8_factorfriccion.ipynb`).\n",
    "\n",
    "La potencia que la bomba centrífuga le añade al fluido (conocida como **potencia hidráulica** $P_w$), es:\n",
    "\n",
    "$$\n",
    "P_w = \\rho g Q H\n",
    "$$\n",
    "\n",
    "Donde $\\rho$ es la densidad del fluido, $g$ la gravedad, $Q$ el caudal y $H$ la altura manométrica, definida como:\n",
    "\n",
    "$$\n",
    "H = \\frac{\\Delta p}{\\rho g}\n",
    "$$\n",
    "\n",
    "Siendo $\\Delta p$ el cambio de presión entre la entrada y salida de la bomba centrífuga.\n",
    "\n",
    "Cuando bombeamos un fluido en una tubería, debemos tener presente la fricción dada por las paredes del conducto causan una pérdida de carga $h_f$.\n",
    "\n",
    "$$\n",
    "h_f = f \\frac{L}{D} \\frac{V^2}{2g}\n",
    "$$\n",
    "\n",
    "Siendo $f$ el **coeficiente de fricción de Darcy** y $g$ la gravedad.\n",
    "\n",
    "Entonces, estas pérdidas por fricción en la tubería afecta la cabeza manométrica así: $H - h_f$.\n",
    "\n",
    "En general, el coeficiente de fricción de Darcy es función del número de Reynolds $Re$ y la rugosidad de la pared $\\varepsilon$.\n",
    "\n",
    "El número de Reynolds $Re$ una relación entre las *fuerzas de inercia* y las *fuerzas viscosas* de un fluido que permiten determinar si el flujo es laminar o turbulento.\n",
    "\n",
    "$$\n",
    "Re = \\frac{\\rho V D}{\\mu} = \\frac{V D}{\\nu}\n",
    "$$\n",
    "\n",
    "Siendo $\\rho$ la densidad del fluido, $V$ la velocidad de flujo, $D$ el diámetro interno de la tubería, $\\mu$ la viscosidad dinámica del fluido y $\\nu$ la viscosidad cinemática del fluido.\n",
    "\n",
    "Típicamente:\n",
    "- Flujo laminar cuando $Re \\leq 2300$. Para este caso, el coeficiente de fricción de Darcy es:\n",
    "\n",
    "$$\n",
    "f = \\frac{64}{Re}\n",
    "$$\n",
    "\n",
    "- Flujo turbulento cuando $Re > 2300$. Para este caso, el coeficiente de fricción de Darcy es:\n",
    "\n",
    "$$\n",
    "\\frac{1}{\\sqrt{f}} = -2 \\: \\text{log} \\left( \\frac{\\varepsilon / D}{3.7} + \\frac{2.51}{Re \\sqrt{f}} \\right)\n",
    "$$\n",
    "\n",
    "Esta ecuación es también conocida como la *ecuación de Colebrook*.\n",
    "\n",
    "\n",
    "Ahora bien, para que la bomba centrífuga le añada energía al fluido, debe haber un recurso que, asimismo, le suministre energía al dispositivo. Esto último es conocido como **potencia mecánica** $P_f$ y es el producto entre la velocidad de rotación del eje de la bomba $w$ y el torque en el mismo $T$.\n",
    "\n",
    "$$\n",
    "P_f = w T\n",
    "$$\n",
    "\n",
    "Luego, si el insumo es $P_f$ y la salida es $P_w$, la eficiencia de la bomba es la relación entre estos parámetros, es decir:\n",
    "\n",
    "$$\n",
    "\\eta = \\frac{P_w}{P_f} = \\frac{\\rho g Q H}{w T}\n",
    "$$\n",
    "\n",
    "Entonces, el rendimiento de la bomba centrífuga depende de tres factores: volumétrico, hidráulico y mecánico.\n",
    "\n",
    "<img src='./img/curvas_teoricas.png' width='400' height='400' />\n",
    "\n",
    "En la práctica, aunque las curvas de la altura manométrica $H$ aparecen explícitamente, las de potencia $P_f$ y rendimiento $\\eta$ deben deducirse a partir de los datos medidos. Fíjense, **es como los laboratorios que hacemos en los cursos de ingeniería mecánica**.\n",
    "\n",
    "<img src='./img/curvas_reales.png' width='900' height='900' />\n",
    "\n",
    "Por último, recordemos que:\n",
    "\n",
    "$$\n",
    "Q = VA\n",
    "$$\n",
    "\n",
    "y\n",
    "\n",
    "$$\n",
    "A = \\frac{\\pi D^2}{4}\n",
    "$$\n",
    "\n",
    "Siendo $A$ el área transversal de la tubería cilíndrica.\n",
    "\n",
    "Dicho esto, ¡optimicemos un sistema de bombeo!"
   ]
  },
  {
   "attachments": {},
   "cell_type": "markdown",
   "metadata": {},
   "source": [
    "## 2.2. Optimización\n",
    "\n",
    "Profesionales en ingeniería mecánica detectaron que la pérdida de carga $h_f$ (reducción de altura manométrica o cabeza) no debe superar 50 ft.\n",
    "\n",
    "Es sabido que el único material disponible es una tubería horizontal de 24 in de diámetro ( $D$ ) de hierro fundido asfáltico, 30 ft de longitud ( $L$ ) y una rugosidad ( $\\varepsilon$ ) de 0.0004 ft (equivalente a una rugosidad relativa $\\varepsilon_r = \\varepsilon / D =$ 0.0008).\n",
    "\n",
    "También, se conoce que el flujo máximo (caudal $Q$ ) es de 26 000 gpm (galones por minutos), aproximadamente 58 ft$^3$/s (1000 gpm = 2.22 ft$^3$/s).\n",
    "\n",
    "Además, se tienen los siguientes valores:\n",
    "- $\\rho = 1.94$ slug / ft$^3$\n",
    "- $\\mu = 2.09 · 10^{-5}$ slug / ft·s\n",
    "- $g = 32.2$ ft/s$^2$\n",
    "\n",
    "Se decidió contactar al equipo de trabajo del curso IMEC2001 Herramientas Computacionales solucionar el ejercicio de optimización y así conocer los parámetros de funcionamiento óptimos del sistema de bombeo tal que su eficiencia ( $\\eta$ ) se maximice.\n",
    "\n",
    "$$\n",
    "\\begin{cases}\n",
    "  \\text{Maximizar} & \\eta = \\frac{\\rho g Q H}{w T}\\\\ \n",
    "  \\\\\n",
    "  \\text{S.A.} & \\begin{cases}\n",
    "                  H - h_f = H - f \\frac{L}{D} \\frac{V^2}{2g} \\leq 655 & (1)\\\\\n",
    "                  \\\\\n",
    "                  Q = V A \\leq 58 & (2)\\\\\n",
    "                  \\\\\n",
    "                  \\frac{\\rho g Q H}{w T} \\leq 1& (3)\\\\\n",
    "                \\end{cases}\\\\\n",
    "  \\\\\n",
    "  \\text{Variables} & \\begin{cases}\n",
    "                       \\rho = 1.94 & [\\text{slug / ft}^3]\\\\\n",
    "                       \\\\\n",
    "                       \\mu = 2.09 · 10^{-5} & [\\text{slug / ft·s}]\\\\\n",
    "                       \\\\\n",
    "                       g = 32.2 & [\\text{ft/s}^2]\\\\\n",
    "                       \\\\\n",
    "                       f = 0.02 & [\\text{ad.}]\\\\\n",
    "                       \\\\\n",
    "                       D = 2 & [\\text{ft}]\\\\\n",
    "                       \\\\\n",
    "                       10 \\leq Q \\leq 58 & [\\text{ft}^3\\text{/s}]\\\\\n",
    "                       \\\\\n",
    "                       200 \\leq H \\leq 655 & [\\text{ft}]\\\\\n",
    "                       \\\\\n",
    "                       50 \\leq \\omega \\leq 122.5 & [\\text{rad/s}]\\\\\n",
    "                       \\\\\n",
    "                       100 \\leq T \\leq 2000 & [\\text{lb-ft}]\\\\\n",
    "                     \\end{cases}\n",
    "\\end{cases} \n",
    "$$"
   ]
  },
  {
   "attachments": {},
   "cell_type": "markdown",
   "metadata": {},
   "source": [
    "### 2.2.1. Paso 1. Forma Estándar\n",
    "\n",
    "El ejercicio resultante en forma estandar es:\n",
    "\n",
    "$$\n",
    "\\begin{cases}\n",
    "  \\text{Minimizar} & -\\eta = -\\frac{\\rho g Q H}{w T}\\\\ \n",
    "  \\\\\n",
    "  \\text{S.A.} & \\begin{cases}\n",
    "                  H - h_f = H - f \\frac{L}{D} \\frac{V^2}{2g} \\leq 655 & (1)\\\\\n",
    "                  \\\\\n",
    "                  Q = V A \\leq 58 & (2)\\\\\n",
    "                  \\\\\n",
    "                  \\frac{\\rho g Q H}{w T} \\leq 1& (3)\\\\\n",
    "                \\end{cases}\\\\\n",
    "  \\\\\n",
    "  \\text{Variables} & \\begin{cases}\n",
    "                       \\rho = 1.94 & [\\text{slug / ft}^3]\\\\\n",
    "                       \\\\\n",
    "                       \\mu = 2.09 · 10^{-5} & [\\text{slug / ft·s}]\\\\\n",
    "                       \\\\\n",
    "                       g = 32.2 & [\\text{ft/s}^2]\\\\\n",
    "                       \\\\\n",
    "                       f = 0.02 & [\\text{ad.}]\\\\\n",
    "                       \\\\\n",
    "                       D = 2 & [\\text{ft}]\\\\\n",
    "                       \\\\\n",
    "                       10 \\leq Q \\leq 58 & [\\text{ft}^3\\text{/s}]\\\\\n",
    "                       \\\\\n",
    "                       200 \\leq H \\leq 655 & [\\text{ft}]\\\\\n",
    "                       \\\\\n",
    "                       50 \\leq \\omega \\leq 122.5 & [\\text{rad/s}]\\\\\n",
    "                       \\\\\n",
    "                       100 \\leq T \\leq 2000 & [\\text{lb-ft}]\\\\\n",
    "                     \\end{cases}\n",
    "\\end{cases} \n",
    "$$"
   ]
  },
  {
   "cell_type": "code",
   "execution_count": 27,
   "metadata": {},
   "outputs": [],
   "source": [
    "D = 2 # [ft]\n",
    "rho = 1.94 # [slug/ft3]\n",
    "g = 32.2 # [ft/s2]\n",
    "L = 30 # [ft]\n",
    "f = 0.02 # [ad.]\n",
    "vis = 2.09e-5 # [slug/(ft·s)]"
   ]
  },
  {
   "cell_type": "code",
   "execution_count": 28,
   "metadata": {},
   "outputs": [
    {
     "data": {
      "text/plain": [
       "3.141592653589793"
      ]
     },
     "execution_count": 28,
     "metadata": {},
     "output_type": "execute_result"
    }
   ],
   "source": [
    "# Área\n",
    "A = np.pi * (D**2) / 4\n",
    "A"
   ]
  },
  {
   "attachments": {},
   "cell_type": "markdown",
   "metadata": {},
   "source": [
    "### 2.2.2. Paso 2. Función Objetivo"
   ]
  },
  {
   "cell_type": "code",
   "execution_count": 29,
   "metadata": {},
   "outputs": [],
   "source": [
    "def f_objetivo(z):\n",
    "    # Variables\n",
    "    Q = z[0] \n",
    "    H = z[1] \n",
    "    w = z[2] \n",
    "    T = z[3]\n",
    "    \n",
    "    # Función objetivo\n",
    "    Pw = rho * g * Q * (H - (f * (L/D) * (((Q/A)**2)/(2*g))))\n",
    "    Pf = (w * T)\n",
    "    \n",
    "    eficiencia = -(Pw / Pf)\n",
    "    \n",
    "    return eficiencia"
   ]
  },
  {
   "attachments": {},
   "cell_type": "markdown",
   "metadata": {},
   "source": [
    "### 2.2.3. Paso 3. Restricciones\n",
    "\n",
    "Definimos las restricciones como funciones en Python. Es decir, se definen $n$ funciones según las $n$ restricciones.\n",
    "\n",
    "<div class=\"alert alert-block alert-success\">\n",
    "    \n",
    "**IMPORTANTE**<br>\n",
    "La función `scipy.optimize.minimize` asume que el valor devuelto por una función de restricción es mayor que cero (`>=0`).\n",
    "</div>\n",
    "\n",
    "Entonces, `scipy.optimize.minimize` **vería** las restricciones de la siguiente manera.\n",
    "\n",
    "$$\n",
    "\\begin{cases}\n",
    "  \\left( H - f \\frac{L}{D} \\frac{V^2}{2g} \\right) \\geq 655 & (1)\\\\\n",
    "  \\\\\n",
    "  V A \\geq 58 & (2)\\\\\n",
    "  \\\\\n",
    "  \\frac{\\rho g Q H}{w T} \\geq 1 & (3)\\\\\n",
    "\\end{cases}\\\\\n",
    "$$\n",
    "\n",
    "Estos restricciones debemos adecuarlas a la **forma estandar** al multiplicar cada restricción por -1.\n",
    "\n",
    "$$\n",
    "\\begin{cases}\n",
    "  -\\left( H - f \\frac{L}{D} \\frac{V^2}{2g} \\right) \\leq -655 & (1)\\\\\n",
    "  \\\\\n",
    "  -\\left( V A \\right) \\leq -58 & (2)\\\\\n",
    "  \\\\\n",
    "  -\\frac{\\rho g Q H}{w T} \\leq -1 & (3)\\\\\n",
    "\\end{cases}\\\\\n",
    "$$\n",
    "\n",
    "<div class=\"alert alert-block alert-success\">\n",
    "    \n",
    "**IMPORTANTE**<br>\n",
    "Para definir las restricciones, las funciones se definen agrupando todas las variables de las restricciones al lado izquierdo de la igualdad, de manera que en la parte derecha resulte $=0$ o $\\leq 0$.\n",
    "</div>\n",
    "\n",
    "$$\n",
    "\\begin{cases}\n",
    "  655 - \\left( H - f \\frac{L}{D} \\frac{V^2}{2g} \\right) \\leq 0 & (1)\\\\\n",
    "  \\\\\n",
    "  58 - \\left( V A \\right) \\leq 0 & (2)\\\\\n",
    "  \\\\\n",
    "  1 - \\frac{\\rho g Q H}{w T} \\leq 0 & (3)\\\\\n",
    "\\end{cases}\\\\\n",
    "$$"
   ]
  },
  {
   "cell_type": "code",
   "execution_count": 30,
   "metadata": {},
   "outputs": [],
   "source": [
    "# Restricción 1\n",
    "def restriccion_1(z):\n",
    "    # Variables\n",
    "    Q = z[0]\n",
    "    H = z[1] \n",
    "    w = z[2] \n",
    "    T = z[3]\n",
    "    \n",
    "    # Restricción\n",
    "    res = 655 - (H - (f * (L/D) * (((Q/A)**2)/(2*g))))\n",
    "    \n",
    "    return res\n",
    "\n",
    "# Diccionario de restricción\n",
    "dict_restriccion_1 = {'type': 'ineq', 'fun': restriccion_1}"
   ]
  },
  {
   "cell_type": "code",
   "execution_count": 31,
   "metadata": {},
   "outputs": [],
   "source": [
    "# Restricción 2\n",
    "def restriccion_2(z):\n",
    "    # Variables\n",
    "    Q = z[0]\n",
    "    H = z[1] \n",
    "    w = z[2] \n",
    "    T = z[3]\n",
    "    \n",
    "    # Restricción\n",
    "    res = 58 - Q\n",
    "    \n",
    "    return res\n",
    "\n",
    "# Diccionario de restricción\n",
    "dict_restriccion_2 = {'type': 'ineq', 'fun': restriccion_2}"
   ]
  },
  {
   "cell_type": "code",
   "execution_count": 32,
   "metadata": {},
   "outputs": [],
   "source": [
    "# Restricción 3\n",
    "def restriccion_3(z):\n",
    "    # Variables\n",
    "    Q = z[0] # Q = V · A\n",
    "    H = z[1] \n",
    "    w = z[2] \n",
    "    T = z[3]\n",
    "    \n",
    "    # Restricción\n",
    "    res = 1 - ( (rho * g * Q * H) / (w * T) )\n",
    "    \n",
    "    return res\n",
    "\n",
    "# Diccionario de restricción\n",
    "dict_restriccion_3 = {'type': 'ineq', 'fun': restriccion_3}"
   ]
  },
  {
   "cell_type": "code",
   "execution_count": 33,
   "metadata": {},
   "outputs": [
    {
     "data": {
      "text/plain": [
       "[{'type': 'ineq', 'fun': <function __main__.restriccion_1(z)>},\n",
       " {'type': 'ineq', 'fun': <function __main__.restriccion_2(z)>},\n",
       " {'type': 'ineq', 'fun': <function __main__.restriccion_3(z)>}]"
      ]
     },
     "execution_count": 33,
     "metadata": {},
     "output_type": "execute_result"
    }
   ],
   "source": [
    "# Lista de restricciones\n",
    "restricciones = [dict_restriccion_1, dict_restriccion_2, dict_restriccion_3]\n",
    "restricciones"
   ]
  },
  {
   "attachments": {},
   "cell_type": "markdown",
   "metadata": {},
   "source": [
    "### 2.2.4. Paso 4. Límites de Variables\n",
    "\n",
    "Creamos una lista de listas `[[], [], ...]` en donde se definan los valores mínimo y máximo que puede tomar las variables. La cantidad de listas internas dependen de la cantidad de variables.\n",
    "\n",
    "$$\n",
    "\\begin{cases}\n",
    "   10 \\leq Q \\leq 58\\\\\n",
    "   \\\\\n",
    "   200 \\leq H \\leq 655\\\\\n",
    "   \\\\\n",
    "   50 \\leq \\omega \\leq 122.5\\\\\n",
    "   \\\\\n",
    "   100 \\leq T \\leq 2000\\\\\n",
    "\\end{cases} \n",
    "$$"
   ]
  },
  {
   "cell_type": "code",
   "execution_count": 34,
   "metadata": {},
   "outputs": [
    {
     "data": {
      "text/plain": [
       "[[10, 58], [200, 655], [50, 122.5], [100, 2000]]"
      ]
     },
     "execution_count": 34,
     "metadata": {},
     "output_type": "execute_result"
    }
   ],
   "source": [
    "limites = [ [10, 58], # Q\n",
    "            [200, 655], # H\n",
    "            [50, 122.5], # w\n",
    "            [100, 2000] ] # T\n",
    "\n",
    "limites"
   ]
  },
  {
   "attachments": {},
   "cell_type": "markdown",
   "metadata": {},
   "source": [
    "### 2.2.5. Paso 5. Estimación Inicial\n",
    "\n",
    "Al igual que con la función `scipy.optimize.fsolve`, debemos indicar un valor inicial en donde la estimación numérica iniciará su evaluación.\n",
    "\n",
    "<div class=\"alert alert-block alert-success\">\n",
    "\n",
    "**IMPORTANTE**<br>\n",
    "Se indican tantos valores iniciales como incógnitas se tengan.\n",
    "</div>"
   ]
  },
  {
   "cell_type": "code",
   "execution_count": 35,
   "metadata": {},
   "outputs": [
    {
     "data": {
      "text/plain": [
       "[10, 200, 90, 1500]"
      ]
     },
     "execution_count": 35,
     "metadata": {},
     "output_type": "execute_result"
    }
   ],
   "source": [
    "estimacion = [10, # 0 <= Q <= 58\n",
    "              200, # 350 <= H <= 655\n",
    "              90, # 0 <= w <= 122.5\n",
    "              1500] # T >= 0\n",
    "\n",
    "estimacion"
   ]
  },
  {
   "attachments": {},
   "cell_type": "markdown",
   "metadata": {},
   "source": [
    "### 2.2.6. Paso 6. Ejecutar Optimización\n",
    "\n",
    "Se ejecuta la librería `scipy.optimize.minimize`, la cual tiene los siguientes parámetros:\n",
    "\n",
    "- `fun`: La función objetivo (**Paso 2**).\n",
    "- `constraints`: Lista de restricciones (**Paso 3**).\n",
    "- `bounds`: Lista de límites de variables (**Paso 4**).\n",
    "- `x0`: Lista de estimación inicial (**Paso 5**)."
   ]
  },
  {
   "cell_type": "code",
   "execution_count": 36,
   "metadata": {},
   "outputs": [
    {
     "data": {
      "text/plain": [
       "     fun: -0.9997251641677742\n",
       "     jac: array([-0.09257941, -0.004999  ,  0.01111906,  0.00066648])\n",
       " message: 'Optimization terminated successfully'\n",
       "    nfev: 25\n",
       "     nit: 5\n",
       "    njev: 5\n",
       "  status: 0\n",
       " success: True\n",
       "       x: array([  10.79263249,  200.04010069,   89.91089969, 1499.99465467])"
      ]
     },
     "execution_count": 36,
     "metadata": {},
     "output_type": "execute_result"
    }
   ],
   "source": [
    "sol = optimize.minimize(fun=f_objetivo,\n",
    "                        constraints=restricciones,\n",
    "                        bounds=limites,\n",
    "                        x0=estimacion)\n",
    "\n",
    "sol"
   ]
  },
  {
   "attachments": {},
   "cell_type": "markdown",
   "metadata": {},
   "source": [
    "El resultado de la optimización nos indica que:\n",
    "- $Q = 10.79$ ft$^3$/s\n",
    "- $H = 200.04$ ft\n",
    "- $\\omega = 89.91$ rad/s\n",
    "- $T = 1499.99$ lb-ft"
   ]
  }
 ],
 "metadata": {
  "kernelspec": {
   "display_name": "hc",
   "language": "python",
   "name": "python3"
  },
  "language_info": {
   "codemirror_mode": {
    "name": "ipython",
    "version": 3
   },
   "file_extension": ".py",
   "mimetype": "text/x-python",
   "name": "python",
   "nbconvert_exporter": "python",
   "pygments_lexer": "ipython3",
   "version": "3.11.0"
  },
  "toc": {
   "base_numbering": 1,
   "nav_menu": {},
   "number_sections": false,
   "sideBar": true,
   "skip_h1_title": true,
   "title_cell": "Table of Contents",
   "title_sidebar": "Contents",
   "toc_cell": false,
   "toc_position": {},
   "toc_section_display": true,
   "toc_window_display": false
  }
 },
 "nbformat": 4,
 "nbformat_minor": 2
}
