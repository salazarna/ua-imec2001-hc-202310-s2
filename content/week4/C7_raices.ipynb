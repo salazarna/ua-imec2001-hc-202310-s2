{
 "cells": [
  {
   "cell_type": "markdown",
   "metadata": {},
   "source": [
    "# IMEC2001 Herramientas Computacionales \n",
    "## Semana 4: Raíces de Ecuaciones\n",
    "### Clase 7:  Raíces\n",
    "\n",
    "Universidad de los Andes — Abril 26, 2023.\n",
    "\n",
    "---\n",
    "\n",
    "## TABLA DE CONTENIDO\n",
    "\n",
    "### Sección 1: Raíces [→](#section1)\n",
    "- 1.1. Introducción\n",
    "- 1.2. Cargar Librerías\n",
    "- 1.3. Ecuaciones No Lineales\n",
    "- 1.4. Método Visual\n",
    "- 1.5. Aplicación con `numpy.roots``\n",
    "- 1.6. Aplicación con `scipy.optimize.fsolve`\n",
    "- 1.7. Aplicación con `scipy.optimize.root_scalar``\n",
    "- 1.8. Aplicación Simbólica con `sympy`\n",
    "___"
   ]
  },
  {
   "cell_type": "markdown",
   "metadata": {},
   "source": [
    "<a id=\"section1\"></a>\n",
    "# Sección 1: Raíces"
   ]
  },
  {
   "cell_type": "markdown",
   "metadata": {},
   "source": [
    "## 1.1. Introducción\n",
    "\n",
    "Determinar las *raíces* (soluciones) de una ecuación hace referencia a calcular los valores de $x$ que cumplen:\n",
    "\n",
    "$$\n",
    "f(x) = 0\n",
    "$$\n",
    "\n",
    "Notemos que ejercicios de la forma $g(x) = h(x)$ también valen, porque reescritos de otra forma, se tiene lo siguiente:\n",
    "\n",
    "$$\n",
    "g(x) - h (x) = 0\n",
    "$$\n",
    "\n",
    "<img src='./img/roots.png' width='350'/>\n",
    "\n",
    "Figura tomada de [Aprendercurso - Método Secante](https://aprendercurso.com/metodo-de-la-secante-mucho-mas-sencillo.html). <br><br>\n",
    "\n",
    "Dependiendo de la función $f(x)$ con la que estemos trabajando, la determinación de las raíces puede llegar a ser complejo y laborioso si se realiza a mano. Por lo tanto, una solución efectiva es optar por métodos numéricos que computacionalmente son provechosos.\n",
    "\n",
    "Los métodos numéricos más utilizados son:\n",
    "- Newton-Raphson\n",
    "- Bisección\n",
    "- Trisección\n",
    "- Secante\n",
    "- Matriz por vector (más adelante lo veremos)\n",
    "- Gauss-Jordan\n",
    "- Falsa posición\n",
    "\n",
    "Aquí veremos cómo sacarle provecho a los desarrollos realizados con las librerías `numpy`, `scipy` y `sympy`."
   ]
  },
  {
   "cell_type": "markdown",
   "metadata": {},
   "source": [
    "## 1.2. Cargar Librerías\n",
    "\n",
    "Primero, asegurémonos de haber instalado las librerías:\n",
    "\n",
    "> ```python\n",
    "  !pip install numpy\n",
    "  !pip install scipy\n",
    "  !pip install sympy\n",
    "  ```"
   ]
  },
  {
   "cell_type": "code",
   "execution_count": 1,
   "metadata": {},
   "outputs": [],
   "source": [
    "# Datos y Gráficas\n",
    "%matplotlib inline\n",
    "import matplotlib.pyplot as plt\n",
    "import pandas as pd\n",
    "\n",
    "# Raíces\n",
    "import numpy as np\n",
    "from scipy import optimize\n",
    "import sympy"
   ]
  },
  {
   "cell_type": "markdown",
   "metadata": {},
   "source": [
    "## 1.3. Ecuaciones No Lineales\n",
    "\n",
    "\n",
    "Una **ecuación lineal** es aquella que involucra una o más variables de primer grado (es decir, a la primera potencia) y no contiene productos entre las variables. Entonces:\n",
    "\n",
    "\n",
    "<div class=\"alert alert-block alert-success\">\n",
    "    \n",
    "> Una ecuación lineal es aquella que involucra solamente sumas y restas de una variable a la primera potencia.\n",
    "</div>\n",
    "\n",
    "Luego, un ejemplo de una ecuación **no** lineal y su solución, es el caso conocido de la *fórmula cuadrática*:\n",
    "\n",
    "Para la ecuación:\n",
    "$$\n",
    "ax^2 + bx + c = 0\n",
    "$$\n",
    "\n",
    "La solución (*fórmula cuadrática*) es:\n",
    "\n",
    "$$\n",
    "x = \\frac{-b \\pm \\sqrt{b^2 - 4ac}}{2a}\n",
    "$$\n",
    "\n",
    "Utilizando números, tenemos lo siguiente:\n",
    "\n",
    "$$\n",
    "x^2 - 7x + 12 = 0\n",
    "$$\n",
    "\n",
    "Entonces, si: $a$ = 1, $b = -7$ y $c = 12$:\n",
    "\n",
    "$$\n",
    "x = \\frac{-(-7) \\pm \\sqrt{(-7)^2 - (1)(12)}}{2(1)} = \\frac{7 \\pm 1}{2}\n",
    "$$\n",
    "\n",
    "Obtenemos dos soluciones: $x = 4$ y $x = 3$."
   ]
  },
  {
   "cell_type": "code",
   "execution_count": 2,
   "metadata": {},
   "outputs": [
    {
     "data": {
      "text/plain": [
       "[4.0, 3.0]"
      ]
     },
     "execution_count": 2,
     "metadata": {},
     "output_type": "execute_result"
    }
   ],
   "source": [
    "# Fórmula Cuadrática\n",
    "def f_cuadratica(a, b, c):\n",
    "    sol_suma = (-b + np.sqrt(b**2 - 4*a*c)) / (2*a)\n",
    "    sol_resta = (-b - np.sqrt(b**2 - 4*a*c)) / (2*a)\n",
    "\n",
    "    return [sol_suma, sol_resta]\n",
    "\n",
    "# Ejemplo\n",
    "ejm = f_cuadratica(a=1, b=-7, c=12)\n",
    "ejm"
   ]
  },
  {
   "cell_type": "markdown",
   "metadata": {},
   "source": [
    "¿Pero qué pasa si la ecuación es más compleja de trabajar? \n",
    "\n",
    "Por ejemplo:\n",
    "\n",
    "$$\n",
    "e^x - x^3 = 0\n",
    "$$\n",
    "\n",
    "Dado que manualmente es más dispendioso, saquémosle provecho a las librerías `numpy.roots` y `scipy.optimize.fsolve`."
   ]
  },
  {
   "cell_type": "markdown",
   "metadata": {},
   "source": [
    "## 1.4. Método Visual\n",
    "\n",
    "Una de las primeras aproximaciones para conocer las raíces es a través de la inspección visual. Para esto, realizamos una gráfica de la ecuación $f(x)$.\n",
    "\n",
    "Por ejemplo, para el caso:\n",
    "\n",
    "$$\n",
    "f(x) = 5 - x^2\n",
    "$$"
   ]
  },
  {
   "cell_type": "code",
   "execution_count": 3,
   "metadata": {},
   "outputs": [],
   "source": [
    "def formato_grafica(titulo, ejex, ejey, leyenda=False, xlim=[None, None], ylim=[None, None]):\n",
    "    plt.rcParams['axes.axisbelow'] = True\n",
    "\n",
    "    plt.title(titulo, fontsize=15)\n",
    "    plt.ylabel(ejey, fontsize=13)\n",
    "    plt.xlabel(ejex, fontsize=13)\n",
    "\n",
    "    plt.tick_params(direction='out', length=5, width=0.75, grid_alpha=0.3)\n",
    "    plt.xticks(rotation=0)\n",
    "    plt.minorticks_on()\n",
    "    plt.ylim(ylim[0], ylim[1])\n",
    "    plt.xlim(xlim[0], xlim[1])\n",
    "    plt.grid(True)\n",
    "    plt.grid(visible=True, which='major', color='grey', linestyle='-')\n",
    "    plt.grid(visible=True, which='minor', color='lightgrey', linestyle='-', alpha=0.2)\n",
    "    \n",
    "    if leyenda == True:\n",
    "        plt.legend(loc=True)\n",
    "    \n",
    "    plt.tight_layout;"
   ]
  },
  {
   "cell_type": "code",
   "execution_count": 4,
   "metadata": {},
   "outputs": [
    {
     "data": {
      "text/plain": [
       "array([-5.        , -4.79591837, -4.59183673, -4.3877551 , -4.18367347,\n",
       "       -3.97959184, -3.7755102 , -3.57142857, -3.36734694, -3.16326531,\n",
       "       -2.95918367, -2.75510204, -2.55102041, -2.34693878, -2.14285714,\n",
       "       -1.93877551, -1.73469388, -1.53061224, -1.32653061, -1.12244898,\n",
       "       -0.91836735, -0.71428571, -0.51020408, -0.30612245, -0.10204082,\n",
       "        0.10204082,  0.30612245,  0.51020408,  0.71428571,  0.91836735,\n",
       "        1.12244898,  1.32653061,  1.53061224,  1.73469388,  1.93877551,\n",
       "        2.14285714,  2.34693878,  2.55102041,  2.75510204,  2.95918367,\n",
       "        3.16326531,  3.36734694,  3.57142857,  3.7755102 ,  3.97959184,\n",
       "        4.18367347,  4.3877551 ,  4.59183673,  4.79591837,  5.        ])"
      ]
     },
     "execution_count": 4,
     "metadata": {},
     "output_type": "execute_result"
    }
   ],
   "source": [
    "def f(x):\n",
    "    return 5 - x**2\n",
    "\n",
    "x = np.linspace(start=-5, stop=5, num=50)\n",
    "x"
   ]
  },
  {
   "cell_type": "code",
   "execution_count": 5,
   "metadata": {},
   "outputs": [
    {
     "data": {
      "text/plain": [
       "array([-20.        , -18.00083299, -16.0849646 , -14.25239484,\n",
       "       -12.5031237 , -10.83715119,  -9.2544773 ,  -7.75510204,\n",
       "        -6.33902541,  -5.0062474 ,  -3.75676801,  -2.59058726,\n",
       "        -1.50770512,  -0.50812162,   0.40816327,   1.24114952,\n",
       "         1.99083715,   2.65722616,   3.24031653,   3.74010829,\n",
       "         4.15660142,   4.48979592,   4.7396918 ,   4.90628905,\n",
       "         4.98958767,   4.98958767,   4.90628905,   4.7396918 ,\n",
       "         4.48979592,   4.15660142,   3.74010829,   3.24031653,\n",
       "         2.65722616,   1.99083715,   1.24114952,   0.40816327,\n",
       "        -0.50812162,  -1.50770512,  -2.59058726,  -3.75676801,\n",
       "        -5.0062474 ,  -6.33902541,  -7.75510204,  -9.2544773 ,\n",
       "       -10.83715119, -12.5031237 , -14.25239484, -16.0849646 ,\n",
       "       -18.00083299, -20.        ])"
      ]
     },
     "execution_count": 5,
     "metadata": {},
     "output_type": "execute_result"
    }
   ],
   "source": [
    "y = f(x)\n",
    "y"
   ]
  },
  {
   "cell_type": "code",
   "execution_count": 6,
   "metadata": {},
   "outputs": [
    {
     "data": {
      "image/png": "[encoded data removed]",
      "text/plain": [
       "<Figure size 576x360 with 1 Axes>"
      ]
     },
     "metadata": {
      "needs_background": "light"
     },
     "output_type": "display_data"
    }
   ],
   "source": [
    "hor = 8\n",
    "ver = 5\n",
    "fig1 = plt.figure(figsize=(hor, ver))\n",
    "\n",
    "plt.plot(x, y, linestyle='-', color='dodgerblue')\n",
    "plt.axhline(0, color='grey', linewidth=1)\n",
    "\n",
    "formato_grafica(titulo='Datos Conocidos (Medidos)', \n",
    "                ejex='Eje X', \n",
    "                ejey='Eje Y',\n",
    "                leyenda=False)"
   ]
  },
  {
   "cell_type": "markdown",
   "metadata": {},
   "source": [
    "A primera vista, podemos decir que las raíces están en $x_1 = -2.25$ y $x_2 = 2.25$. Verifiquemos visualmente."
   ]
  },
  {
   "cell_type": "code",
   "execution_count": 7,
   "metadata": {},
   "outputs": [
    {
     "data": {
      "image/png": "[encoded data removed]",
      "text/plain": [
       "<Figure size 576x360 with 1 Axes>"
      ]
     },
     "metadata": {
      "needs_background": "light"
     },
     "output_type": "display_data"
    }
   ],
   "source": [
    "hor = 8\n",
    "ver = 5\n",
    "plt.figure(figsize=(hor, ver))\n",
    "\n",
    "plt.plot(x, y, linestyle='-', color='dodgerblue')\n",
    "plt.axhline(0, color='grey', linewidth=1)\n",
    "\n",
    "# Raíces\n",
    "x1 = -2.25\n",
    "y1 = f(x1)\n",
    "\n",
    "x2 = 2.25\n",
    "y2 = f(x2)\n",
    "\n",
    "plt.plot(x1, y1, marker='o', ms='10', color='orange')\n",
    "plt.plot(x2, y2, marker='o', ms='10', color='orange')\n",
    "\n",
    "formato_grafica(titulo='Datos Conocidos (Medidos)', \n",
    "                ejex='Eje X', \n",
    "                ejey='Eje Y',\n",
    "                leyenda=False)"
   ]
  },
  {
   "cell_type": "markdown",
   "metadata": {},
   "source": [
    "<div class=\"alert alert-block alert-warning\">   \n",
    "\n",
    "**SU TURNO**\n",
    "\n",
    "Implemente el método gráfico para el caso:\n",
    "\n",
    "$$\n",
    "5x^5 - x + 3x^2 - x^3 = 0\n",
    "$$\n",
    "</div>"
   ]
  },
  {
   "cell_type": "code",
   "execution_count": 8,
   "metadata": {},
   "outputs": [
    {
     "data": {
      "image/png": "[encoded data removed]",
      "text/plain": [
       "<Figure size 576x360 with 1 Axes>"
      ]
     },
     "metadata": {
      "needs_background": "light"
     },
     "output_type": "display_data"
    }
   ],
   "source": [
    "def f2(x):\n",
    "    return 5*x**5 - x +  3*x**2 - x**3\n",
    "\n",
    "x = np.linspace(start=-1, stop=1, num=50)\n",
    "y = f2(x)\n",
    "\n",
    "hor = 8\n",
    "ver = 5\n",
    "plt.figure(figsize=(hor, ver))\n",
    "\n",
    "plt.plot(x, y, linestyle='-', color='dodgerblue')\n",
    "plt.axhline(0, color='grey', linewidth=1)\n",
    "\n",
    "# Raíces\n",
    "x1 = -1\n",
    "y1 = f2(x1)\n",
    "\n",
    "x2 = 0\n",
    "y2 = f2(x2)\n",
    "\n",
    "x3 = 0.34\n",
    "y3 = f2(x3)\n",
    "\n",
    "plt.plot(x1, y1, marker='o', ms='10', color='orange')\n",
    "plt.plot(x2, y2, marker='o', ms='10', color='orange')\n",
    "plt.plot(x3, y3, marker='o', ms='10', color='orange')\n",
    "\n",
    "formato_grafica(titulo='Datos Conocidos (Medidos)', \n",
    "                ejex='Eje X', \n",
    "                ejey='Eje Y',\n",
    "                leyenda=False)"
   ]
  },
  {
   "cell_type": "markdown",
   "metadata": {},
   "source": [
    "## 1.5. Aplicación con `numpy.roots`\n",
    "\n",
    "La función `numpy.roots` aplica únicamente para polinomios del tipo:\n",
    "\n",
    "$$\n",
    "f(x) = ax^n + bx^{n-1} + \\dots + c\n",
    "$$\n",
    "\n",
    "La sintaxis requiere que $f(x)$ esté organizado partiendo de la mayor potencia hasta la menor potencia. Además, tan solo se necesitan los coeficientes.\n",
    "\n",
    "Por ejemplo, para el primer caso:\n",
    "\n",
    "$$\n",
    "f(x) = 5 - x^2\n",
    "$$\n",
    "\n",
    "Debemos extraer los coeficientes de forma descendente según la potencia, es decir:\n",
    "\n",
    "```python\n",
    "coef = [-1, 0, 5]\n",
    "```\n",
    "\n",
    "Note que para esta librería tan solo necesitamos los coeficientes del polinomio para obtener **todas** las raíces.\n",
    "\n",
    "<div class='alert alert-block alert-info'>   \n",
    "    \n",
    "<i class='fa fa-info-circle' aria-hidden='true'></i>\n",
    "Puede obtener más información en la documentación oficial de la librería `numpy.roots` dando clic [aquí](https://numpy.org/doc/stable/reference/generated/numpy.roots.html).\n",
    "</div>"
   ]
  },
  {
   "cell_type": "code",
   "execution_count": 9,
   "metadata": {},
   "outputs": [
    {
     "data": {
      "text/plain": [
       "[-1, 0, 5]"
      ]
     },
     "execution_count": 9,
     "metadata": {},
     "output_type": "execute_result"
    }
   ],
   "source": [
    "# PASO 1. Extraer coeficientes\n",
    "coef = [-1, 0, 5]\n",
    "coef"
   ]
  },
  {
   "cell_type": "code",
   "execution_count": 10,
   "metadata": {},
   "outputs": [
    {
     "data": {
      "text/plain": [
       "array([ 2.23606798, -2.23606798])"
      ]
     },
     "execution_count": 10,
     "metadata": {},
     "output_type": "execute_result"
    }
   ],
   "source": [
    "# PASO 2. Calcular raíces\n",
    "raices = np.roots(coef)\n",
    "raices"
   ]
  },
  {
   "cell_type": "markdown",
   "metadata": {},
   "source": [
    "Otra forma similar es a partir de la función `numpy.poly1d` que utilizamos en la clase `C5_ajustedatos.ipynb`."
   ]
  },
  {
   "cell_type": "code",
   "execution_count": 11,
   "metadata": {},
   "outputs": [
    {
     "data": {
      "text/plain": [
       "poly1d([-1,  0,  5])"
      ]
     },
     "execution_count": 11,
     "metadata": {},
     "output_type": "execute_result"
    }
   ],
   "source": [
    "# PASO 1. Creamos el polinomio a partir de los coeficientes **organizados**\n",
    "poli = np.poly1d(coef) \n",
    "poli"
   ]
  },
  {
   "cell_type": "code",
   "execution_count": 12,
   "metadata": {},
   "outputs": [
    {
     "data": {
      "text/plain": [
       "array([ 2.23606798, -2.23606798])"
      ]
     },
     "execution_count": 12,
     "metadata": {},
     "output_type": "execute_result"
    }
   ],
   "source": [
    "# PASO 2. Calcular raíces con `np.poly1d(coef).r`\n",
    "raices = poli.r\n",
    "raices"
   ]
  },
  {
   "cell_type": "markdown",
   "metadata": {},
   "source": [
    "<div class=\"alert alert-block alert-warning\">   \n",
    "\n",
    "**SU TURNO**\n",
    "    \n",
    "Implemente la función `numpy.roots` para el caso:\n",
    "\n",
    "$$\n",
    "5x^5 - x + 3x^2 - x^3 = 0\n",
    "$$\n",
    "</div>"
   ]
  },
  {
   "cell_type": "code",
   "execution_count": 13,
   "metadata": {},
   "outputs": [
    {
     "data": {
      "text/plain": [
       "array([-1.        +0.j       ,  0.3254011 +0.6832682j,\n",
       "        0.3254011 -0.6832682j,  0.34919779+0.j       ,\n",
       "        0.        +0.j       ])"
      ]
     },
     "execution_count": 13,
     "metadata": {},
     "output_type": "execute_result"
    }
   ],
   "source": [
    "# PASO 1. Extraer coeficientes\n",
    "coef = [5, 0, -1, 3, -1, 0]\n",
    "\n",
    "# PASO 2. Calcular raíces\n",
    "raices = np.roots(coef)\n",
    "raices"
   ]
  },
  {
   "cell_type": "markdown",
   "metadata": {},
   "source": [
    "## 1.6. Aplicación con `scipy.optimize.fsolve`\n",
    "\n",
    "A diferencia de `numpy.roots`, la función `scipy.optimize.fsolve` aplica para cualquier polinomio.\n",
    "\n",
    "Sin embargo, `scipy.optimize.fsolve` requiere que indiquemos un valor cercano a la raíz para poder estimar este valor. En general, **requiere $n$ estimaciones para $n$ raíces**.\n",
    "\n",
    "<div class='alert alert-block alert-info'>   \n",
    "    \n",
    "<i class='fa fa-info-circle' aria-hidden='true'></i>\n",
    "Puede obtener más información en la documentación oficial de la librería `scipy.optimize.fsolve` dando clic [aquí](https://docs.scipy.org/doc/scipy/reference/generated/scipy.optimize.fsolve.html).\n",
    "</div>"
   ]
  },
  {
   "cell_type": "markdown",
   "metadata": {},
   "source": [
    "Para el primer caso, tenemos:\n",
    "\n",
    "$$\n",
    "f(x) = 5 - x^2\n",
    "$$\n",
    "\n",
    "Y habíamos estimado, por inspección visual, que las raíces estaban cercanas a $-2.25$ y $2.25$."
   ]
  },
  {
   "cell_type": "code",
   "execution_count": 14,
   "metadata": {},
   "outputs": [
    {
     "data": {
      "image/png": "[encoded data removed]",
      "text/plain": [
       "<Figure size 576x360 with 1 Axes>"
      ]
     },
     "execution_count": 14,
     "metadata": {},
     "output_type": "execute_result"
    }
   ],
   "source": [
    "fig1"
   ]
  },
  {
   "cell_type": "code",
   "execution_count": 15,
   "metadata": {},
   "outputs": [],
   "source": [
    "# PASO 1. Definir la función\n",
    "def f(x):\n",
    "    return 5 - x**2"
   ]
  },
  {
   "cell_type": "code",
   "execution_count": 16,
   "metadata": {},
   "outputs": [],
   "source": [
    "# PASO 2. Indicar valor cercano a la raíz\n",
    "x_estimado = -2.5"
   ]
  },
  {
   "cell_type": "code",
   "execution_count": 17,
   "metadata": {},
   "outputs": [
    {
     "data": {
      "text/plain": [
       "array([-2.23606798])"
      ]
     },
     "execution_count": 17,
     "metadata": {},
     "output_type": "execute_result"
    }
   ],
   "source": [
    "# PASO 3. Estimar raíz\n",
    "raices = optimize.fsolve(func=f, # Como entrada requiere la función f (como en E5 P2 de AC3)\n",
    "                         x0=x_estimado)\n",
    "\n",
    "raices"
   ]
  },
  {
   "cell_type": "markdown",
   "metadata": {},
   "source": [
    "Ahora, si queremos estimar las $n$ raíces, debemos indicar $n$ valores cercanos."
   ]
  },
  {
   "cell_type": "code",
   "execution_count": 18,
   "metadata": {},
   "outputs": [],
   "source": [
    "# PASO 2. Indicar valor cercano a la raíz\n",
    "x_estimados = [-2.5, 2.5]"
   ]
  },
  {
   "cell_type": "code",
   "execution_count": 19,
   "metadata": {},
   "outputs": [
    {
     "data": {
      "text/plain": [
       "array([-2.23606798,  2.23606798])"
      ]
     },
     "execution_count": 19,
     "metadata": {},
     "output_type": "execute_result"
    }
   ],
   "source": [
    "# PASO 3. Estimar raíces\n",
    "raices = optimize.fsolve(func=f, # Como entrada requiere la función f (como en E5 P2 de AC3)\n",
    "                         x0=x_estimados)\n",
    "\n",
    "raices"
   ]
  },
  {
   "cell_type": "markdown",
   "metadata": {},
   "source": [
    "<div class=\"alert alert-block alert-warning\">   \n",
    "\n",
    "**SU TURNO**\n",
    "    \n",
    "Implemente la función `scipy.optimize.fsolve` para el caso:\n",
    "\n",
    "$$\n",
    "5x^5 - x + 3x^2 - x^3 = 0\n",
    "$$\n",
    "</div>"
   ]
  },
  {
   "cell_type": "code",
   "execution_count": 20,
   "metadata": {},
   "outputs": [
    {
     "data": {
      "text/plain": [
       "array([-1.        ,  0.        ,  0.34919779])"
      ]
     },
     "execution_count": 20,
     "metadata": {},
     "output_type": "execute_result"
    }
   ],
   "source": [
    "# PASO 1. Definir la función\n",
    "def f(x):\n",
    "    return 5*x**5 - x + 3*x**2 - x**3\n",
    "\n",
    "# PASO 2. Indicar valor cercano a la raíz\n",
    "x_estimados = [-1, 0, 0.5]\n",
    "\n",
    "# PASO 3. Estimar raíces\n",
    "raices = optimize.fsolve(func=f, # Como entrada requiere la función f (como en E5 P2 de AC3)\n",
    "                         x0=x_estimados)\n",
    "\n",
    "raices"
   ]
  },
  {
   "cell_type": "markdown",
   "metadata": {},
   "source": [
    "## 1.7. Aplicación con `scipy.optimize.root_scalar`\n",
    "\n",
    "Otra opción válida es a partir de la función `scipy.optimize.root_scalar` que, a diferencia de `scipy.optimize.fsolve`, debemos **indicar el rango donde se encuentra una única raíz**, en lugar de indicar el valor cercano a la raíz.\n",
    "\n",
    "<div class='alert alert-block alert-info'>   \n",
    "    \n",
    "<i class='fa fa-info-circle' aria-hidden='true'></i>\n",
    "Puede obtener más información en la documentación oficial de la librería `scipy.optimize.root_scalar` dando clic [aquí](https://docs.scipy.org/doc/scipy/reference/generated/scipy.optimize.root_scalar.html).\n",
    "</div>"
   ]
  },
  {
   "cell_type": "markdown",
   "metadata": {},
   "source": [
    "Para el primer caso, tenemos:\n",
    "\n",
    "$$\n",
    "f(x) = 5 - x^2\n",
    "$$\n",
    "\n",
    "Por inspección visual sabemos que las raíces estaban cercanas a $-2.25$ y $2.25$, es decir, en el rango $[-3, 3]$, *grosso modo*."
   ]
  },
  {
   "cell_type": "code",
   "execution_count": 21,
   "metadata": {},
   "outputs": [
    {
     "data": {
      "image/png": "[encoded data removed]",
      "text/plain": [
       "<Figure size 576x360 with 1 Axes>"
      ]
     },
     "execution_count": 21,
     "metadata": {},
     "output_type": "execute_result"
    }
   ],
   "source": [
    "fig1"
   ]
  },
  {
   "cell_type": "code",
   "execution_count": 22,
   "metadata": {},
   "outputs": [],
   "source": [
    "# PASO 1. Definir la función\n",
    "def f(x):\n",
    "    return 5 - x**2"
   ]
  },
  {
   "cell_type": "code",
   "execution_count": 23,
   "metadata": {},
   "outputs": [],
   "source": [
    "# PASO 2. Indicar el rango donde se encuentra la raíz\n",
    "rango = [-3, 0]"
   ]
  },
  {
   "cell_type": "code",
   "execution_count": 24,
   "metadata": {},
   "outputs": [
    {
     "data": {
      "text/plain": [
       "      converged: True\n",
       "           flag: 'converged'\n",
       " function_calls: 43\n",
       "     iterations: 41\n",
       "           root: -2.2360679775006247"
      ]
     },
     "execution_count": 24,
     "metadata": {},
     "output_type": "execute_result"
    }
   ],
   "source": [
    "# PASO 3. Estimar raíces\n",
    "raices = optimize.root_scalar(f,\n",
    "                              bracket=rango,\n",
    "                              method='bisect')\n",
    "\n",
    "raices"
   ]
  },
  {
   "cell_type": "markdown",
   "metadata": {},
   "source": [
    "Notemos que en este caso tenemos el parámetro `method='bisect'`, esto quiere decir que estamos determinando la raíz a partir del **método de bisección**.\n",
    "\n",
    "<div class='alert alert-block alert-info'>   \n",
    "    \n",
    "<i class='fa fa-info-circle' aria-hidden='true'></i>\n",
    "Puede obtener más información del Método de la Bisección dando clic [aquí](https://www.youtube.com/watch?v=MlP_W-obuNg).\n",
    "</div>"
   ]
  },
  {
   "cell_type": "markdown",
   "metadata": {},
   "source": [
    "Ahora bien, para determinar la otra raíz debemos modificar el rango, así:"
   ]
  },
  {
   "cell_type": "code",
   "execution_count": 25,
   "metadata": {},
   "outputs": [
    {
     "data": {
      "text/plain": [
       "      converged: True\n",
       "           flag: 'converged'\n",
       " function_calls: 43\n",
       "     iterations: 41\n",
       "           root: 2.2360679775006247"
      ]
     },
     "execution_count": 25,
     "metadata": {},
     "output_type": "execute_result"
    }
   ],
   "source": [
    "raices = optimize.root_scalar(f,\n",
    "                              bracket=[0, 3],\n",
    "                              method='bisect')\n",
    "\n",
    "raices"
   ]
  },
  {
   "cell_type": "markdown",
   "metadata": {},
   "source": [
    "<div class=\"alert alert-block alert-warning\">   \n",
    "\n",
    "**SU TURNO**\n",
    "    \n",
    "Implemente la función `scipy.optimize.root_scalar` para el caso:\n",
    "\n",
    "$$\n",
    "5x^5 - x + 3x^2 - x^3 = 0\n",
    "$$\n",
    "</div>"
   ]
  },
  {
   "cell_type": "code",
   "execution_count": 26,
   "metadata": {},
   "outputs": [
    {
     "name": "stdout",
     "output_type": "stream",
     "text": [
      "      converged: True\n",
      "           flag: 'converged'\n",
      " function_calls: 2\n",
      "     iterations: 1\n",
      "           root: -1.0 \n",
      "\n",
      "       converged: True\n",
      "           flag: 'converged'\n",
      " function_calls: 41\n",
      "     iterations: 39\n",
      "           root: 3.637793769920942e-13 \n",
      "\n",
      "       converged: True\n",
      "           flag: 'converged'\n",
      " function_calls: 40\n",
      "     iterations: 38\n",
      "           root: 0.3491977932400915\n"
     ]
    }
   ],
   "source": [
    "# PASO 1. Definir la función\n",
    "def f(x):\n",
    "    return 5*x**5 - x + 3*x**2 - x**3\n",
    "\n",
    "# PASO 2. Indicar valor cercano a la raíz\n",
    "rango1 = [-1, -0.75]\n",
    "rango2 = [-0.5, 0.1]\n",
    "rango3 = [0.2, 0.5]\n",
    "\n",
    "# PASO 3. Estimar raíces\n",
    "raiz1 = optimize.root_scalar(f,\n",
    "                             bracket=rango1,\n",
    "                             method='bisect')\n",
    "\n",
    "raiz2 = optimize.root_scalar(f,\n",
    "                             bracket=rango2,\n",
    "                             method='bisect')\n",
    "\n",
    "raiz3 = optimize.root_scalar(f,\n",
    "                             bracket=rango3,\n",
    "                             method='bisect')\n",
    "\n",
    "print(raiz1, '\\n\\n', raiz2, '\\n\\n', raiz3)"
   ]
  },
  {
   "cell_type": "markdown",
   "metadata": {},
   "source": [
    "## 1.8. Aplicación Simbólica con `sympy`\n",
    "\n",
    "La forma en como podemos expresar las ecuaciones en código de forma 'similar a cuando la escribimos en una hoja' es de forma **simbólica**.\n",
    "\n",
    "La librería de Python que permite definir variables en forma simbólica es `sympy`. Esto se realiza mediante la función `sympy.Symbol`.\n",
    "\n",
    "A partir de las variables simbólicas y, empleando la función `sympy.solvers.solveset.nonlinsolve`, podemos encontrar las raíces de una ecuación **no** lineal (para poder calcular las raíces de una función lineal, debemos utilizar la función `sympy.solvers.solveset.linsolve`).\n",
    "\n",
    "El flujo de trabajo es:\n",
    "1. Definiremos la variable simbólica $x$.\n",
    "2. Definiremos la ecuación de interés.\n",
    "3. Encontraremos las raíces mediante la función `sympy.solvers.solveset.nonlinsolve`.\n",
    "\n",
    "La ventaja que tenemos sobre las demás funciones es que solo basta con escribir la función en forma simbólica para poder estimar las raíces.\n",
    "\n",
    "<div class='alert alert-block alert-info'>   \n",
    "    \n",
    "<i class='fa fa-info-circle' aria-hidden='true'></i>\n",
    "Puede obtener más información en la documentación oficial de la librería `sympy.solvers.solveset.nonlinsolve` dando clic [aquí](https://docs.sympy.org/latest/modules/solvers/solveset.html#nonlinsolve).\n",
    "</div>"
   ]
  },
  {
   "cell_type": "markdown",
   "metadata": {},
   "source": [
    "Para el primer caso, tenemos:\n",
    "\n",
    "$$\n",
    "f(x) = 5 - x^2\n",
    "$$"
   ]
  },
  {
   "cell_type": "code",
   "execution_count": 27,
   "metadata": {},
   "outputs": [
    {
     "data": {
      "text/latex": [
       "$\\displaystyle x$"
      ],
      "text/plain": [
       "x"
      ]
     },
     "execution_count": 27,
     "metadata": {},
     "output_type": "execute_result"
    }
   ],
   "source": [
    "# PASO 1. Definir la variable simbólica\n",
    "x = sympy.Symbol('x')\n",
    "x"
   ]
  },
  {
   "cell_type": "code",
   "execution_count": 28,
   "metadata": {},
   "outputs": [
    {
     "data": {
      "text/latex": [
       "$\\displaystyle 5 - x^{2}$"
      ],
      "text/plain": [
       "5 - x**2"
      ]
     },
     "execution_count": 28,
     "metadata": {},
     "output_type": "execute_result"
    }
   ],
   "source": [
    "# PASO 2. Definir la función simbólica\n",
    "f = 5 - x**2\n",
    "f"
   ]
  },
  {
   "cell_type": "code",
   "execution_count": 29,
   "metadata": {},
   "outputs": [
    {
     "data": {
      "text/latex": [
       "$\\displaystyle \\left\\{\\left( - \\sqrt{5},\\right), \\left( \\sqrt{5},\\right)\\right\\}$"
      ],
      "text/plain": [
       "{(-sqrt(5),), (sqrt(5),)}"
      ]
     },
     "execution_count": 29,
     "metadata": {},
     "output_type": "execute_result"
    }
   ],
   "source": [
    "# PASO 3. Estimar raíces\n",
    "raices = sympy.nonlinsolve([f], [x]) # Los parámetros son `([ecuaciones], [símbolos])`; cada uno es una lista\n",
    "raices"
   ]
  },
  {
   "cell_type": "code",
   "execution_count": 30,
   "metadata": {},
   "outputs": [
    {
     "name": "stdout",
     "output_type": "stream",
     "text": [
      "-2.23606797749979\n",
      "2.23606797749979\n"
     ]
    }
   ],
   "source": [
    "print(-np.sqrt(5))\n",
    "print(np.sqrt(5))"
   ]
  },
  {
   "cell_type": "markdown",
   "metadata": {},
   "source": [
    "<div class=\"alert alert-block alert-warning\">   \n",
    "\n",
    "**SU TURNO**\n",
    "\n",
    "Implemente la función `sympy.nonlinsolve` para el caso:\n",
    "\n",
    "$$\n",
    "5x^5 - x + 3x^2 - x^3 = 0\n",
    "$$\n",
    "</div>"
   ]
  },
  {
   "cell_type": "code",
   "execution_count": 31,
   "metadata": {},
   "outputs": [
    {
     "data": {
      "text/latex": [
       "$\\displaystyle \\left\\{\\left( -1,\\right), \\left( 0,\\right), \\left( - \\frac{7}{45 \\sqrt[3]{\\frac{1}{270} + \\frac{\\sqrt{85}}{150}}} + \\frac{1}{3} + \\sqrt[3]{\\frac{1}{270} + \\frac{\\sqrt{85}}{150}},\\right), \\left( - \\frac{\\sqrt[3]{\\frac{1}{270} + \\frac{\\sqrt{85}}{150}}}{2} + \\frac{7}{90 \\sqrt[3]{\\frac{1}{270} + \\frac{\\sqrt{85}}{150}}} + \\frac{1}{3} + i \\left(\\frac{7 \\sqrt{3}}{90 \\sqrt[3]{\\frac{1}{270} + \\frac{\\sqrt{85}}{150}}} + \\frac{\\sqrt{3} \\sqrt[3]{\\frac{1}{270} + \\frac{\\sqrt{85}}{150}}}{2}\\right),\\right), \\left( - \\frac{\\sqrt[3]{\\frac{1}{270} + \\frac{\\sqrt{85}}{150}}}{2} + \\frac{7}{90 \\sqrt[3]{\\frac{1}{270} + \\frac{\\sqrt{85}}{150}}} + \\frac{1}{3} + i \\left(- \\frac{\\sqrt{3} \\sqrt[3]{\\frac{1}{270} + \\frac{\\sqrt{85}}{150}}}{2} - \\frac{7 \\sqrt{3}}{90 \\sqrt[3]{\\frac{1}{270} + \\frac{\\sqrt{85}}{150}}}\\right),\\right)\\right\\}$"
      ],
      "text/plain": [
       "{(-1,), (0,), (-7/(45*(1/270 + sqrt(85)/150)**(1/3)) + 1/3 + (1/270 + sqrt(85)/150)**(1/3),), (-(1/270 + sqrt(85)/150)**(1/3)/2 + 7/(90*(1/270 + sqrt(85)/150)**(1/3)) + 1/3 + I*(7*sqrt(3)/(90*(1/270 + sqrt(85)/150)**(1/3)) + sqrt(3)*(1/270 + sqrt(85)/150)**(1/3)/2),), (-(1/270 + sqrt(85)/150)**(1/3)/2 + 7/(90*(1/270 + sqrt(85)/150)**(1/3)) + 1/3 + I*(-sqrt(3)*(1/270 + sqrt(85)/150)**(1/3)/2 - 7*sqrt(3)/(90*(1/270 + sqrt(85)/150)**(1/3))),)}"
      ]
     },
     "execution_count": 31,
     "metadata": {},
     "output_type": "execute_result"
    }
   ],
   "source": [
    "# PASO 1. Definir la variable simbólica\n",
    "x = sympy.Symbol('x')\n",
    "\n",
    "# PASO 2. Definir la función simbólica\n",
    "f = 5*x**5 - x + 3*x**2 - x**3\n",
    "\n",
    "# PASO 3. Estimar raíces\n",
    "raices = sympy.nonlinsolve([f], [x]) # Los parámetros son `([ecuaciones], [símbolos])`; cada uno es una lista\n",
    "raices"
   ]
  }
 ],
 "metadata": {
  "kernelspec": {
   "display_name": "hc",
   "language": "python",
   "name": "python3"
  },
  "language_info": {
   "codemirror_mode": {
    "name": "ipython",
    "version": 3
   },
   "file_extension": ".py",
   "mimetype": "text/x-python",
   "name": "python",
   "nbconvert_exporter": "python",
   "pygments_lexer": "ipython3",
   "version": "3.11.0"
  },
  "toc": {
   "base_numbering": 1,
   "nav_menu": {},
   "number_sections": false,
   "sideBar": true,
   "skip_h1_title": true,
   "title_cell": "Table of Contents",
   "title_sidebar": "Contents",
   "toc_cell": false,
   "toc_position": {},
   "toc_section_display": true,
   "toc_window_display": false
  }
 },
 "nbformat": 4,
 "nbformat_minor": 2
}
