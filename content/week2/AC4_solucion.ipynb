{
 "cells": [
  {
   "attachments": {},
   "cell_type": "markdown",
   "metadata": {},
   "source": [
    "# IMEC2001 Herramientas Computacionales \n",
    "## Actividad Clase 4: Visualizaciones\n",
    "### Fecha Límite Entrega (Bloque Neón): <font color=\"#FF5733\">17.20h de Abril 14, 2023</font>\n",
    "\n",
    "Universidad de los Andes — Abril 14, 2023.\n",
    "\n",
    "___\n",
    "### Tener en Cuenta\n",
    "La entrega de la **Actividad Clase 4** se puede realizar de dos maneras:\n",
    "1. Enviar vía Bloque Neón el archivo en Jupyter Notebook (extensión '.ipynb').\n",
    "2. Enviar vía Bloque Neón el archivo PDF del Jupyter Notebook.\n",
    "\n",
    "**Nota:** <font color=\"#FF5733\">El nombre del archivo debe ser: `AC4_NombreApellido.ipynb`.</font>\n",
    "\n",
    "---\n",
    "\n",
    "## TABLA DE CONTENIDO\n",
    "\n",
    "### Sección 1: Ejercicios [→](#section1)\n",
    "1. Librerías [→](#exercise1)\n",
    "2. Gráficas [→](#exercise2)\n",
    "3. (BONO) Comportamiento Estadístico Mensual [→](#exercise3)\n",
    "___"
   ]
  },
  {
   "cell_type": "markdown",
   "metadata": {},
   "source": [
    "<a id=\"section1\"></a>\n",
    "# Sección 1: Ejercicios"
   ]
  },
  {
   "cell_type": "markdown",
   "metadata": {},
   "source": [
    "<a id=\"exercise1\"></a>\n",
    "## Ejercicio 1: Librerías\n",
    "\n",
    "### Punto 1\n",
    "En la carpeta `data` dentro de `week2` se dispone el archivo `solar_production.csv` que contiene datos de producción de la planta solar fotovoltaica ubicada en el edificio Santo Domingo de la Universidad de los Andes.\n",
    "\n",
    "<div class=\"alert alert-block alert-warning\">\n",
    "    \n",
    "Utilizando la librería `pandas`, escriba un algoritmo que permita:\n",
    "1. Indicar la cantidad de filas y columnas que tiene el conjunto de datos.\n",
    "2. Obtener una descripción estadística de las columnas de datos. Para esto, explore la función `describe()`.\n",
    "3. Indicar los años y meses en que se registraron los datos, guardarlos en una variable diferente cada uno (i.e., una variable para los años y otra para los meses) y no deben quedar valores duplicados ([aquí](https://pandas.pydata.org/docs/reference/api/pandas.DataFrame.drop_duplicates.html)).\n",
    "\n",
    "</div>"
   ]
  },
  {
   "cell_type": "code",
   "execution_count": 1,
   "metadata": {},
   "outputs": [],
   "source": [
    "import pandas as pd\n",
    "route = \"./data/solar_production.csv\"\n",
    "\n",
    "file = pd.read_csv(filepath_or_buffer=route,\n",
    "                   delimiter=';')"
   ]
  },
  {
   "cell_type": "code",
   "execution_count": 2,
   "metadata": {},
   "outputs": [
    {
     "name": "stdout",
     "output_type": "stream",
     "text": [
      "<class 'pandas.core.frame.DataFrame'>\n",
      "RangeIndex: 105406 entries, 0 to 105405\n",
      "Data columns (total 14 columns):\n",
      " #   Column                             Non-Null Count   Dtype  \n",
      "---  ------                             --------------   -----  \n",
      " 0   Datetime                           105406 non-null  object \n",
      " 1   Zenith (deg)                       105406 non-null  float64\n",
      " 2   Elevation (deg)                    105406 non-null  float64\n",
      " 3   Azimuth (deg)                      105406 non-null  float64\n",
      " 4   Airmass Relative (ad)              53005 non-null   float64\n",
      " 5   Airmass Absolute (ad)              53005 non-null   float64\n",
      " 6   Extraterrestrial Radiation (W/m2)  105406 non-null  float64\n",
      " 7   POA (W/m2)                         105258 non-null  float64\n",
      " 8   Tmod (C)                           105258 non-null  float64\n",
      " 9   Pdc (W)                            105258 non-null  float64\n",
      " 10  Pac (W)                            105406 non-null  float64\n",
      " 11  Daily Energy (Wh)                  367 non-null     float64\n",
      " 12  Weekly Energy (Wh)                 52 non-null      float64\n",
      " 13  Monthly Energy (Wh)                12 non-null      float64\n",
      "dtypes: float64(13), object(1)\n",
      "memory usage: 11.3+ MB\n",
      "105406 14\n"
     ]
    }
   ],
   "source": [
    "# Ítem 1\n",
    "file.info()\n",
    "filas = len(file)\n",
    "columnas = len(file.columns)\n",
    "\n",
    "print(filas, columnas)"
   ]
  },
  {
   "cell_type": "code",
   "execution_count": 3,
   "metadata": {},
   "outputs": [
    {
     "data": {
      "text/html": [
       "<div>\n",
       "<style scoped>\n",
       "    .dataframe tbody tr th:only-of-type {\n",
       "        vertical-align: middle;\n",
       "    }\n",
       "\n",
       "    .dataframe tbody tr th {\n",
       "        vertical-align: top;\n",
       "    }\n",
       "\n",
       "    .dataframe thead th {\n",
       "        text-align: right;\n",
       "    }\n",
       "</style>\n",
       "<table border=\"1\" class=\"dataframe\">\n",
       "  <thead>\n",
       "    <tr style=\"text-align: right;\">\n",
       "      <th></th>\n",
       "      <th>Zenith (deg)</th>\n",
       "      <th>Elevation (deg)</th>\n",
       "      <th>Azimuth (deg)</th>\n",
       "      <th>Airmass Relative (ad)</th>\n",
       "      <th>Airmass Absolute (ad)</th>\n",
       "      <th>Extraterrestrial Radiation (W/m2)</th>\n",
       "      <th>POA (W/m2)</th>\n",
       "      <th>Tmod (C)</th>\n",
       "      <th>Pdc (W)</th>\n",
       "      <th>Pac (W)</th>\n",
       "      <th>Daily Energy (Wh)</th>\n",
       "      <th>Weekly Energy (Wh)</th>\n",
       "      <th>Monthly Energy (Wh)</th>\n",
       "    </tr>\n",
       "  </thead>\n",
       "  <tbody>\n",
       "    <tr>\n",
       "      <th>count</th>\n",
       "      <td>105406.000000</td>\n",
       "      <td>105406.000000</td>\n",
       "      <td>105406.000000</td>\n",
       "      <td>53005.000000</td>\n",
       "      <td>53005.000000</td>\n",
       "      <td>105406.000000</td>\n",
       "      <td>105258.000000</td>\n",
       "      <td>105258.000000</td>\n",
       "      <td>105258.000000</td>\n",
       "      <td>105406.000000</td>\n",
       "      <td>367.000000</td>\n",
       "      <td>5.200000e+01</td>\n",
       "      <td>1.200000e+01</td>\n",
       "    </tr>\n",
       "    <tr>\n",
       "      <th>mean</th>\n",
       "      <td>89.958175</td>\n",
       "      <td>0.041825</td>\n",
       "      <td>180.010195</td>\n",
       "      <td>3.235606</td>\n",
       "      <td>2.345593</td>\n",
       "      <td>1361.284829</td>\n",
       "      <td>165.477955</td>\n",
       "      <td>35.778582</td>\n",
       "      <td>8373.424878</td>\n",
       "      <td>8131.012223</td>\n",
       "      <td>195175.503433</td>\n",
       "      <td>1.366507e+06</td>\n",
       "      <td>5.951788e+06</td>\n",
       "    </tr>\n",
       "    <tr>\n",
       "      <th>std</th>\n",
       "      <td>47.384955</td>\n",
       "      <td>47.384955</td>\n",
       "      <td>96.915780</td>\n",
       "      <td>4.951124</td>\n",
       "      <td>3.589171</td>\n",
       "      <td>32.248608</td>\n",
       "      <td>266.974912</td>\n",
       "      <td>16.454666</td>\n",
       "      <td>13014.910248</td>\n",
       "      <td>12731.670348</td>\n",
       "      <td>65821.008745</td>\n",
       "      <td>2.857377e+05</td>\n",
       "      <td>8.715575e+05</td>\n",
       "    </tr>\n",
       "    <tr>\n",
       "      <th>min</th>\n",
       "      <td>0.100000</td>\n",
       "      <td>-89.910000</td>\n",
       "      <td>0.000000</td>\n",
       "      <td>1.000000</td>\n",
       "      <td>0.720000</td>\n",
       "      <td>1316.670000</td>\n",
       "      <td>0.000000</td>\n",
       "      <td>8.150000</td>\n",
       "      <td>0.000000</td>\n",
       "      <td>0.000000</td>\n",
       "      <td>60781.780000</td>\n",
       "      <td>7.744012e+05</td>\n",
       "      <td>4.420267e+06</td>\n",
       "    </tr>\n",
       "    <tr>\n",
       "      <th>25%</th>\n",
       "      <td>47.542500</td>\n",
       "      <td>-42.380000</td>\n",
       "      <td>89.000000</td>\n",
       "      <td>1.140000</td>\n",
       "      <td>0.830000</td>\n",
       "      <td>1328.970000</td>\n",
       "      <td>0.000000</td>\n",
       "      <td>23.990000</td>\n",
       "      <td>0.000000</td>\n",
       "      <td>0.000000</td>\n",
       "      <td>145493.845000</td>\n",
       "      <td>1.183230e+06</td>\n",
       "      <td>5.578678e+06</td>\n",
       "    </tr>\n",
       "    <tr>\n",
       "      <th>50%</th>\n",
       "      <td>90.010000</td>\n",
       "      <td>-0.010000</td>\n",
       "      <td>179.995000</td>\n",
       "      <td>1.490000</td>\n",
       "      <td>1.080000</td>\n",
       "      <td>1360.430000</td>\n",
       "      <td>0.710000</td>\n",
       "      <td>28.050000</td>\n",
       "      <td>31.165000</td>\n",
       "      <td>0.000000</td>\n",
       "      <td>185988.210000</td>\n",
       "      <td>1.300452e+06</td>\n",
       "      <td>6.056150e+06</td>\n",
       "    </tr>\n",
       "    <tr>\n",
       "      <th>75%</th>\n",
       "      <td>132.380000</td>\n",
       "      <td>42.457500</td>\n",
       "      <td>271.020000</td>\n",
       "      <td>2.760000</td>\n",
       "      <td>2.000000</td>\n",
       "      <td>1393.490000</td>\n",
       "      <td>250.635000</td>\n",
       "      <td>45.840000</td>\n",
       "      <td>13413.970000</td>\n",
       "      <td>13007.420000</td>\n",
       "      <td>232890.295000</td>\n",
       "      <td>1.543478e+06</td>\n",
       "      <td>6.378667e+06</td>\n",
       "    </tr>\n",
       "    <tr>\n",
       "      <th>max</th>\n",
       "      <td>179.910000</td>\n",
       "      <td>89.900000</td>\n",
       "      <td>359.940000</td>\n",
       "      <td>37.920000</td>\n",
       "      <td>27.490000</td>\n",
       "      <td>1407.780000</td>\n",
       "      <td>1429.700000</td>\n",
       "      <td>91.640000</td>\n",
       "      <td>62276.030000</td>\n",
       "      <td>60841.010000</td>\n",
       "      <td>372714.970000</td>\n",
       "      <td>2.181836e+06</td>\n",
       "      <td>7.521495e+06</td>\n",
       "    </tr>\n",
       "  </tbody>\n",
       "</table>\n",
       "</div>"
      ],
      "text/plain": [
       "        Zenith (deg)  Elevation (deg)  Azimuth (deg)  Airmass Relative (ad)  \\\n",
       "count  105406.000000    105406.000000  105406.000000           53005.000000   \n",
       "mean       89.958175         0.041825     180.010195               3.235606   \n",
       "std        47.384955        47.384955      96.915780               4.951124   \n",
       "min         0.100000       -89.910000       0.000000               1.000000   \n",
       "25%        47.542500       -42.380000      89.000000               1.140000   \n",
       "50%        90.010000        -0.010000     179.995000               1.490000   \n",
       "75%       132.380000        42.457500     271.020000               2.760000   \n",
       "max       179.910000        89.900000     359.940000              37.920000   \n",
       "\n",
       "       Airmass Absolute (ad)  Extraterrestrial Radiation (W/m2)  \\\n",
       "count           53005.000000                      105406.000000   \n",
       "mean                2.345593                        1361.284829   \n",
       "std                 3.589171                          32.248608   \n",
       "min                 0.720000                        1316.670000   \n",
       "25%                 0.830000                        1328.970000   \n",
       "50%                 1.080000                        1360.430000   \n",
       "75%                 2.000000                        1393.490000   \n",
       "max                27.490000                        1407.780000   \n",
       "\n",
       "          POA (W/m2)       Tmod (C)        Pdc (W)        Pac (W)  \\\n",
       "count  105258.000000  105258.000000  105258.000000  105406.000000   \n",
       "mean      165.477955      35.778582    8373.424878    8131.012223   \n",
       "std       266.974912      16.454666   13014.910248   12731.670348   \n",
       "min         0.000000       8.150000       0.000000       0.000000   \n",
       "25%         0.000000      23.990000       0.000000       0.000000   \n",
       "50%         0.710000      28.050000      31.165000       0.000000   \n",
       "75%       250.635000      45.840000   13413.970000   13007.420000   \n",
       "max      1429.700000      91.640000   62276.030000   60841.010000   \n",
       "\n",
       "       Daily Energy (Wh)  Weekly Energy (Wh)  Monthly Energy (Wh)  \n",
       "count         367.000000        5.200000e+01         1.200000e+01  \n",
       "mean       195175.503433        1.366507e+06         5.951788e+06  \n",
       "std         65821.008745        2.857377e+05         8.715575e+05  \n",
       "min         60781.780000        7.744012e+05         4.420267e+06  \n",
       "25%        145493.845000        1.183230e+06         5.578678e+06  \n",
       "50%        185988.210000        1.300452e+06         6.056150e+06  \n",
       "75%        232890.295000        1.543478e+06         6.378667e+06  \n",
       "max        372714.970000        2.181836e+06         7.521495e+06  "
      ]
     },
     "execution_count": 3,
     "metadata": {},
     "output_type": "execute_result"
    }
   ],
   "source": [
    "# Ítem 2\n",
    "file.describe()"
   ]
  },
  {
   "cell_type": "code",
   "execution_count": 4,
   "metadata": {},
   "outputs": [
    {
     "name": "stdout",
     "output_type": "stream",
     "text": [
      "[1, 2, 3, 4, 5, 6, 7, 8, 9, 10, 11, 12] [2020, 2021]\n"
     ]
    }
   ],
   "source": [
    "# Ítem 3\n",
    "meses = pd.DatetimeIndex(file['Datetime']).month.drop_duplicates().tolist()\n",
    "anios = pd.DatetimeIndex(file['Datetime']).year.drop_duplicates().tolist()\n",
    "\n",
    "print(meses, anios) "
   ]
  },
  {
   "cell_type": "markdown",
   "metadata": {},
   "source": [
    "### Punto 2\n",
    "\n",
    "<div class=\"alert alert-block alert-warning\">\n",
    "    \n",
    "Utilizando la librería `numpy`, escriba un algoritmo que:\n",
    "1. Cree una función que permita realizar una lista de ceros de longitud `n`(este debe ser el parámetor de entrada). \n",
    "2. Cree una función que haga una lista con un rango desde `num1` hasta `num2` y que tenga 5 elementos ([aquí](https://numpy.org/doc/stable/reference/generated/numpy.linspace.html)); para los anteriores la entrada es con `input()`.\n",
    "\n",
    "</div>"
   ]
  },
  {
   "cell_type": "code",
   "execution_count": 5,
   "metadata": {},
   "outputs": [
    {
     "data": {
      "text/plain": [
       "array([0., 0., 0., 0., 0.])"
      ]
     },
     "execution_count": 5,
     "metadata": {},
     "output_type": "execute_result"
    }
   ],
   "source": [
    "# Ítem 1\n",
    "import numpy as np\n",
    "\n",
    "def funZeros(n: int):\n",
    "    return np.zeros(n)\n",
    "\n",
    "funZeros(5)"
   ]
  },
  {
   "cell_type": "code",
   "execution_count": 6,
   "metadata": {},
   "outputs": [
    {
     "data": {
      "text/plain": [
       "array([ 0.   ,  7.625, 15.25 , 22.875, 30.5  ])"
      ]
     },
     "execution_count": 6,
     "metadata": {},
     "output_type": "execute_result"
    }
   ],
   "source": [
    "# Ítem 2\n",
    "def funListaValores(numIn: float, numSup: float, elem=5):\n",
    "    return np.linspace(numIn, numSup, elem)\n",
    "\n",
    "funListaValores(numIn=0, numSup=30.5)"
   ]
  },
  {
   "cell_type": "markdown",
   "metadata": {},
   "source": [
    "<a id='exercise2'></a>\n",
    "### Ejercicio 2: Gráficas\n",
    "\n",
    "En la carpeta `data` dentro de `week2` se dispone el archivo `solar_production.csv` que contiene datos de producción de la planta solar fotovoltaica ubicada en el edificio Santo Domingo de la Universidad de los Andes.\n",
    "\n",
    "<div class=\"alert alert-block alert-warning\">\n",
    "    \n",
    "Utilizando la librería `pandas` y `matplotlib.pyplot`, escriba un algoritmo que permita realizar tres gráficas diferentes de su interés.\n",
    "\n",
    "</div>"
   ]
  },
  {
   "cell_type": "code",
   "execution_count": 7,
   "metadata": {},
   "outputs": [],
   "source": [
    "import matplotlib.pyplot as plt\n",
    "\n",
    "datosFechas = pd.to_datetime(file['Datetime'])\n",
    "datosZenith = file['Zenith (deg)']\n",
    "datosElevation = file['Elevation (deg)']\n",
    "datosAzimuth = file['Azimuth (deg)']"
   ]
  },
  {
   "cell_type": "code",
   "execution_count": 8,
   "metadata": {},
   "outputs": [
    {
     "name": "stderr",
     "output_type": "stream",
     "text": [
      "/opt/anaconda3/lib/python3.7/site-packages/matplotlib/cbook/__init__.py:1402: FutureWarning: Support for multi-dimensional indexing (e.g. `obj[:, None]`) is deprecated and will be removed in a future version.  Convert to a numpy array before indexing instead.\n",
      "  x[:, None]\n",
      "/opt/anaconda3/lib/python3.7/site-packages/matplotlib/cbook/__init__.py:1402: FutureWarning: Support for multi-dimensional indexing (e.g. `obj[:, None]`) is deprecated and will be removed in a future version.  Convert to a numpy array before indexing instead.\n",
      "  x[:, None]\n",
      "/opt/anaconda3/lib/python3.7/site-packages/matplotlib/axes/_base.py:276: FutureWarning: Support for multi-dimensional indexing (e.g. `obj[:, None]`) is deprecated and will be removed in a future version.  Convert to a numpy array before indexing instead.\n",
      "  x = x[:, np.newaxis]\n",
      "/opt/anaconda3/lib/python3.7/site-packages/matplotlib/axes/_base.py:278: FutureWarning: Support for multi-dimensional indexing (e.g. `obj[:, None]`) is deprecated and will be removed in a future version.  Convert to a numpy array before indexing instead.\n",
      "  y = y[:, np.newaxis]\n"
     ]
    },
    {
     "data": {
      "image/png": "[encoded data removed]",
      "text/plain": [
       "<Figure size 432x288 with 1 Axes>"
      ]
     },
     "metadata": {
      "needs_background": "light"
     },
     "output_type": "display_data"
    }
   ],
   "source": [
    "# Gráfica 1\n",
    "plt.plot(datosFechas, datosZenith)\n",
    "\n",
    "# Carpinteria\n",
    "plt.title(\"Zenith vs Fecha\")\n",
    "plt.xlabel(\"Fecha [Años]\")\n",
    "plt.ylabel(\"Zenith [deg]\")\n",
    "plt.grid(visible=True, which='major', color='#666666', linestyle='-')\n",
    "plt.minorticks_on()\n",
    "plt.grid(visible=True, which='minor', color='#999999', linestyle='-', alpha=0.2)\n",
    "\n",
    "# Mostrar la gráfica\n",
    "plt.show()"
   ]
  },
  {
   "cell_type": "code",
   "execution_count": 9,
   "metadata": {},
   "outputs": [
    {
     "name": "stderr",
     "output_type": "stream",
     "text": [
      "/opt/anaconda3/lib/python3.7/site-packages/matplotlib/cbook/__init__.py:1402: FutureWarning: Support for multi-dimensional indexing (e.g. `obj[:, None]`) is deprecated and will be removed in a future version.  Convert to a numpy array before indexing instead.\n",
      "  x[:, None]\n",
      "/opt/anaconda3/lib/python3.7/site-packages/matplotlib/cbook/__init__.py:1402: FutureWarning: Support for multi-dimensional indexing (e.g. `obj[:, None]`) is deprecated and will be removed in a future version.  Convert to a numpy array before indexing instead.\n",
      "  x[:, None]\n",
      "/opt/anaconda3/lib/python3.7/site-packages/matplotlib/axes/_base.py:276: FutureWarning: Support for multi-dimensional indexing (e.g. `obj[:, None]`) is deprecated and will be removed in a future version.  Convert to a numpy array before indexing instead.\n",
      "  x = x[:, np.newaxis]\n",
      "/opt/anaconda3/lib/python3.7/site-packages/matplotlib/axes/_base.py:278: FutureWarning: Support for multi-dimensional indexing (e.g. `obj[:, None]`) is deprecated and will be removed in a future version.  Convert to a numpy array before indexing instead.\n",
      "  y = y[:, np.newaxis]\n"
     ]
    },
    {
     "data": {
      "image/png": "[encoded data removed]",
      "text/plain": [
       "<Figure size 432x288 with 1 Axes>"
      ]
     },
     "metadata": {
      "needs_background": "light"
     },
     "output_type": "display_data"
    }
   ],
   "source": [
    "# Gráfica 2\n",
    "plt.plot(datosFechas, datosElevation)\n",
    "\n",
    "# Carpinteria\n",
    "plt.title(\"Elevation vs Fecha\")\n",
    "plt.xlabel(\"Fecha [Años]\")\n",
    "plt.ylabel(\"Elevation [deg]\")\n",
    "plt.grid(visible=True, which='major', color='#666666', linestyle='-')\n",
    "plt.minorticks_on()\n",
    "plt.grid(visible=True, which='minor', color='#999999', linestyle='-', alpha=0.2)\n",
    "\n",
    "# Mostrar la gráfica\n",
    "plt.show()"
   ]
  },
  {
   "cell_type": "code",
   "execution_count": 10,
   "metadata": {},
   "outputs": [
    {
     "name": "stderr",
     "output_type": "stream",
     "text": [
      "/opt/anaconda3/lib/python3.7/site-packages/matplotlib/cbook/__init__.py:1402: FutureWarning: Support for multi-dimensional indexing (e.g. `obj[:, None]`) is deprecated and will be removed in a future version.  Convert to a numpy array before indexing instead.\n",
      "  x[:, None]\n",
      "/opt/anaconda3/lib/python3.7/site-packages/matplotlib/cbook/__init__.py:1402: FutureWarning: Support for multi-dimensional indexing (e.g. `obj[:, None]`) is deprecated and will be removed in a future version.  Convert to a numpy array before indexing instead.\n",
      "  x[:, None]\n",
      "/opt/anaconda3/lib/python3.7/site-packages/matplotlib/axes/_base.py:276: FutureWarning: Support for multi-dimensional indexing (e.g. `obj[:, None]`) is deprecated and will be removed in a future version.  Convert to a numpy array before indexing instead.\n",
      "  x = x[:, np.newaxis]\n",
      "/opt/anaconda3/lib/python3.7/site-packages/matplotlib/axes/_base.py:278: FutureWarning: Support for multi-dimensional indexing (e.g. `obj[:, None]`) is deprecated and will be removed in a future version.  Convert to a numpy array before indexing instead.\n",
      "  y = y[:, np.newaxis]\n"
     ]
    },
    {
     "data": {
      "image/png": "[encoded data removed]",
      "text/plain": [
       "<Figure size 432x288 with 1 Axes>"
      ]
     },
     "metadata": {
      "needs_background": "light"
     },
     "output_type": "display_data"
    }
   ],
   "source": [
    "# Gráfica 3\n",
    "plt.plot(datosFechas, datosAzimuth)\n",
    "\n",
    "# Carpinteria\n",
    "plt.title(\"Azimuth vs Fecha\")\n",
    "plt.xlabel(\"Fecha [Años]\")\n",
    "plt.ylabel(\"Azimuth [deg]\")\n",
    "plt.grid(visible=True, which='major', color='#666666', linestyle='-')\n",
    "plt.minorticks_on()\n",
    "plt.grid(visible=True, which='minor', color='#999999', linestyle='-', alpha=0.2)\n",
    "\n",
    "# Mostrar la gráfica\n",
    "plt.show()"
   ]
  },
  {
   "cell_type": "markdown",
   "metadata": {},
   "source": [
    "<a id='exercise3'></a>\n",
    "### (BONO) Ejercicio 3: Comportamiento Estadístico Mensual\n",
    "\n",
    "En la carpeta `data` dentro de `week2` se dispone el archivo `SD_5Min.xlsx` que contiene las **mediciones** de los valores de producción de la planta solar fotovoltaica ubicada en el edificio Santo Domingo de la Universidad de los Andes, desde 1-Agosto-2019 hasta 30-Junio-2021.\n",
    "\n",
    "<div class=\"alert alert-block alert-warning\">\n",
    "    \n",
    "Escriba un algoritmo que permita obtener los valores máximo, promedio y mínimo para todos los días de un mes durante cada instante de tiempo. Es decir:\n",
    "\n",
    "<img src='./img/table_excercise.png' width='650'/>\n",
    "\n",
    "Note que:\n",
    "- La primera columna contiene las estampas de tiempo para un día completo, es decir, un dato cinco minutal desde las 00:00 hasta las 23:55.\n",
    "- Se tiene una columna de datos de irradiancia por día; es decir, 30 o 31 columnas de datos.\n",
    "- Se agregan las columnas de interés: mínimo, promedio y máximo. Estas son columnas calculadas con las 30 o 31 columnas de datos. Por ejemplo:\n",
    "    - Columna: Mínimo, Fila: 11:55 -> min(800, 700, 880, ..., 630) = 630\n",
    "    - Columna: Promedio, Fila: 12:00 -> mean(850, 680, 930, ..., 720) = 795\n",
    "    - Columna: Máximo, Fila: 12:05 -> max(1010, 810, 850, ..., 760) = 1010\n",
    "- La gráfica se genera al graficar en una misma figura: (i.) Tiempo vs Mín, (ii.) Tiempo vs Prom, (iii.) Tiempo vs. Max.\n",
    "</div>\n",
    "\n",
    "___\n",
    "\n",
    "**Ejemplo** <br>\n",
    "<font color=\"#FF5733\">Output</font>\n",
    "<img src='./img/irradiance_per_minute.png' width='750'/>\n",
    "\n",
    "**Nota:** Solo se solicita la gráfica de los datos mínimo, promedio y máximo, es decir, los marcadores color azul, verde y naranja en esta figura.\n",
    "___"
   ]
  },
  {
   "cell_type": "code",
   "execution_count": null,
   "metadata": {},
   "outputs": [],
   "source": []
  }
 ],
 "metadata": {
  "kernelspec": {
   "display_name": "Python 3 (ipykernel)",
   "language": "python",
   "name": "python3"
  },
  "language_info": {
   "codemirror_mode": {
    "name": "ipython",
    "version": 3
   },
   "file_extension": ".py",
   "mimetype": "text/x-python",
   "name": "python",
   "nbconvert_exporter": "python",
   "pygments_lexer": "ipython3",
   "version": "3.11.0"
  },
  "toc": {
   "base_numbering": 1,
   "nav_menu": {},
   "number_sections": false,
   "sideBar": true,
   "skip_h1_title": true,
   "title_cell": "Table of Contents",
   "title_sidebar": "Contents",
   "toc_cell": false,
   "toc_position": {},
   "toc_section_display": true,
   "toc_window_display": false
  }
 },
 "nbformat": 4,
 "nbformat_minor": 2
}
